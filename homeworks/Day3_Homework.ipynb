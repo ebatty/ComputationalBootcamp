{
  "nbformat": 4,
  "nbformat_minor": 0,
  "metadata": {
    "colab": {
      "name": "Day3_Homework.ipynb",
      "provenance": [],
      "collapsed_sections": [],
      "include_colab_link": true
    },
    "kernelspec": {
      "name": "python3",
      "display_name": "Python 3"
    },
    "language_info": {
      "name": "python"
    }
  },
  "cells": [
    {
      "cell_type": "markdown",
      "metadata": {
        "id": "view-in-github",
        "colab_type": "text"
      },
      "source": [
        "<a href=\"https://colab.research.google.com/github/QMBC-Python/QMBC-Python.github.io/blob/main/homeworks/Day3_Homework.ipynb\" target=\"_parent\"><img src=\"https://colab.research.google.com/assets/colab-badge.svg\" alt=\"Open In Colab\"/></a>"
      ]
    },
    {
      "cell_type": "markdown",
      "source": [
        "# Homework 3"
      ],
      "metadata": {
        "id": "WvHLm8jNohk1"
      }
    },
    {
      "cell_type": "code",
      "source": [
        "import numpy as np\n",
        "import matplotlib.pyplot as plt"
      ],
      "metadata": {
        "id": "eg_ZsNVreaS3"
      },
      "execution_count": null,
      "outputs": []
    },
    {
      "cell_type": "markdown",
      "source": [
        "## Section 1: Function Fun"
      ],
      "metadata": {
        "id": "qxHc3l_vdGu6"
      }
    },
    {
      "cell_type": "markdown",
      "source": [
        "1) Write a function which takes numbers `(x, y, z)`. The default of z should be 10. Have it create `z` random integers that are evenly likely to be anywhere between `x` and `y` (up to but not including y, as is traditional in python).\n",
        "\n",
        "Do not use `np.random.randint`, which is a function that does this... Only use `np.random.rand` from the random family. \n",
        "\n",
        "Pull out all the stops for this one. Check the inputs make sense and have error messages if they don't. Use a doc string and comment your code. Convince yourself that your function does what you want by testing some aspects of it.\n",
        "\n",
        "Use code dump for the function AND your tests of it(https://codedump.xyz/) and share the url here. We will review this code."
      ],
      "metadata": {
        "id": "SxlOwskQeRbJ"
      }
    },
    {
      "cell_type": "code",
      "source": [
        ""
      ],
      "metadata": {
        "id": "iaSvuFcLcTz7"
      },
      "execution_count": null,
      "outputs": []
    },
    {
      "cell_type": "markdown",
      "source": [
        "## Section 2: Aneuploidy Exercise\n",
        "\n",
        "**Background:** Cancer cells are often aneuploid, which means they have gained or lost copies of certain chromosomes. Some wild strains of yeast also show this property, sometimes in response to extreme stress, but also as an apparently normal variation.  \n",
        "\n",
        "**Glossary:**\n",
        "\n",
        "Reminder: chromosomes are made up of DNA. Genes are contained in chromosomes. Each chromosome contains hundreds to thousands of genes. \n",
        "\n",
        "*Aneuploid*: The occurrence of extra or missing chromosomes\n",
        "\n",
        "*Euploid*: Having the normal number of chromosomes for a species\n",
        "\n",
        "*Gene expression*: the process by which DNA is converted into a functional product, first to RNA then to protein.\n",
        "\n",
        "**Data:** The data are in an Excel spreadsheet, AneuploidStrains_cropped.xlsx, located here: https://osf.io/hxvfb/. Download it and open in excel so you can take a look at the actual data, but the next cell loads it in automatically. \n",
        "\n",
        "A DNA and RNA sequencing experiment was performed on several closely related yeast strains. For each gene, DNA sequencing gives us the number of copies of that gene in the DNA. RNA sequencing gives us the amount of expression of that gene (how much it's actually being converted to RNA/proteins). \n",
        "\n",
        "**Each column is a comparison of relative number of copies (DNA data) or gene expression levels (RNA data) between two yeast strains. Each row is a different gene (the gene names are in column A).**\n",
        "\n",
        "For example, column B compares strain YJM418 with strain YJM308. There are a total of 6 pairs of comparisons for both DNA (colored blue; columns B - G) and RNA (colored black, columns H - R). Each cell contains a value that is log2 of the **ratio** of the # of copies/gene expression level for the left-hand strain (e.g. YJM428) divided by the # of copies/gene expression level for the right-hand strain (e.g. YJM308).  So for example, the value in cell 3D of -0.196583 means that the ratio of YJM428 / YJM328 was 0.87 for this particular gene.\n",
        "\n",
        "If all the copy #s of each gene were identical between the two strains, all of the values would be 0. Each comparison is between an aneuploid strain (the strain of interest) and a euploid strain, so we can compare the number of copies of the gene/gene expression of the aneuploid strain to what is \"normal\".\n",
        "\n",
        "The DNA data provides only 1 replicate for each gene, whereas the RNA data often contains replicates (repeated experiments). For example, columns H and I are replicates as indicated by the 'rep1' and 'rep 2'at the end of the name.\n",
        "\n",
        "**Scientific questions:** Since these yeast cells are aneuploid (having extra or missing chromosomes), we should be able to detect which chromosome is extra or missing from the DNA sequencing data. If you have an extra copy of a chromosome, you'd expect to see more copies of the genes associated with that chromosome. This question of which chromosome is repeated or missing is what we will focus on in this homework. In particular, we will focus on the yeast strain YPS1009.\n",
        "\n",
        "We can also dive much deeper into the data to answer some pretty interesting scientific questions. Does aneuploidy lead to widespread changes in gene expression? Is RNA expression correlated directly to DNA copy number (the number of repeats of each gene)? Or are copy number variations suppressed (or exaggerated)? In other words, say one chromosome is doubled and we have double the copies of each gene on that chromosome - is the gene expression of each gene also doubled? "
      ],
      "metadata": {
        "id": "7RXY-8I_dISp"
      }
    },
    {
      "cell_type": "code",
      "source": [
        "import requests\n",
        "import pandas as pd\n",
        "import io\n",
        "\n",
        "r = requests.get('https://osf.io/hxvfb/download')\n",
        "\n",
        "df = pd.read_excel(io.BytesIO(r.content), index_col=0)\n",
        "\n",
        "df.head()"
      ],
      "metadata": {
        "id": "ttAjRIaIdLXh"
      },
      "execution_count": null,
      "outputs": []
    },
    {
      "cell_type": "markdown",
      "source": [
        "This is in a pandas dataframe ( a great way of storing this data) but since we haven't seen pandas yet, I convert it in the next cell. `headers` is a list of the column headers (so a list of strings), `gene_names` is a list of the gene names corresponding to each row, and `data` is the numerical data (with the number of rows equal to the length of gene_names and the number of columns equal to the length of headers)"
      ],
      "metadata": {
        "id": "G75p-328K5Ix"
      }
    },
    {
      "cell_type": "code",
      "source": [
        "headers = list(df.columns)\n",
        "gene_names = list(df.index)\n",
        "\n",
        "data = np.array(df).astype('float')"
      ],
      "metadata": {
        "id": "tR5XlHVvLX1z"
      },
      "execution_count": null,
      "outputs": []
    },
    {
      "cell_type": "markdown",
      "source": [
        "This file contains DNA and RNA counts across all genes for the aneuploid strain YPS1009 (in addition to others). The DNA data has already been normalized to a euploid strain (meaning a strain that has the normal number of chromosomes).\n",
        "\n",
        "2) Use code to find the index of the column of the numerical data the DNA is in. The header should contain both `YPS1009` and `DNA`. Enter your code.\n",
        "\n",
        "Open the hidden cells at the end for hints 1 if you get stuck."
      ],
      "metadata": {
        "id": "bCB8HMOZokhl"
      }
    },
    {
      "cell_type": "code",
      "source": [
        ""
      ],
      "metadata": {
        "id": "hdg_Qw5lAaKd"
      },
      "execution_count": null,
      "outputs": []
    },
    {
      "cell_type": "markdown",
      "source": [
        "3) Extract the DNA data. What are the first 3 values of the DNA column?"
      ],
      "metadata": {
        "id": "PF5yfXlLpBDe"
      }
    },
    {
      "cell_type": "code",
      "source": [
        ""
      ],
      "metadata": {
        "id": "FC2tDP6eAbe7"
      },
      "execution_count": null,
      "outputs": []
    },
    {
      "cell_type": "markdown",
      "source": [
        "4) \n",
        "\n",
        "**Gene naming:** \n",
        "\n",
        "Yeast gene names follow this convention: \n",
        "\n",
        "Y (for 'yeast')\n",
        "\n",
        "A single letter A through P for the chromosome # (yeast have 16 chromosomes)\n",
        "\n",
        "The letter L or R for whether the gene is left or right of the centromere\n",
        "\n",
        "\"###\", a 3-digit number specifying its original position with respect to the centromere\n",
        "\n",
        "The letter C or W specifying whether the gene is on the Watson or the Crick strand.\n",
        "\n",
        "So, the gene YBL002W would be on yeast chromosome 2, the 2nd gene to the left of the centromere, on the Watson strand.\n",
        "\n",
        "YAL001W is the first gene on the left arm of chromosome 1 (watson strand).  \n",
        "\n",
        "What will the chromosome prefix for chromosome 12 be? Remember that it will be the letter from A to P that represents the chromosome number (16 letters for 16 chromosomes)\n"
      ],
      "metadata": {
        "id": "O5hE2Odapr7C"
      }
    },
    {
      "cell_type": "markdown",
      "source": [
        "Later, we will want to loop over chromosome number so we want to write code that gets the letter chromosome prefix. \n",
        "\n",
        "\n",
        "In other words, given just the number 12, what code would return the correct prefix ('YL')?  Enter your code\n",
        "\n"
      ],
      "metadata": {
        "id": "X-8QCy-K6LeO"
      }
    },
    {
      "cell_type": "code",
      "source": [
        "\n"
      ],
      "metadata": {
        "id": "sEAwGZCpAdCv"
      },
      "execution_count": null,
      "outputs": []
    },
    {
      "cell_type": "markdown",
      "source": [
        "5) Write code that will find the indices of the gene names (`gene_names`) corresponding to chromosome 12 (in other words, indices of the relevant rows). You could also make an Boolean array if you prefer.\n",
        "\n",
        "Click on hints 2, 3, and 4 below one at a time if you get stuck (but try it for a bit first!)."
      ],
      "metadata": {
        "id": "4ja6QTlm6YFM"
      }
    },
    {
      "cell_type": "code",
      "source": [
        ""
      ],
      "metadata": {
        "id": "Dtyl9KyyAeBH"
      },
      "execution_count": null,
      "outputs": []
    },
    {
      "cell_type": "markdown",
      "source": [
        "6) How many genes are on chromosome 12? Check out hint 5 if stuck. "
      ],
      "metadata": {
        "id": "cWzUCqVx7Lr9"
      }
    },
    {
      "cell_type": "code",
      "source": [
        ""
      ],
      "metadata": {
        "id": "Mb_HMd7YAeyW"
      },
      "execution_count": null,
      "outputs": []
    },
    {
      "cell_type": "markdown",
      "source": [
        "7) Compute the average \"DNA level\" for chromosome 12.The DNA level for one chromosome will be the mean of the DNA level for all the genes of that chromosome. By DNA level, we mean the ratio data contained in the excel sheet - the number of copies of the aneuploid strain over the number of copies in the euploid condition. Check out `np.nanmean` instead of `np.mean`\n",
        "\n",
        "Check out hint 6 if stuck.\n",
        "\n"
      ],
      "metadata": {
        "id": "WMRNKOARlj9M"
      }
    },
    {
      "cell_type": "code",
      "source": [
        ""
      ],
      "metadata": {
        "id": "JNt6uvEXmE2O"
      },
      "execution_count": null,
      "outputs": []
    },
    {
      "cell_type": "markdown",
      "source": [
        "8) Put it all together. Calculate and store the average DNA level for each of the 16 chromosomes for the yeast YSP1009 separately. \n",
        "\n",
        "Paste your code"
      ],
      "metadata": {
        "id": "k75MKRHB7bp4"
      }
    },
    {
      "cell_type": "code",
      "source": [
        ""
      ],
      "metadata": {
        "id": "XN1qrFqPAfoK"
      },
      "execution_count": null,
      "outputs": []
    },
    {
      "cell_type": "markdown",
      "source": [
        "9) Plot DNA level vs chromosome (should have computed for the previous part). Remember that this data has already been normalized to a euploid strain so a value of 0 means the same number of gene copies were found in the aneuploid strain and euploid strain. Which chromosome(s) is aneuploid?"
      ],
      "metadata": {
        "id": "z15rN5MGj73c"
      }
    },
    {
      "cell_type": "code",
      "source": [
        ""
      ],
      "metadata": {
        "id": "rJT1HEQzAgdg"
      },
      "execution_count": null,
      "outputs": []
    },
    {
      "cell_type": "markdown",
      "source": [
        "## Hints"
      ],
      "metadata": {
        "id": "ZsMN7KowiTBj"
      }
    },
    {
      "cell_type": "code",
      "source": [
        "# @markdown Hint 1\n",
        "\"\"\"\n",
        "Maybe you could loop over the possible headers\n",
        "\n",
        "For header, you want to check if both conditions (YSP1009/DNA) are true\n",
        "\n",
        "How do you check if a substring is present in a string? (covered in strings video)\n",
        "\"\"\";"
      ],
      "metadata": {
        "cellView": "form",
        "id": "pEW3iWwwiTuX"
      },
      "execution_count": null,
      "outputs": []
    },
    {
      "cell_type": "code",
      "source": [
        "# @markdown Hint 2\n",
        "\n",
        "\"\"\"\n",
        "We want to find the indices of the gene names (in `gene_names`) \n",
        "that contain the chromosome prefix YL\n",
        "\"\"\";"
      ],
      "metadata": {
        "cellView": "form",
        "id": "QAvDytAkidt_"
      },
      "execution_count": null,
      "outputs": []
    },
    {
      "cell_type": "code",
      "source": [
        "# @markdown Hint 3\n",
        "\"\"\"\n",
        "Maybe you could loop over gene names and check the condition\n",
        "\"\"\";"
      ],
      "metadata": {
        "id": "jYwe4Y5fjfRc",
        "cellView": "form"
      },
      "execution_count": null,
      "outputs": []
    },
    {
      "cell_type": "code",
      "source": [
        "# @markdown Hint 4\n",
        "\"\"\"\n",
        "You need a way of storing \n",
        "the relevant row indices. Maybe you could use a list and append to it\n",
        "\"\"\";"
      ],
      "metadata": {
        "id": "KDamEfD_jnYN",
        "cellView": "form"
      },
      "execution_count": null,
      "outputs": []
    },
    {
      "cell_type": "code",
      "source": [
        "# @markdown Hint 5\n",
        "\"\"\"\n",
        "This would be all the genes that have 'YL' in their name, aka all the genes you found in the prior part.\n",
        "\"\"\";"
      ],
      "metadata": {
        "cellView": "form",
        "id": "8kSqLOCam3sD"
      },
      "execution_count": null,
      "outputs": []
    },
    {
      "cell_type": "code",
      "source": [
        "# @markdown Hint 6\n",
        "\"\"\"\n",
        "Remember that in question 2, you found the \n",
        "DNA column for this yeast strain and from\n",
        " question 5, you have which genes (rows) \n",
        " correspond to chromosome 12.  \n",
        "\"\"\";"
      ],
      "metadata": {
        "cellView": "form",
        "id": "enAZy7xAmsXL"
      },
      "execution_count": null,
      "outputs": []
    }
  ]
}