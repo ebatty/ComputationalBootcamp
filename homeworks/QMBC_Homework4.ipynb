{
  "nbformat": 4,
  "nbformat_minor": 0,
  "metadata": {
    "colab": {
      "name": "QMBC_Homework4.ipynb",
      "provenance": [],
      "collapsed_sections": [],
      "authorship_tag": "ABX9TyOW27EyatUF4ZNAemtkXx2O",
      "include_colab_link": true
    },
    "kernelspec": {
      "name": "python3",
      "display_name": "Python 3"
    },
    "language_info": {
      "name": "python"
    }
  },
  "cells": [
    {
      "cell_type": "markdown",
      "metadata": {
        "id": "view-in-github",
        "colab_type": "text"
      },
      "source": [
        "<a href=\"https://colab.research.google.com/github/QMBC-Python/QMBC-Python.github.io/blob/main/homeworks/QMBC_Homework4.ipynb\" target=\"_parent\"><img src=\"https://colab.research.google.com/assets/colab-badge.svg\" alt=\"Open In Colab\"/></a>"
      ]
    },
    {
      "cell_type": "markdown",
      "source": [
        "# Homework 4"
      ],
      "metadata": {
        "id": "Y-3SpU9SAM6l"
      }
    },
    {
      "cell_type": "code",
      "execution_count": null,
      "metadata": {
        "id": "gj-dBkQM0zCk"
      },
      "outputs": [],
      "source": [
        "import numpy as np\n",
        "import matplotlib.pyplot as plt"
      ]
    },
    {
      "cell_type": "markdown",
      "source": [
        "## Section 1: 4-choice probability"
      ],
      "metadata": {
        "id": "fLHhFWRCA6-r"
      }
    },
    {
      "cell_type": "markdown",
      "source": [
        "1) The figures below show two sets of 25 histograms. One set was generated with random draws from the uniform discrete distribution (i.e. 1,2,3 or 4 with equal probability); for the other set, some of the histograms were \"tweaked\" a little. Which set of histograms are truly random?"
      ],
      "metadata": {
        "id": "-jE0D1L80_5Q"
      }
    },
    {
      "cell_type": "markdown",
      "source": [
        "![picture](https://raw.githubusercontent.com/QMBC-Python/QMBC-Python.github.io/main/images/histogram_examples.png)"
      ],
      "metadata": {
        "id": "2s_WIpsS1hiK"
      }
    },
    {
      "cell_type": "code",
      "source": [
        ""
      ],
      "metadata": {
        "id": "V7xyyRPlADgt"
      },
      "execution_count": null,
      "outputs": []
    },
    {
      "cell_type": "markdown",
      "source": [
        "2) On August 7, 2017, 47 people picked a random number from 1 to 4 (inclusive). Here is the distribution of responses: 4 people picked 1, 14 picked 2, 20 picked 3, 9 picked 4."
      ],
      "metadata": {
        "id": "uX1X7SY01EPg"
      }
    },
    {
      "cell_type": "markdown",
      "source": [
        "![picture](https://raw.githubusercontent.com/QMBC-Python/QMBC-Python.github.io/main/images/choice_probs.png)"
      ],
      "metadata": {
        "id": "yTJrAi9d2Kul"
      }
    },
    {
      "cell_type": "markdown",
      "source": [
        "Do students prefer the number 3 over other numbers? Given 47 draws from a uniform discrete random distribution over [1,4], what is the probability of getting the number 3, 20 or more times?\n"
      ],
      "metadata": {
        "id": "F0mhyrma2RBf"
      }
    },
    {
      "cell_type": "code",
      "source": [
        ""
      ],
      "metadata": {
        "id": "YXitgWteAAWA"
      },
      "execution_count": null,
      "outputs": []
    },
    {
      "cell_type": "markdown",
      "source": [
        "3) What is your conclusion?"
      ],
      "metadata": {
        "id": "KWZryIhl3VZW"
      }
    },
    {
      "cell_type": "code",
      "source": [
        ""
      ],
      "metadata": {
        "id": "H9OFpNJFAAm_"
      },
      "execution_count": null,
      "outputs": []
    },
    {
      "cell_type": "markdown",
      "source": [
        "4) What if we are not interested in the number 3 in particular, but in the question of whether any number gets picked more often than the the  criterion? What is your p-value then?\n",
        "\n"
      ],
      "metadata": {
        "id": "p-4_qv0F32pf"
      }
    },
    {
      "cell_type": "code",
      "source": [
        ""
      ],
      "metadata": {
        "id": "jS90wG2rAA8f"
      },
      "execution_count": null,
      "outputs": []
    },
    {
      "cell_type": "markdown",
      "source": [
        "5) What is the relationship between the p-value you obtained for this\n",
        "% question and the one for question #2? Would you have needed to run this\n",
        "% simulation to get the answer, knowing the answer from question #2?"
      ],
      "metadata": {
        "id": "6hanGnuQ4Aee"
      }
    },
    {
      "cell_type": "code",
      "source": [
        ""
      ],
      "metadata": {
        "id": "b1ko4NJlABSH"
      },
      "execution_count": null,
      "outputs": []
    },
    {
      "cell_type": "markdown",
      "source": [
        "6) For 65 people \"randomly\" picking a number from 1 to 4 (inclusive) what is the smallest number of picks, k, of any given number that would cause you to reject the null hypothesis (randomness) at p < 0.05?\n",
        "\n",
        "Note: In this case, we want to reject H0 if EITHER 1 or 2 or 3 or 4 is picked more than k times."
      ],
      "metadata": {
        "id": "NhdNUaGu6iCa"
      }
    },
    {
      "cell_type": "code",
      "source": [
        ""
      ],
      "metadata": {
        "id": "AvGsdDKRABp-"
      },
      "execution_count": null,
      "outputs": []
    },
    {
      "cell_type": "markdown",
      "source": [
        "## Section 2: Galton Board\n",
        "\n",
        "*RTB wrote Matlab version 01 August 2017, hot summer day listening to Tales from Topographic Oceans. ERB converted to Python 10 January, 20122, cold winter day watching Miranda*"
      ],
      "metadata": {
        "id": "6siL8LHWA-Av"
      }
    },
    {
      "cell_type": "markdown",
      "source": [
        "7) Francis Galton (1822-1911) developed a mechanical device that would generate a binomial distribution. Watch this short video to see how it works: https://www.youtube.com/watch?v=6YDHBFVIvIs\n",
        "\n",
        "Use code to simulate 10,000 balls going through a Galton board with 16 rows of pins (i.e. each ball makes 16 L/R decisions). \n",
        "\n",
        "Post a figure showing their final distribution. Make sure to label your axes!\n",
        "\n",
        "Note: Prior to running your simulation, set the numpy random number generator to a seed of 0 so that we all get the same answer"
      ],
      "metadata": {
        "id": "VRsINtegBOFE"
      }
    },
    {
      "cell_type": "code",
      "source": [
        "# Set random seed\n",
        "np.random.seed(0)\n",
        "\n"
      ],
      "metadata": {
        "id": "kd8zemFnBD5T"
      },
      "execution_count": null,
      "outputs": []
    },
    {
      "cell_type": "markdown",
      "source": [
        "8) You probably noticed that your histogram for the last question looked pretty close to a bell-shaped curve (a.k.a. Gaussian or Normal distribution).\n",
        "\n",
        "Use `scipy.stats.binomial.pmf` to calculate the probability of getting a ball in the middle bin (i.e. it makes 8 right and 8 left turns in any order)."
      ],
      "metadata": {
        "id": "Gh3kckDOERrS"
      }
    },
    {
      "cell_type": "code",
      "source": [
        ""
      ],
      "metadata": {
        "id": "obguxGne_4a1"
      },
      "execution_count": null,
      "outputs": []
    },
    {
      "cell_type": "markdown",
      "source": [
        "9) Use the normal approximation ('scipy.stats.norm') to make the same calculation. \n",
        "\n",
        "The arguments that parameterize the normal distribution are the mean and the standard deviation. You need to figure out how to calculate the mean and the standard deviation of a binomial distribution (which is parameterized by the number of trials, n, and the probability of success on each trial, p). \n",
        "\n",
        "Keeping in mind that the mean is the \"expectation\" (i.e. the value of x with the maximum expected value), what is the mean number of heads you'd expect if you flipped a fair coin (p = 0.5) 16 times?\n",
        "\n",
        " The standard deviation is a little trickier, but you can look it up!"
      ],
      "metadata": {
        "id": "KAacRR-3Enrh"
      }
    },
    {
      "cell_type": "code",
      "source": [
        ""
      ],
      "metadata": {
        "id": "cIAthi9R_5Tl"
      },
      "execution_count": null,
      "outputs": []
    },
    {
      "cell_type": "markdown",
      "source": [
        "10) Which of your two numbers is more accurate?"
      ],
      "metadata": {
        "id": "PF8JgWyVE8Dt"
      }
    },
    {
      "cell_type": "code",
      "source": [
        ""
      ],
      "metadata": {
        "id": "AElHfwHa_7Mt"
      },
      "execution_count": null,
      "outputs": []
    },
    {
      "cell_type": "markdown",
      "source": [
        "11) What is your estimate of the same probability (i.e. a ball landing in the middle) based on your simulation?"
      ],
      "metadata": {
        "id": "ONL7O4EUFIql"
      }
    },
    {
      "cell_type": "code",
      "source": [
        ""
      ],
      "metadata": {
        "id": "UOGNjDmZ_77N"
      },
      "execution_count": null,
      "outputs": []
    }
  ]
}