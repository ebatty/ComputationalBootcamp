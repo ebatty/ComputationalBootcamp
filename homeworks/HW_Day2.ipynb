{
  "nbformat": 4,
  "nbformat_minor": 0,
  "metadata": {
    "colab": {
      "name": "HW_Day2.ipynb",
      "provenance": [],
      "collapsed_sections": [],
      "authorship_tag": "ABX9TyOIa2IgV+VLWie4BtXPKtfc",
      "include_colab_link": true
    },
    "kernelspec": {
      "name": "python3",
      "display_name": "Python 3"
    },
    "language_info": {
      "name": "python"
    }
  },
  "cells": [
    {
      "cell_type": "markdown",
      "metadata": {
        "id": "view-in-github",
        "colab_type": "text"
      },
      "source": [
        "<a href=\"https://colab.research.google.com/github/QMBC-Python/QMBC-Python.github.io/blob/main/homeworks/HW_Day2.ipynb\" target=\"_parent\"><img src=\"https://colab.research.google.com/assets/colab-badge.svg\" alt=\"Open In Colab\"/></a>"
      ]
    },
    {
      "cell_type": "markdown",
      "source": [
        "# Homework 2\n",
        "Quantitative Methods for Biologists (Python),\n",
        "J-term 2022\n",
        "\n",
        "Materials originally in Matlab by Rick Born & Mike Springer, adapted to Python by Ella Batty January 2022\n"
      ],
      "metadata": {
        "id": "ulE7OUdhudU4"
      }
    },
    {
      "cell_type": "code",
      "source": [
        "import numpy as np\n",
        "import matplotlib.pyplot as plt"
      ],
      "metadata": {
        "id": "U6sBe240wyBG"
      },
      "execution_count": null,
      "outputs": []
    },
    {
      "cell_type": "markdown",
      "source": [
        "# Section 1: Loops, conditionals, and arrays"
      ],
      "metadata": {
        "id": "E3pR7Y0zL73D"
      }
    },
    {
      "cell_type": "markdown",
      "source": [
        "**Problem 1**: Consider the following code:\n",
        "\n",
        "```\n",
        "x = 0\n",
        "for i in range(0, 10, 2):\n",
        "    x += 1\n",
        "```\n",
        "\n",
        "How many times will the loop run? Try to answer by thinking through the code, instead of running it\n",
        "\n"
      ],
      "metadata": {
        "id": "XrWGa9oaMO9P"
      }
    },
    {
      "cell_type": "code",
      "source": [
        ""
      ],
      "metadata": {
        "id": "VhX3YNZ_fDT3"
      },
      "execution_count": null,
      "outputs": []
    },
    {
      "cell_type": "markdown",
      "source": [
        "**Problem 2:** In the following code, what's the chance that A will equal 1?\n",
        "\n",
        "Try answering by thinking through the code, not by running it\n",
        "\n",
        "\n",
        "\n",
        "```\n",
        "A = np.ceil(np.random.rand()*100)\n",
        "\n",
        "if A % 10 != 2:\n",
        "  A = 1\n",
        "else:\n",
        "  A = 2\n",
        "```\n",
        "\n"
      ],
      "metadata": {
        "id": "kmakI830M9pc"
      }
    },
    {
      "cell_type": "code",
      "source": [
        ""
      ],
      "metadata": {
        "id": "xjNHeniJfEnG"
      },
      "execution_count": null,
      "outputs": []
    },
    {
      "cell_type": "markdown",
      "source": [
        "**Problem 3:** What does this code do? Think big picture (try to figure it out without running the code first).\n",
        "\n",
        "Note: this one is pretty hard so give it a try but don't get stuck on it.\n",
        "\n",
        "```\n",
        "a = np.round(np.random.rand() * 100).astype('int')\n",
        "\n",
        "p = 0\n",
        "while p == 0:\n",
        "\n",
        "  p = 1\n",
        "  for x in range(2, a // 2):\n",
        "    if a % x == 0:\n",
        "      p = 0\n",
        "\n",
        "  a += 1\n",
        "a - 1\n",
        "```\n",
        "\n",
        "\n"
      ],
      "metadata": {
        "id": "RPOibjMUQ4dP"
      }
    },
    {
      "cell_type": "markdown",
      "source": [
        "**Problem 4:** In a single line of code, create `a`, a 10 by 10 array where all values are zero except along the diagonal where all values equal 5 (Hint: use the `np.eye` function, look up documentation on it).\n",
        "\n",
        "Enter the line of code"
      ],
      "metadata": {
        "id": "L5HqzSLO3e64"
      }
    },
    {
      "cell_type": "code",
      "source": [
        ""
      ],
      "metadata": {
        "id": "B2r7XKfYfGgL"
      },
      "execution_count": null,
      "outputs": []
    },
    {
      "cell_type": "markdown",
      "source": [
        "**Problem 5:** Starting with the `a` array you just created, and using a single line of code: to each element of the sixth row and eigth row of the array `a`, add double the value of the element in the sixth row, six column of array `a`."
      ],
      "metadata": {
        "id": "cjqKHQ6Z9UrM"
      }
    },
    {
      "cell_type": "code",
      "source": [
        ""
      ],
      "metadata": {
        "id": "qOy2kJNDfHUw"
      },
      "execution_count": null,
      "outputs": []
    },
    {
      "cell_type": "markdown",
      "source": [
        "**Problem 6:** Using the same array `a`, use a single line of code to compute the average value of each column of array `a`. Enter the line of code."
      ],
      "metadata": {
        "id": "HjIS_zBq-hI7"
      }
    },
    {
      "cell_type": "code",
      "source": [
        ""
      ],
      "metadata": {
        "id": "WrCpRAzLfIyh"
      },
      "execution_count": null,
      "outputs": []
    },
    {
      "cell_type": "markdown",
      "source": [
        "**Problem 7:** Using the same array, use a single line of code to compute the average value of every third row (1st, 4th, 7th, etc) of the array `a`? Enter the line of code."
      ],
      "metadata": {
        "id": "aQf-JtVv-ywV"
      }
    },
    {
      "cell_type": "code",
      "source": [
        ""
      ],
      "metadata": {
        "id": "Ojkvc44EfJoX"
      },
      "execution_count": null,
      "outputs": []
    },
    {
      "cell_type": "markdown",
      "source": [
        "**Problem 8:** Using array `A`, created below, make a new array `B` that is a normalization of `A` (such that all numbers are between 0 and 1). This is done by first subtracting the smallest number and then dividing by the range (largest number - smallest number) of the array."
      ],
      "metadata": {
        "id": "upwP2dxo_KL4"
      }
    },
    {
      "cell_type": "code",
      "source": [
        ""
      ],
      "metadata": {
        "id": "gly-5q_ifL_7"
      },
      "execution_count": null,
      "outputs": []
    },
    {
      "cell_type": "markdown",
      "source": [
        "**Problem 9:** What is the data attribute `T` of an array? As in `A.T`. Try it out on several different arrays to learn."
      ],
      "metadata": {
        "id": "qAe-akuKAXGf"
      }
    },
    {
      "cell_type": "code",
      "source": [
        ""
      ],
      "metadata": {
        "id": "9GBd3opPAtUK"
      },
      "execution_count": null,
      "outputs": []
    },
    {
      "cell_type": "markdown",
      "source": [
        "# Section 2: Yeast Showdown 1: Image processing\n",
        "\n",
        "**There are hints for this exercise in the following section. You are encouraged to complete the exercise first without reading these hints. Once you are done, or if you are having trouble, this will break down the exercise into more manageable chunks.**\n",
        "\n",
        "We are interested in how signaling pathways evolve and how cells integrate multiple signals. To study this we use budding yeast. \n",
        "\n",
        "In this experiment, we compare the response of two different strains of yeast both grown in a mixture of 0.5% galactose and 0.0625% glucose.  To minimize variability we coculture the two different strains thereby ensuring that both strains of yeast are exposed to the same external environment. In order to differentiate between the two strains, one strain constitutively expresses a red fluorescent protein (RFP) while the other strain constitutively expresses a blue fluorescent protein (BFP).  \n",
        "\n",
        "Both strains have a yellow fluorescent reporter (YFP) that is expressed when cells respond to galactose – the promoter driving YFP is that of a gene needed for galactose metabolism. So the cells of one strain will show up in RFP images, the cells of the other strain will show up in BFP images. And the cells of either strain will show up in the YFP images if the cell responses to galactose.\n",
        "\n",
        "**The Experiment**\n",
        "\n",
        "You inoculate a tube of growth media with both yeast strains, let them grow, and image the cells under the microscope. You take separate images for differential interference contrast (DIC), RFP, BFP and YFP. The DIC image does not excite the fluorophores – all cells look similar. The RFP, BFP, and YFP pictures use special filters to excite and detect the respective fluorophore. Now, you want to determine if the two strains differ in their response to galactose.\n",
        "\n",
        "There are four images corresponding to time 2 in the time course experiment: DIC_Time2, RFP_Time2, BFP_Time2, and YFP_Time2. The following cell loads in these images into arrays `DIC`, `RFP`, `BFP`, and `YFP`.\n",
        "\n",
        "1) To explore the data:\n",
        "\n",
        "a) Visualize each of the images separately\n",
        "\n",
        "b) If you overlay the fluorescent images (BFP, YFP, and RFP), what do you expect to see? Overlay them to form a single image. Because of camera settings, each of the different images can be on different intensity scales; make sure to normalize each image so that each image contains pixels from a minimum of 0 to a maximum of 1. Are there any colors that you didn't expect to see? How could this happen?\n",
        "\n",
        "2) Do the pixels come from RFP or BFP cells have a higher YFP value? What's the mean and standard deviation of each group of pixels?\n",
        "\n",
        "Extra:\n",
        "\n",
        "1) Is the difference in YFP intensity significant?\n",
        "\n",
        "2) Find the background YFP level for the image (the YFP values from outside the cells). When you take into account the background is the difference still significant?"
      ],
      "metadata": {
        "id": "AqfeCoK8UjY-"
      }
    },
    {
      "cell_type": "code",
      "source": [
        "import requests\n",
        "import io\n",
        "\n",
        "r = requests.get('https://osf.io/tepzq/download')\n",
        "DIC = plt.imread(io.BytesIO(r.content), 0) \n",
        "\n",
        "r = requests.get('https://osf.io/ma9vp/download')\n",
        "RFP = plt.imread(io.BytesIO(r.content), 0) \n",
        "\n",
        "r = requests.get('https://osf.io/ew72f/download')\n",
        "BFP = plt.imread(io.BytesIO(r.content), 0) \n",
        "\n",
        "r = requests.get('https://osf.io/zc9g8/download')\n",
        "YFP = plt.imread(io.BytesIO(r.content), 0) "
      ],
      "metadata": {
        "id": "eb9ECYrXUliG"
      },
      "execution_count": null,
      "outputs": []
    },
    {
      "cell_type": "code",
      "source": [
        ""
      ],
      "metadata": {
        "id": "HhRktDO0fThG"
      },
      "execution_count": null,
      "outputs": []
    },
    {
      "cell_type": "code",
      "source": [
        ""
      ],
      "metadata": {
        "id": "dBI8wQsufTkE"
      },
      "execution_count": null,
      "outputs": []
    },
    {
      "cell_type": "code",
      "source": [
        ""
      ],
      "metadata": {
        "id": "x0uiVovufTm6"
      },
      "execution_count": null,
      "outputs": []
    },
    {
      "cell_type": "code",
      "source": [
        ""
      ],
      "metadata": {
        "id": "4_PwlNn3fTpa"
      },
      "execution_count": null,
      "outputs": []
    },
    {
      "cell_type": "code",
      "source": [
        ""
      ],
      "metadata": {
        "id": "g3sBX6jMfTr4"
      },
      "execution_count": null,
      "outputs": []
    },
    {
      "cell_type": "code",
      "source": [
        ""
      ],
      "metadata": {
        "id": "tNGAGS23fTuf"
      },
      "execution_count": null,
      "outputs": []
    },
    {
      "cell_type": "markdown",
      "source": [
        "## Hints for Yeast Showdown\n",
        "\n",
        "You are encouraged to complete the exercise first without reading these hints. Once you are done, or if you are having trouble, this will break down the exercise into more manageable chunks. It is ok if what you did looks very different from this.  In fact, in real life, you will not get hints, so as you read this, ask yourself why the exercise has been broken up into these steps, and what are the advantages (and disadvantages!) of doing the analysis the way we've presented here."
      ],
      "metadata": {
        "id": "cCHh9ljNYtFq"
      }
    },
    {
      "cell_type": "markdown",
      "source": [
        "**1)** To explore the data:\n",
        "\n",
        "**a)** Visualize each of the fluorescent channels separately\n",
        "\n",
        "**i)** Look at one of the pictures with imshow. \n",
        "\n",
        "**ii)** Subplots. Just to confirm that they are all the same field of view, we will put them on the same figure in subplots. Show each of the four images as one corner of a 2 by 2 plot. \n",
        "\n",
        "**b)** If you overlay the fluorescent images (BFP, YFP, and RFP), what do you expect to see? Overlay them to form a single image. Because of camera settings, each of the different images can be on different intensity scales; make sure to normalize each image so that each image contains pixels from a minimum of 0 to a maximum of 1. Are there any colors that you didn't expect to see? How could this happen?\n",
        "\n",
        "Because these images are basically just different ways to view the same picture, we want to store them as such.\n",
        "\n",
        "**i)** Normalize each image and store the result as a new variable. You want to rescale the pixel values in the iamges such that the lowest pixel is 0 and the highest is 1, which preserving the relative intensities of all pixels in between. Which mathematical operations do you need to accomplish this? What do you need to know about the pixel values in each image?\n",
        "\n",
        "**ii)** Make a 3d array and store the three normalized fluorescence images into it. Call that variable `all_channels`, make layer 1 RFP, layer 2 YFP, and layer BFP. This array should be 1024 by 1344 by 3. \n",
        "\n",
        "**iii)** View the image in false-color using imshow. Which colors represent the 1st, 2nd, and 3rd planes by default? What colors do you see in the image? What do each of the colors mean? Is there a color that you did not expect to see given the experiment described above?\n",
        "\n",
        "\n",
        "**2)** Do the pixels that come from RFP or BFP cells have a higher YFP value? What's the mean and standard deviation of each group of pixels?\n",
        "\n",
        "**a)** Make an array that acts as a mask for the RFP channel using a single threshold value. Convert every pixel that is part of the cell into a True and every other pixel into a False. This is called thresholding; it is a very basic type of image processing. View with imshow.\n",
        "\n",
        "**b)** What is the mean YFP pixel intensity of the RFP-labelled cells? The standard deviation? The pixels with value True in the thresholded image from the previous step make up the cells expressing RFP.\n",
        "\n",
        "**c)** Repeat the process for the BFP image. What, if anything, can you conclude about the expression of gene X in the two different genetic backgrounds? What might you need to do to have a more rigorous comparison between the two?\n",
        "\n",
        "**Extra 1.** Is the difference in YFP significant? Think about how to determine if two distributions are significantly different. What assumptions have to be met for this method to be used? Think especially about independence of samples.\n",
        "\n",
        "**Extra 2.** Find the background YFP level for the image (the YFP values from outside the cells). What you take into account the background is the difference still significant?"
      ],
      "metadata": {
        "id": "r4P9UBseZBqS"
      }
    }
  ]
}