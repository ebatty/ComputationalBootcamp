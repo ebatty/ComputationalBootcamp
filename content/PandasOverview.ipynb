{
  "nbformat": 4,
  "nbformat_minor": 0,
  "metadata": {
    "colab": {
      "name": "PandasOverview.ipynb",
      "provenance": [],
      "collapsed_sections": [],
      "authorship_tag": "ABX9TyOpdwzAJny0O9Vg9veiCZ3e",
      "include_colab_link": true
    },
    "kernelspec": {
      "name": "python3",
      "display_name": "Python 3"
    },
    "language_info": {
      "name": "python"
    }
  },
  "cells": [
    {
      "cell_type": "markdown",
      "metadata": {
        "id": "view-in-github",
        "colab_type": "text"
      },
      "source": [
        "<a href=\"https://colab.research.google.com/github/QMBC-Python/QMBC-Python.github.io/blob/main/content/PandasOverview.ipynb\" target=\"_parent\"><img src=\"https://colab.research.google.com/assets/colab-badge.svg\" alt=\"Open In Colab\"/></a>"
      ]
    },
    {
      "cell_type": "markdown",
      "source": [
        "# 1 - Pandas Overview"
      ],
      "metadata": {
        "id": "W8crM_qN3kNH"
      }
    },
    {
      "cell_type": "code",
      "source": [
        "import numpy as np\n",
        "import matplotlib.pyplot as plt"
      ],
      "metadata": {
        "id": "vPoXX-le4BnL"
      },
      "execution_count": null,
      "outputs": []
    },
    {
      "cell_type": "code",
      "source": [
        "#@markdown Video\n",
        "from IPython.display import YouTubeVideo\n",
        "video = YouTubeVideo(id=\"W3d8Ub0f84w\", width=854, height=480, fs=1)\n",
        "print(\"Video available at https://youtube.com/watch?v=\" + video.id)\n",
        "video"
      ],
      "metadata": {
        "colab": {
          "base_uri": "https://localhost:8080/",
          "height": 539
        },
        "cellView": "form",
        "id": "qrNcF6iE_z4w",
        "outputId": "1630fcf1-cc35-44cf-d199-8397262eaa7b"
      },
      "execution_count": 2,
      "outputs": [
        {
          "output_type": "stream",
          "name": "stdout",
          "text": [
            "Video available at https://youtube.com/watch?v=W3d8Ub0f84w\n"
          ]
        },
        {
          "output_type": "execute_result",
          "data": {
            "text/html": [
              "\n",
              "        <iframe\n",
              "            width=\"854\"\n",
              "            height=\"480\"\n",
              "            src=\"https://www.youtube.com/embed/W3d8Ub0f84w?fs=1\"\n",
              "            frameborder=\"0\"\n",
              "            allowfullscreen\n",
              "        ></iframe>\n",
              "        "
            ],
            "text/plain": [
              "<IPython.lib.display.YouTubeVideo at 0x7f8c0ca12810>"
            ],
            "image/jpeg": "[encoded data removed]"
          },
          "metadata": {},
          "execution_count": 2
        }
      ]
    },
    {
      "cell_type": "markdown",
      "source": [
        "## Slides"
      ],
      "metadata": {
        "id": "VSlY-UYpC-sb"
      }
    },
    {
      "cell_type": "code",
      "source": [
        "# @markdown\n",
        "from IPython.display import IFrame\n",
        "IFrame(src=f\"https://docs.google.com/presentation/d/e/2PACX-1vQ5QRiJPi8IVAaweewek0FDGIoGBuK2AbC9acsl9OZ2GTNhmaIquE0Zx-MhefpBdaT_-QArcH2iGPhr/embed?start=false&loop=false&delayms=3000\", width=854, height=480)"
      ],
      "metadata": {
        "colab": {
          "base_uri": "https://localhost:8080/",
          "height": 522
        },
        "cellView": "form",
        "id": "YGqbRgvhCzDj",
        "outputId": "09d6a798-0a3a-4631-dea8-2d362445f52f"
      },
      "execution_count": 4,
      "outputs": [
        {
          "output_type": "execute_result",
          "data": {
            "text/html": [
              "\n",
              "        <iframe\n",
              "            width=\"854\"\n",
              "            height=\"480\"\n",
              "            src=\"https://docs.google.com/presentation/d/e/2PACX-1vQ5QRiJPi8IVAaweewek0FDGIoGBuK2AbC9acsl9OZ2GTNhmaIquE0Zx-MhefpBdaT_-QArcH2iGPhr/embed?start=false&loop=false&delayms=3000\"\n",
              "            frameborder=\"0\"\n",
              "            allowfullscreen\n",
              "        ></iframe>\n",
              "        "
            ],
            "text/plain": [
              "<IPython.lib.display.IFrame at 0x7f8c0c5c13d0>"
            ]
          },
          "metadata": {},
          "execution_count": 4
        }
      ]
    },
    {
      "cell_type": "markdown",
      "source": [
        "<iframe src=\"https://docs.google.com/presentation/d/e/2PACX-1vQ5QRiJPi8IVAaweewek0FDGIoGBuK2AbC9acsl9OZ2GTNhmaIquE0Zx-MhefpBdaT_-QArcH2iGPhr/embed?start=false&loop=false&delayms=3000\" frameborder=\"0\" width=\"960\" height=\"569\" allowfullscreen=\"true\" mozallowfullscreen=\"true\" webkitallowfullscreen=\"true\"></iframe>"
      ],
      "metadata": {
        "id": "vkzilvehDlDl"
      }
    }
  ]
}