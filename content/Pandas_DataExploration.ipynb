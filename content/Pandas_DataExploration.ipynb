{
  "metadata": {
    "kernelspec": {
      "name": "python3",
      "display_name": "Python 3",
      "language": "python"
    },
    "colab": {
      "name": "Pandas_DataExploration.ipynb",
      "provenance": [],
      "collapsed_sections": [],
      "include_colab_link": true
    }
  },
  "nbformat": 4,
  "nbformat_minor": 0,
  "cells": [
    {
      "cell_type": "markdown",
      "metadata": {
        "id": "view-in-github",
        "colab_type": "text"
      },
      "source": [
        "<a href=\"https://colab.research.google.com/github/QMBC-Python/QMBC-Python.github.io/blob/main/content/Pandas_DataExploration.ipynb\" target=\"_parent\"><img src=\"https://colab.research.google.com/assets/colab-badge.svg\" alt=\"Open In Colab\"/></a>"
      ]
    },
    {
      "cell_type": "markdown",
      "source": [
        "# Optional Pandas Practice"
      ],
      "metadata": {
        "id": "hcUBgf7xIcRe"
      }
    },
    {
      "cell_type": "markdown",
      "source": [
        "MoveLens users data exploration\n",
        "We will be exploring a dataset of information about users of MovieLens (a movie recommender system). I will not have gone over every single command - use Google and Pandas documentation!\n",
        "\n",
        "There are not tests of this notebook but you can check the solutions.\n",
        "\n",
        "This dataset is originally from https://grouplens.org/datasets/movielens/100k/.\n",
        "\n",
        "We are using a version hosted by https://github.com/justmarkham/pandas-videos.\n",
        "\n",
        "This exercise is adapted from https://github.com/guipsamora/pandas_exercises.\n",
        "\n",
        "This git repo has many pandas exercises with datasets and solutions - I highly recommend checking it out if you want more practice!"
      ],
      "metadata": {
        "id": "ujR97L87IbgQ"
      }
    },
    {
      "cell_type": "code",
      "execution_count": null,
      "metadata": {
        "id": "8V2kBeCNIXws"
      },
      "outputs": [],
      "source": [
        "import pandas as pd"
      ]
    },
    {
      "cell_type": "markdown",
      "metadata": {
        "id": "D3BHk1iCIXww"
      },
      "source": [
        "We will first load in the dataset of users of MovieLens."
      ]
    },
    {
      "cell_type": "code",
      "execution_count": null,
      "metadata": {
        "id": "eIxZrxPqIXwx"
      },
      "outputs": [],
      "source": [
        "users = pd.read_csv('https://raw.githubusercontent.com/justmarkham/DAT8/master/data/u.user', \n",
        "                      sep='|', index_col='user_id')"
      ]
    },
    {
      "cell_type": "markdown",
      "metadata": {
        "id": "hFWkcufzIXwy"
      },
      "source": [
        "### **1) Look at first 25 entries**"
      ]
    },
    {
      "cell_type": "code",
      "source": [
        ""
      ],
      "metadata": {
        "id": "7l7kaZbXI3Rx"
      },
      "execution_count": null,
      "outputs": []
    },
    {
      "cell_type": "markdown",
      "metadata": {
        "id": "yMIZ7Sh4IXwz"
      },
      "source": [
        "### **2) Look at the last 10 entries**"
      ]
    },
    {
      "cell_type": "code",
      "source": [
        ""
      ],
      "metadata": {
        "id": "sTib_i52I4CI"
      },
      "execution_count": null,
      "outputs": []
    },
    {
      "cell_type": "markdown",
      "metadata": {
        "id": "mHRT6P6MIXw0"
      },
      "source": [
        "### **3) How many users are contained in this dataset?**"
      ]
    },
    {
      "cell_type": "code",
      "source": [
        ""
      ],
      "metadata": {
        "id": "IpL0OM1yI42h"
      },
      "execution_count": null,
      "outputs": []
    },
    {
      "cell_type": "markdown",
      "metadata": {
        "id": "WOwx9-mvIXw1"
      },
      "source": [
        "### **4) What is the data type of each column?**"
      ]
    },
    {
      "cell_type": "code",
      "source": [
        ""
      ],
      "metadata": {
        "id": "Rw424Z9PI5nw"
      },
      "execution_count": null,
      "outputs": []
    },
    {
      "cell_type": "markdown",
      "metadata": {
        "id": "2Y1smwrJIXw2"
      },
      "source": [
        "### **5) Print the occupation column**"
      ]
    },
    {
      "cell_type": "code",
      "source": [
        ""
      ],
      "metadata": {
        "id": "oA8oGbPfI6ec"
      },
      "execution_count": null,
      "outputs": []
    },
    {
      "cell_type": "markdown",
      "metadata": {
        "id": "hd6NfJYTIXw3"
      },
      "source": [
        "### **6) What is the most frequent occupation?**"
      ]
    },
    {
      "cell_type": "code",
      "source": [
        ""
      ],
      "metadata": {
        "id": "7FHJIoH_I7Sq"
      },
      "execution_count": null,
      "outputs": []
    },
    {
      "cell_type": "markdown",
      "metadata": {
        "id": "8DOvObiHIXw4"
      },
      "source": [
        "### **7) Summarize the dataset (get count/mean/std/etc of each column)**\n",
        "\n",
        "Hint: can do this in single command"
      ]
    },
    {
      "cell_type": "code",
      "source": [
        ""
      ],
      "metadata": {
        "id": "RRymaCOpI8Go"
      },
      "execution_count": null,
      "outputs": []
    },
    {
      "cell_type": "markdown",
      "metadata": {
        "id": "yZPnx1apIXw4"
      },
      "source": [
        "### **8) How many female writers are there in this dataset?**"
      ]
    },
    {
      "cell_type": "code",
      "source": [
        ""
      ],
      "metadata": {
        "id": "e3YtPjoPI8xq"
      },
      "execution_count": null,
      "outputs": []
    },
    {
      "cell_type": "markdown",
      "metadata": {
        "id": "ZJaXrCbrIXw5"
      },
      "source": [
        "### **9) What is the average age of the female writers?**"
      ]
    },
    {
      "cell_type": "code",
      "source": [
        ""
      ],
      "metadata": {
        "id": "pGh1MTxYI9fp"
      },
      "execution_count": null,
      "outputs": []
    },
    {
      "cell_type": "markdown",
      "metadata": {
        "id": "tKIcko23IXw5"
      },
      "source": [
        "### **10) How many men over 50 are in the dataset?**"
      ]
    },
    {
      "cell_type": "code",
      "source": [
        ""
      ],
      "metadata": {
        "id": "HpJKykagI-aa"
      },
      "execution_count": null,
      "outputs": []
    },
    {
      "cell_type": "markdown",
      "metadata": {
        "id": "SR5mqFmAIXw6"
      },
      "source": [
        "### **11) What is the mean age per occupation?**"
      ]
    },
    {
      "cell_type": "code",
      "source": [
        ""
      ],
      "metadata": {
        "id": "4U7QmVbTI_Mx"
      },
      "execution_count": null,
      "outputs": []
    },
    {
      "cell_type": "markdown",
      "metadata": {
        "id": "xPeIDQ7bIXw6"
      },
      "source": [
        "### **12) Can you list out the min and max age by occupation?**\n",
        "\n",
        "Hint: [agg](https://pandas.pydata.org/pandas-docs/stable/reference/api/pandas.DataFrame.agg.html)"
      ]
    },
    {
      "cell_type": "code",
      "execution_count": null,
      "metadata": {
        "id": "jXS2Cq_dIXw7"
      },
      "outputs": [],
      "source": [
        ""
      ]
    },
    {
      "cell_type": "markdown",
      "metadata": {
        "id": "vzpj1JSFIXw7"
      },
      "source": [
        "### **13) (Advanced) Create a new column with gender as binary 0 or 1**\n",
        "\n",
        "(Please note I am not at all endorsing the view that gender is binary!!! We just have F and M in  this dataset.)\n",
        "\n",
        "Hint: you could create a function and use apply\n",
        "\n"
      ]
    },
    {
      "cell_type": "code",
      "source": [
        ""
      ],
      "metadata": {
        "id": "v5BEXMuiJA9J"
      },
      "execution_count": null,
      "outputs": []
    },
    {
      "cell_type": "markdown",
      "metadata": {
        "id": "mhSC06kcIXw7"
      },
      "source": [
        "### **14) (Advanced) Get the male to female ratio of each occupation**"
      ]
    },
    {
      "cell_type": "code",
      "source": [
        ""
      ],
      "metadata": {
        "id": "MKfYqyDGJBmg"
      },
      "execution_count": null,
      "outputs": []
    },
    {
      "cell_type": "markdown",
      "metadata": {
        "id": "TVTNCeoHIXw8"
      },
      "source": [
        "### **15) Sort the occupations by largest male to female ratio to smallest**"
      ]
    },
    {
      "cell_type": "code",
      "execution_count": null,
      "metadata": {
        "id": "W68tQH3qIXw8"
      },
      "outputs": [],
      "source": [
        ""
      ]
    }
  ]
}