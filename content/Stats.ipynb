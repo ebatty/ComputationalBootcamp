{
  "nbformat": 4,
  "nbformat_minor": 0,
  "metadata": {
    "colab": {
      "name": "Stats.ipynb",
      "provenance": [],
      "collapsed_sections": [],
      "authorship_tag": "ABX9TyMWDKa+ewgGP4JRnT+5eIQE",
      "include_colab_link": true
    },
    "kernelspec": {
      "name": "python3",
      "display_name": "Python 3"
    },
    "language_info": {
      "name": "python"
    }
  },
  "cells": [
    {
      "cell_type": "markdown",
      "metadata": {
        "id": "view-in-github",
        "colab_type": "text"
      },
      "source": [
        "<a href=\"https://colab.research.google.com/github/QMBC-Python/QMBC-Python.github.io/blob/main/content/Stats.ipynb\" target=\"_parent\"><img src=\"https://colab.research.google.com/assets/colab-badge.svg\" alt=\"Open In Colab\"/></a>"
      ]
    },
    {
      "cell_type": "markdown",
      "source": [
        "# 4.1 - Scipy.stats"
      ],
      "metadata": {
        "id": "qtUITvgkjOTo"
      }
    },
    {
      "cell_type": "code",
      "source": [
        "#@markdown Video: Scipy.stats\n",
        "from IPython.display import YouTubeVideo\n",
        "video = YouTubeVideo(id=\"UK7nUG124Ro\", width=854, height=480, fs=1)\n",
        "print(\"Video available at https://youtube.com/watch?v=\" + video.id)\n",
        "video"
      ],
      "metadata": {
        "colab": {
          "base_uri": "https://localhost:8080/",
          "height": 539
        },
        "cellView": "form",
        "id": "b_kxGDUyiXts",
        "outputId": "262e4c54-1b13-4495-ef1b-6082913cf89e"
      },
      "execution_count": 1,
      "outputs": [
        {
          "output_type": "stream",
          "name": "stdout",
          "text": [
            "Video available at https://youtube.com/watch?v=UK7nUG124Ro\n"
          ]
        },
        {
          "output_type": "execute_result",
          "data": {
            "text/html": [
              "\n",
              "        <iframe\n",
              "            width=\"854\"\n",
              "            height=\"480\"\n",
              "            src=\"https://www.youtube.com/embed/UK7nUG124Ro?fs=1\"\n",
              "            frameborder=\"0\"\n",
              "            allowfullscreen\n",
              "        ></iframe>\n",
              "        "
            ],
            "text/plain": [
              "<IPython.lib.display.YouTubeVideo at 0x7f5d387f96d0>"
            ]
          },
          "metadata": {},
          "execution_count": 1
        }
      ]
    },
    {
      "cell_type": "markdown",
      "source": [
        "The visualization I showed was from: https://seeing-theory.brown.edu/probability-distributions/index.html"
      ],
      "metadata": {
        "id": "sZ3qHg42iZFD"
      }
    },
    {
      "cell_type": "code",
      "execution_count": 19,
      "metadata": {
        "id": "1rPvRs74ecRP"
      },
      "outputs": [],
      "source": [
        "import scipy.stats as stats\n",
        "import numpy as np\n",
        "import matplotlib.pyplot as plt"
      ]
    },
    {
      "cell_type": "code",
      "source": [
        "stats.bernoulli.rvs(p = 0.5, size = (100,))"
      ],
      "metadata": {
        "colab": {
          "base_uri": "https://localhost:8080/"
        },
        "id": "TfY607l-fAxk",
        "outputId": "e8dbe430-a248-4d66-886f-4904f03f0971"
      },
      "execution_count": 13,
      "outputs": [
        {
          "output_type": "execute_result",
          "data": {
            "text/plain": [
              "array([1, 1, 0, 0, 0, 1, 0, 0, 1, 1, 1, 0, 1, 1, 1, 0, 0, 1, 0, 0, 1, 0,\n",
              "       1, 1, 0, 0, 1, 0, 1, 0, 1, 0, 0, 0, 0, 0, 1, 1, 0, 0, 1, 1, 0, 1,\n",
              "       1, 0, 0, 0, 0, 0, 0, 1, 0, 1, 1, 0, 1, 1, 1, 1, 0, 1, 1, 0, 1, 0,\n",
              "       1, 0, 1, 0, 0, 1, 1, 0, 0, 1, 0, 1, 0, 0, 0, 1, 0, 0, 1, 0, 0, 0,\n",
              "       1, 1, 0, 0, 1, 0, 1, 0, 0, 0, 1, 1])"
            ]
          },
          "metadata": {},
          "execution_count": 13
        }
      ]
    },
    {
      "cell_type": "code",
      "source": [
        "stats.bernoulli.mean(p = 0.5)"
      ],
      "metadata": {
        "colab": {
          "base_uri": "https://localhost:8080/"
        },
        "id": "SV2sIREJfDSq",
        "outputId": "c61489e0-c223-4be4-b1f1-393eb557a9bf"
      },
      "execution_count": 14,
      "outputs": [
        {
          "output_type": "execute_result",
          "data": {
            "text/plain": [
              "0.5"
            ]
          },
          "metadata": {},
          "execution_count": 14
        }
      ]
    },
    {
      "cell_type": "code",
      "source": [
        "stats.bernoulli.std(p = 0.5)"
      ],
      "metadata": {
        "colab": {
          "base_uri": "https://localhost:8080/"
        },
        "id": "ViNO_hqRfz8c",
        "outputId": "bd919dbb-40d5-479d-b603-7559ea75915c"
      },
      "execution_count": 15,
      "outputs": [
        {
          "output_type": "execute_result",
          "data": {
            "text/plain": [
              "0.5"
            ]
          },
          "metadata": {},
          "execution_count": 15
        }
      ]
    },
    {
      "cell_type": "code",
      "source": [
        "x = np.arange(-5, 5)\n",
        "pmf = stats.bernoulli.pmf(x, p = 0.5)\n",
        "cdf = stats.bernoulli.cdf(x, p = 0.5)"
      ],
      "metadata": {
        "id": "hgbr4WQZf29q"
      },
      "execution_count": 23,
      "outputs": []
    },
    {
      "cell_type": "code",
      "source": [
        "stats.bernoulli.pmf(1, p = 0.5)"
      ],
      "metadata": {
        "colab": {
          "base_uri": "https://localhost:8080/"
        },
        "id": "lKrIaijTg2nV",
        "outputId": "fca55dca-7acd-4d05-f476-771527ef9077"
      },
      "execution_count": 26,
      "outputs": [
        {
          "output_type": "execute_result",
          "data": {
            "text/plain": [
              "0.5"
            ]
          },
          "metadata": {},
          "execution_count": 26
        }
      ]
    },
    {
      "cell_type": "code",
      "source": [
        "plt.plot(x, pmf, '-o')\n",
        "plt.plot(x, cdf, '-og')"
      ],
      "metadata": {
        "colab": {
          "base_uri": "https://localhost:8080/",
          "height": 282
        },
        "id": "3oSQv44BgjR8",
        "outputId": "6572ca08-8158-4878-b3df-948926150895"
      },
      "execution_count": 24,
      "outputs": [
        {
          "output_type": "execute_result",
          "data": {
            "text/plain": [
              "[<matplotlib.lines.Line2D at 0x7fe384075710>]"
            ]
          },
          "metadata": {},
          "execution_count": 24
        },
        {
          "output_type": "display_data",
          "data": {
            "image/png": "[encoded data removed]",
            "text/plain": [
              "<Figure size 432x288 with 1 Axes>"
            ]
          },
          "metadata": {
            "needs_background": "light"
          }
        }
      ]
    },
    {
      "cell_type": "code",
      "source": [
        "stats.norm.rvs(loc = 0, scale = 1, size = (100,))"
      ],
      "metadata": {
        "colab": {
          "base_uri": "https://localhost:8080/"
        },
        "id": "oF8nwY3ugono",
        "outputId": "6623d3e2-473d-438c-8efa-f29c226dcfd6"
      },
      "execution_count": 30,
      "outputs": [
        {
          "output_type": "execute_result",
          "data": {
            "text/plain": [
              "array([-2.36932870e+00, -1.54136661e+00, -1.43730633e-02, -9.77595757e-02,\n",
              "        9.64389687e-01,  1.11878907e+00,  2.99675781e-01,  3.36453458e-01,\n",
              "       -2.25379313e+00,  9.59443052e-01,  4.96287108e-01,  9.88361973e-01,\n",
              "       -4.94053172e-01, -4.48316250e-01,  8.17725722e-01, -1.08645821e+00,\n",
              "       -8.03395837e-01, -5.63830443e-01, -9.76754147e-01, -5.76945680e-01,\n",
              "        9.58230648e-01,  9.79465675e-01, -1.54417942e+00, -9.80518416e-01,\n",
              "        5.64033593e-01,  3.88405686e-01, -1.76015377e-01,  1.22263607e+00,\n",
              "        1.04064663e+00, -1.26273458e+00,  1.14848189e+00, -4.29715952e-02,\n",
              "       -6.96774972e-01, -1.39090562e-01, -2.65482155e-02, -5.39468308e-01,\n",
              "       -3.14703841e-01,  3.81058686e-01, -1.68441350e+00, -8.99359689e-01,\n",
              "       -1.96451290e-01,  1.16137948e-01,  1.30185668e-01,  1.24195749e+00,\n",
              "       -1.06312164e+00,  1.45073687e+00, -7.90538204e-02,  7.31998213e-02,\n",
              "        1.17488091e+00,  7.47452594e-01, -6.92275590e-01,  1.47261225e+00,\n",
              "        3.31576480e+00, -9.79776046e-01, -4.59247423e-03,  2.63912782e-01,\n",
              "        9.92159116e-01, -9.47821367e-01,  3.70960346e-01,  4.02974835e-01,\n",
              "        3.22506808e-01,  2.05427740e+00,  1.41453795e+00, -3.11496301e-01,\n",
              "        1.48852877e+00,  6.02980852e-01, -2.92243509e-01, -1.14982790e+00,\n",
              "       -5.41971194e-01, -3.24010514e-01, -8.92638042e-01,  2.03894833e-01,\n",
              "        1.36549090e+00, -9.19822764e-01,  9.99605506e-01, -1.12371025e+00,\n",
              "        3.47089512e-01, -3.29181897e-03, -1.02716428e+00, -1.19821487e-01,\n",
              "        8.71258768e-01,  9.29621593e-01,  2.30918096e+00, -9.44529052e-01,\n",
              "        9.70274370e-01, -8.75942655e-01,  7.65714918e-01, -1.90809622e+00,\n",
              "       -3.90628744e-01, -2.11551458e+00,  3.02221851e-01,  1.10888880e-01,\n",
              "        9.09607749e-01, -3.92300643e-01, -4.13992787e-01, -1.14403014e+00,\n",
              "       -1.12307536e+00, -4.87694096e-01,  1.01371442e-01, -5.28367728e-01])"
            ]
          },
          "metadata": {},
          "execution_count": 30
        }
      ]
    },
    {
      "cell_type": "code",
      "source": [
        "stats.norm.mean(loc = 0, scale = 1)"
      ],
      "metadata": {
        "colab": {
          "base_uri": "https://localhost:8080/"
        },
        "id": "BMpbbtgjhh2S",
        "outputId": "5047606a-c3e2-4ca6-b647-01fedadc598a"
      },
      "execution_count": 31,
      "outputs": [
        {
          "output_type": "execute_result",
          "data": {
            "text/plain": [
              "0.0"
            ]
          },
          "metadata": {},
          "execution_count": 31
        }
      ]
    },
    {
      "cell_type": "code",
      "source": [
        "stats.norm.std(loc = 0, scale = 1)"
      ],
      "metadata": {
        "colab": {
          "base_uri": "https://localhost:8080/"
        },
        "id": "nsatcK3ChuV4",
        "outputId": "d5b867ed-c07b-4ef1-b7b3-3c437baf278f"
      },
      "execution_count": 32,
      "outputs": [
        {
          "output_type": "execute_result",
          "data": {
            "text/plain": [
              "1.0"
            ]
          },
          "metadata": {},
          "execution_count": 32
        }
      ]
    },
    {
      "cell_type": "code",
      "source": [
        "x = np.arange(-5, 5, .1)\n",
        "\n",
        "pdf = stats.norm.pdf(x, loc = 0, scale = 1)\n",
        "cdf = stats.norm.cdf(x, loc = 0, scale = 1)"
      ],
      "metadata": {
        "id": "l5Lt-xNahvxW"
      },
      "execution_count": 33,
      "outputs": []
    },
    {
      "cell_type": "code",
      "source": [
        "plt.plot(x, pdf)\n",
        "plt.plot(x, cdf, 'g')"
      ],
      "metadata": {
        "colab": {
          "base_uri": "https://localhost:8080/",
          "height": 282
        },
        "id": "AcYsmCgch2ny",
        "outputId": "4426b66c-617d-4f41-b124-bb7057996e4a"
      },
      "execution_count": 35,
      "outputs": [
        {
          "output_type": "execute_result",
          "data": {
            "text/plain": [
              "[<matplotlib.lines.Line2D at 0x7fe38387cbd0>]"
            ]
          },
          "metadata": {},
          "execution_count": 35
        },
        {
          "output_type": "display_data",
          "data": {
            "image/png": "[encoded data removed]",
            "text/plain": [
              "<Figure size 432x288 with 1 Axes>"
            ]
          },
          "metadata": {
            "needs_background": "light"
          }
        }
      ]
    },
    {
      "cell_type": "code",
      "source": [
        ""
      ],
      "metadata": {
        "id": "AFAHSVOFh3q4"
      },
      "execution_count": null,
      "outputs": []
    }
  ]
}