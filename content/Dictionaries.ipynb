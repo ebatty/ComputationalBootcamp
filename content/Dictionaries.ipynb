{
  "nbformat": 4,
  "nbformat_minor": 0,
  "metadata": {
    "colab": {
      "name": "Dictionaries.ipynb",
      "provenance": [],
      "collapsed_sections": [],
      "authorship_tag": "ABX9TyNJpPer5eVZ9AJkOreKehxc",
      "include_colab_link": true
    },
    "kernelspec": {
      "name": "python3",
      "display_name": "Python 3"
    },
    "language_info": {
      "name": "python"
    }
  },
  "cells": [
    {
      "cell_type": "markdown",
      "metadata": {
        "id": "view-in-github",
        "colab_type": "text"
      },
      "source": [
        "<a href=\"https://colab.research.google.com/github/QMBC-Python/QMBC-Python.github.io/blob/main/content/Dictionaries.ipynb\" target=\"_parent\"><img src=\"https://colab.research.google.com/assets/colab-badge.svg\" alt=\"Open In Colab\"/></a>"
      ]
    },
    {
      "cell_type": "markdown",
      "source": [
        "# 3.5 - Dictionaries\n",
        "\n",
        "Dictionaries are unordered pairs of keys and values."
      ],
      "metadata": {
        "id": "W8crM_qN3kNH"
      }
    },
    {
      "cell_type": "code",
      "source": [
        "my_dict = {'Anna': 25, 'Brian': 17}\n",
        "type(my_dict)"
      ],
      "metadata": {
        "id": "ZZ4UqJcoGvy3",
        "outputId": "1ce43e85-4398-47e1-ed78-00173a086f44",
        "colab": {
          "base_uri": "https://localhost:8080/"
        }
      },
      "execution_count": 1,
      "outputs": [
        {
          "output_type": "execute_result",
          "data": {
            "text/plain": [
              "dict"
            ]
          },
          "metadata": {},
          "execution_count": 1
        }
      ]
    },
    {
      "cell_type": "code",
      "source": [
        "my_dict['Anna']"
      ],
      "metadata": {
        "id": "KZosCDt7YR_3",
        "outputId": "344ccf72-f532-4c2b-91e8-f996a921090b",
        "colab": {
          "base_uri": "https://localhost:8080/"
        }
      },
      "execution_count": 2,
      "outputs": [
        {
          "output_type": "execute_result",
          "data": {
            "text/plain": [
              "25"
            ]
          },
          "metadata": {},
          "execution_count": 2
        }
      ]
    },
    {
      "cell_type": "code",
      "source": [
        "my_dict.keys()"
      ],
      "metadata": {
        "id": "dXxx1QQ3YTVx",
        "outputId": "fb8b716a-4699-4f83-c9bf-8f02ca7ad31d",
        "colab": {
          "base_uri": "https://localhost:8080/"
        }
      },
      "execution_count": 3,
      "outputs": [
        {
          "output_type": "execute_result",
          "data": {
            "text/plain": [
              "dict_keys(['Anna', 'Brian'])"
            ]
          },
          "metadata": {},
          "execution_count": 3
        }
      ]
    },
    {
      "cell_type": "code",
      "source": [
        "my_dict.values()"
      ],
      "metadata": {
        "id": "RAum7XvvYUC2",
        "outputId": "8f3335a7-78de-4b99-ba0a-3fa5bd384c2c",
        "colab": {
          "base_uri": "https://localhost:8080/"
        }
      },
      "execution_count": 4,
      "outputs": [
        {
          "output_type": "execute_result",
          "data": {
            "text/plain": [
              "dict_values([25, 17])"
            ]
          },
          "metadata": {},
          "execution_count": 4
        }
      ]
    },
    {
      "cell_type": "markdown",
      "source": [
        "Dictionaries are mutable."
      ],
      "metadata": {
        "id": "bOfKORO7YVTu"
      }
    },
    {
      "cell_type": "code",
      "source": [
        "my_dict['Anna'] = 36"
      ],
      "metadata": {
        "id": "_mejXLBsYU60"
      },
      "execution_count": 5,
      "outputs": []
    },
    {
      "cell_type": "markdown",
      "source": [
        "Dictionary keys can be any immutable data (integers, floats, strings or Booleans). Dictionary values can be pretty much any data type."
      ],
      "metadata": {
        "id": "NUtm0Hq2YYox"
      }
    },
    {
      "cell_type": "code",
      "source": [
        "my_dict = {5: 3, True: 6, 5.7:1}"
      ],
      "metadata": {
        "id": "KSkZeyuCYXUP"
      },
      "execution_count": 6,
      "outputs": []
    },
    {
      "cell_type": "code",
      "source": [
        "my_dict = {'a': [5, 7, 14, 12], 'b': {1: 2}}"
      ],
      "metadata": {
        "id": "AWmU_-ArYagj"
      },
      "execution_count": 7,
      "outputs": []
    },
    {
      "cell_type": "code",
      "source": [
        "my_dict = {}\n",
        "my_list = []\n",
        "my_list.append(5)"
      ],
      "metadata": {
        "id": "fFr02lKBYbOl"
      },
      "execution_count": 8,
      "outputs": []
    },
    {
      "cell_type": "markdown",
      "source": [
        "Unordered so no indexing"
      ],
      "metadata": {
        "id": "qJDvdcArYiWv"
      }
    },
    {
      "cell_type": "code",
      "source": [
        "my_dict[0]"
      ],
      "metadata": {
        "id": "krZu6aQKYkmD",
        "outputId": "adb9ff0b-9b7d-4de5-fe5f-0c39abf1e9a7",
        "colab": {
          "base_uri": "https://localhost:8080/",
          "height": 201
        }
      },
      "execution_count": 11,
      "outputs": [
        {
          "output_type": "error",
          "ename": "KeyError",
          "evalue": "ignored",
          "traceback": [
            "\u001b[0;31m---------------------------------------------------------------------------\u001b[0m",
            "\u001b[0;31mKeyError\u001b[0m                                  Traceback (most recent call last)",
            "\u001b[0;32m<ipython-input-11-2e042f7087f7>\u001b[0m in \u001b[0;36m<module>\u001b[0;34m()\u001b[0m\n\u001b[0;32m----> 1\u001b[0;31m \u001b[0mmy_dict\u001b[0m\u001b[0;34m[\u001b[0m\u001b[0;36m0\u001b[0m\u001b[0;34m]\u001b[0m\u001b[0;34m\u001b[0m\u001b[0;34m\u001b[0m\u001b[0m\n\u001b[0m",
            "\u001b[0;31mKeyError\u001b[0m: 0"
          ]
        }
      ]
    },
    {
      "cell_type": "markdown",
      "source": [
        "Check for length and membership like a list (but you're checking within keys)"
      ],
      "metadata": {
        "id": "LCCOYA2lYdsQ"
      }
    },
    {
      "cell_type": "code",
      "source": [
        "25 in my_dict"
      ],
      "metadata": {
        "id": "6tRSYSiBYb-a",
        "outputId": "08339088-0cca-4716-8f07-b5fdc1ac5ecd",
        "colab": {
          "base_uri": "https://localhost:8080/"
        }
      },
      "execution_count": 9,
      "outputs": [
        {
          "output_type": "execute_result",
          "data": {
            "text/plain": [
              "False"
            ]
          },
          "metadata": {},
          "execution_count": 9
        }
      ]
    },
    {
      "cell_type": "code",
      "source": [
        "len(my_dict)"
      ],
      "metadata": {
        "id": "sW8vaR76Yf_q",
        "outputId": "f4c091b1-a73b-4e25-ed3b-10cdfe807de3",
        "colab": {
          "base_uri": "https://localhost:8080/"
        }
      },
      "execution_count": 10,
      "outputs": [
        {
          "output_type": "execute_result",
          "data": {
            "text/plain": [
              "0"
            ]
          },
          "metadata": {},
          "execution_count": 10
        }
      ]
    },
    {
      "cell_type": "markdown",
      "source": [
        "For loops & dictionaries"
      ],
      "metadata": {
        "id": "kyFPi-WZYmtI"
      }
    },
    {
      "cell_type": "code",
      "source": [
        "for i in my_dict:\n",
        "    print(i)\n",
        "    val = my_dict[i]"
      ],
      "metadata": {
        "id": "ziLiYDdGYhCv"
      },
      "execution_count": 14,
      "outputs": []
    },
    {
      "cell_type": "code",
      "source": [
        "for (key, val) in my_dict.items():\n",
        "    print(key)\n",
        "    print(val)"
      ],
      "metadata": {
        "id": "nhoJt7O2YmV3"
      },
      "execution_count": 15,
      "outputs": []
    }
  ]
}