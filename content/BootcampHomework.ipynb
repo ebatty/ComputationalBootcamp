{
  "nbformat": 4,
  "nbformat_minor": 0,
  "metadata": {
    "colab": {
      "provenance": [],
      "collapsed_sections": [],
      "authorship_tag": "ABX9TyO6lCb2jlR727XfIyYNhgCF",
      "include_colab_link": true
    },
    "kernelspec": {
      "name": "python3",
      "display_name": "Python 3"
    },
    "language_info": {
      "name": "python"
    }
  },
  "cells": [
    {
      "cell_type": "markdown",
      "metadata": {
        "id": "view-in-github",
        "colab_type": "text"
      },
      "source": [
        "<a href=\"https://colab.research.google.com/github/ebatty/ComputationalBootcamp/blob/master/content/BootcampHomework.ipynb\" target=\"_parent\"><img src=\"https://colab.research.google.com/assets/colab-badge.svg\" alt=\"Open In Colab\"/></a>"
      ]
    },
    {
      "cell_type": "code",
      "execution_count": null,
      "metadata": {
        "id": "vvR5YXgKIIOx"
      },
      "outputs": [],
      "source": [
        "import numpy as np\n",
        "x = np.array([[4, 1, 2], [3, 1, 4], [2, 1, 0], [1, 6, 7]])"
      ]
    },
    {
      "cell_type": "markdown",
      "source": [
        "## Section 1: Arrays"
      ],
      "metadata": {
        "id": "OMDXBQK1J0yd"
      }
    },
    {
      "cell_type": "markdown",
      "source": [
        "1) Find the shape of the array `x` using code\n",
        "\n"
      ],
      "metadata": {
        "id": "6d7sURf1IKz1"
      }
    },
    {
      "cell_type": "code",
      "source": [
        "# your code here"
      ],
      "metadata": {
        "id": "rz8l6HAvIR_U"
      },
      "execution_count": null,
      "outputs": []
    },
    {
      "cell_type": "markdown",
      "source": [
        "2) Retrieve the value from the 2nd row, third column of `x`"
      ],
      "metadata": {
        "id": "KFIPRfWBIanU"
      }
    },
    {
      "cell_type": "code",
      "source": [
        "# your code here"
      ],
      "metadata": {
        "id": "pz2kQr64IaOc"
      },
      "execution_count": null,
      "outputs": []
    },
    {
      "cell_type": "markdown",
      "source": [
        "3) Get the mean of each column"
      ],
      "metadata": {
        "id": "lIt4JfusI1G_"
      }
    },
    {
      "cell_type": "code",
      "source": [
        "# your code here"
      ],
      "metadata": {
        "id": "LFJWs7T7Iwbn"
      },
      "execution_count": null,
      "outputs": []
    },
    {
      "cell_type": "markdown",
      "source": [
        "4) Retrieve only the columns of x that have an average value higher than 2 using Boolean indexing"
      ],
      "metadata": {
        "id": "BXhHjanmJJ_d"
      }
    },
    {
      "cell_type": "code",
      "source": [
        "# your code here"
      ],
      "metadata": {
        "id": "ARWB6zJzJI4N"
      },
      "execution_count": null,
      "outputs": []
    },
    {
      "cell_type": "markdown",
      "source": [
        "# Section 2: Loops, if statements, and functions "
      ],
      "metadata": {
        "id": "YRftR_HqJcMB"
      }
    },
    {
      "cell_type": "markdown",
      "source": [
        "5) Compute the factorial of the number represented by the variable `n` **using a for loop**\n",
        "\n",
        "The factorial of a number equals the multiplication of every number between 1 and that number.\n",
        "\n",
        "So if n = 5, the factorial of n would be 1 * 2 * 3 * 4 * 5 = 120. If n = 3, the factorial would be 1 * 2 * 3 = 6\n"
      ],
      "metadata": {
        "id": "ALEXd8CQKJzo"
      }
    },
    {
      "cell_type": "code",
      "source": [
        "# your code here"
      ],
      "metadata": {
        "id": "68a5As86JWTy"
      },
      "execution_count": null,
      "outputs": []
    },
    {
      "cell_type": "markdown",
      "source": [
        "6) Modify your code from problem 5 so that if n is negative, you print \"Error: n is negative\", otherwise print the factorial of n"
      ],
      "metadata": {
        "id": "7ytXxXgdK7M9"
      }
    },
    {
      "cell_type": "code",
      "source": [
        "# your code here"
      ],
      "metadata": {
        "id": "iL-_Rh0HKo8R"
      },
      "execution_count": null,
      "outputs": []
    },
    {
      "cell_type": "markdown",
      "source": [
        "7) Put your code from problem 6 into a function called `compute_factorial`. It should take in `n` as the input and output the computed factorial. If n is negative, return `np.nan` (not a number)\n",
        "\n",
        "Call the function for `n=8` and return the factorial in a variable called `factorial`"
      ],
      "metadata": {
        "id": "rsqk2N2DL-1O"
      }
    },
    {
      "cell_type": "code",
      "source": [
        "# your code here"
      ],
      "metadata": {
        "id": "u9k1QgVhLg2P"
      },
      "execution_count": null,
      "outputs": []
    },
    {
      "cell_type": "markdown",
      "source": [
        "# Section 3: Plotting"
      ],
      "metadata": {
        "id": "u_zbewwXNZx4"
      }
    },
    {
      "cell_type": "markdown",
      "source": [
        "8) Below, we have data of the firing rate of a neuron over 100 seconds. The firing rate in spikes per second is in `firing_rate` and the time of each step is in `time_vec` (in seconds)\n",
        "\n",
        "Plot the firing rate over time. Label the x and y axis."
      ],
      "metadata": {
        "id": "mr2h5xdLNinf"
      }
    },
    {
      "cell_type": "code",
      "source": [
        "time_vec = np.arange(0, 100, .1)\n",
        "firing_rate = 100*(np.sin(time_vec)+1)"
      ],
      "metadata": {
        "id": "-4H9dbdZNIVS"
      },
      "execution_count": null,
      "outputs": []
    },
    {
      "cell_type": "code",
      "source": [
        "# your code here"
      ],
      "metadata": {
        "id": "U_1P1ABzNesH"
      },
      "execution_count": null,
      "outputs": []
    },
    {
      "cell_type": "code",
      "source": [],
      "metadata": {
        "id": "zQbTuxl_NhU9"
      },
      "execution_count": null,
      "outputs": []
    }
  ]
}