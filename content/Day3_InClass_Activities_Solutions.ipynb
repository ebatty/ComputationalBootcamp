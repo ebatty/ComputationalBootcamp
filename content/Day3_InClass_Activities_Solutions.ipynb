{
  "nbformat": 4,
  "nbformat_minor": 0,
  "metadata": {
    "colab": {
      "provenance": [],
      "collapsed_sections": [],
      "authorship_tag": "ABX9TyMxm6C6U00KjrAVnyaByLzT",
      "include_colab_link": true
    },
    "kernelspec": {
      "name": "python3",
      "display_name": "Python 3"
    },
    "language_info": {
      "name": "python"
    }
  },
  "cells": [
    {
      "cell_type": "markdown",
      "metadata": {
        "id": "view-in-github",
        "colab_type": "text"
      },
      "source": [
        "<a href=\"https://colab.research.google.com/github/ebatty/ComputationalBootcamp/blob/master/content/Day3_InClass_Activities_Solutions.ipynb\" target=\"_parent\"><img src=\"https://colab.research.google.com/assets/colab-badge.svg\" alt=\"Open In Colab\"/></a>"
      ]
    },
    {
      "cell_type": "markdown",
      "source": [
        "# Day 3 In-class activities Solutions"
      ],
      "metadata": {
        "id": "2W8B5DrISH2B"
      }
    },
    {
      "cell_type": "code",
      "execution_count": null,
      "metadata": {
        "id": "MB5-p4NGRk3Z"
      },
      "outputs": [],
      "source": [
        "import numpy as np\n",
        "import matplotlib.pyplot as plt"
      ]
    },
    {
      "cell_type": "markdown",
      "source": [
        "# Section 1: For loop & if statement practice"
      ],
      "metadata": {
        "id": "0mJoYFJ5AYpc"
      }
    },
    {
      "cell_type": "markdown",
      "source": [
        "## Problem 1\n",
        "\n",
        "Without running the code, what would `count` equal after running this code?\n",
        "\n",
        "```\n",
        "count = 0\n",
        "for i_m in range(20):\n",
        "  if i_m > 15:\n",
        "    count += 1\n",
        "  elif i_m <= 3:\n",
        "    count -= 1\n",
        "```"
      ],
      "metadata": {
        "id": "t3xuvYp0dgA1"
      }
    },
    {
      "cell_type": "code",
      "source": [
        "count = 0\n",
        "for i_m in range(20): # will range from 0 up to 19\n",
        "  if i_m > 15: # 16, 17, 18, 19 would satisfy this condition\n",
        "    count += 1 # adds 4 in total\n",
        "  elif i_m <= 3: # 0, 1, 2, 3 would satisfy this condition\n",
        "    count -= 1 # subtracts 4 in total\n",
        "print(count)"
      ],
      "metadata": {
        "id": "OSefF5lmd0Aw",
        "colab": {
          "base_uri": "https://localhost:8080/"
        },
        "outputId": "03074e37-412d-4d6d-fe9f-3397f6d533f5"
      },
      "execution_count": null,
      "outputs": [
        {
          "output_type": "stream",
          "name": "stdout",
          "text": [
            "0\n"
          ]
        }
      ]
    },
    {
      "cell_type": "markdown",
      "source": [
        "## Problem 2\n",
        "\n",
        "Write code that uses variable `n` representing a number and outputs the following:\n",
        "\n",
        "If the number is a multiple of 3, print Fizz\n",
        "\n",
        "If the number is a multiple of 5, print Buzz\n",
        "\n",
        "If the number is a multiple of both 3 and 5, print FizzBuzz\n",
        "\n",
        "Otherwise, print the number\n",
        "\n",
        "For example, n = 15 should lead to 'Fizzbuzz', n = 4 should lead to 4, and n = 5 should lead to 'Buzz'.\n",
        "\n",
        "**Start by writing pseudocode for this, then move to the actual code**"
      ],
      "metadata": {
        "id": "pUFgZn8hSKC-"
      }
    },
    {
      "cell_type": "code",
      "source": [
        "n = 15\n",
        "\n",
        "if n % 3 == 0 and n % 5 == 0:\n",
        "    print('FizzBuzz')\n",
        "elif n % 3 == 0:\n",
        "    print('Fizz')\n",
        "elif n % 5 == 0:\n",
        "    print('Buzz')\n",
        "else:\n",
        "    print(n)"
      ],
      "metadata": {
        "id": "hPw5iFxjRsY-",
        "colab": {
          "base_uri": "https://localhost:8080/"
        },
        "outputId": "ec0cc977-f43c-4143-9c96-6780859192ae"
      },
      "execution_count": null,
      "outputs": [
        {
          "output_type": "stream",
          "name": "stdout",
          "text": [
            "FizzBuzz\n"
          ]
        }
      ]
    },
    {
      "cell_type": "markdown",
      "source": [
        "## Problem 3\n",
        "\n",
        " Make an array with 10 rows, 15 columns, and 5 pages (3rd dimension). (hint: `np.zeros` might be useful)\n",
        "\n",
        "If the row is greater than the column, make the value equal to the page.\n",
        "\n",
        "Otherwise, if on the second page make the value equal to the row position, unless you are on the diagonal (and the second page)  in which case make the value equal to -5. The diagonal is where the row number equals the column number.\n",
        "\n",
        "Finally, if no other condition is met, make the value equal to the column position.\n",
        "\n",
        "**Start by breaking this into smaller steps to figure out, then write pseudocode, then move to the actual code**\n"
      ],
      "metadata": {
        "id": "EsgYRshifH3D"
      }
    },
    {
      "cell_type": "code",
      "source": [
        "x = np.zeros((10, 15, 5))\n",
        "\n",
        "for i_row in range(10):\n",
        "\n",
        "  for i_column in range(15):\n",
        "\n",
        "    for i_page in range(5):\n",
        "\n",
        "      if i_row > i_column:\n",
        "\n",
        "          x[i_row, i_column, i_page] = i_page\n",
        "\n",
        "      elif i_page == 1 and i_row == i_column:\n",
        "\n",
        "        x[i_row, i_column, i_page] = -5\n",
        "\n",
        "      elif i_page == 1 and i_row != i_column:\n",
        "\n",
        "        x[i_row, i_column, i_page] = i_row\n",
        "        \n",
        "      else:\n",
        "        x[i_row, i_column, i_page] = i_column\n"
      ],
      "metadata": {
        "id": "jmAXN0HLf3gX"
      },
      "execution_count": null,
      "outputs": []
    },
    {
      "cell_type": "markdown",
      "source": [
        "**(Optional, advanced) Problem 5: Fibonacci Sequence:**\n",
        "\n",
        "**Come back to this after completing Section 2 if you have time**\n",
        "\n",
        "Write code to print a numpy array containing the Fibonacci sequence of length given by variable `num`. \n",
        "\n",
        "The Fibonacci sequence starts with 0, 1, and after that each entry is the sum of the two prior, so \n",
        "\n",
        "0, 1, 1, 2, 3, 5, 8, etc\n",
        "\n",
        "Note: there are fancy ways to do this with recursion but no need to use it unless you already know about it and would like to try\n",
        "\n",
        "Examples:\n",
        "\n",
        "If num is 2, you should print the numpy array [0, 1]. \n",
        "\n",
        "If num is 4, you should print the numpy array [0, 1, 1, 2]."
      ],
      "metadata": {
        "id": "8aqpg_1ATmkl"
      }
    },
    {
      "cell_type": "code",
      "source": [
        "num = 4\n",
        "if num == 1:\n",
        "    fib_seq = np.array([0])\n",
        "elif num == 2:\n",
        "    fib_seq = np.array([0, 1])\n",
        "else:\n",
        "    fib_seq = np.zeros((num))\n",
        "    fib_seq[0] = 0\n",
        "    fib_seq[1] = 1\n",
        "    for ind in range(2, num):\n",
        "        fib_seq[ind] = fib_seq[ind-2] + fib_seq[ind-1]\n",
        "\n",
        "print(fib_seq)"
      ],
      "metadata": {
        "id": "uoFVimkHTgDJ",
        "colab": {
          "base_uri": "https://localhost:8080/"
        },
        "outputId": "6f05d8d7-89e0-42e1-f67d-8f3cb8146a54"
      },
      "execution_count": null,
      "outputs": [
        {
          "output_type": "stream",
          "name": "stdout",
          "text": [
            "[0. 1. 1. 2.]\n"
          ]
        }
      ]
    },
    {
      "cell_type": "markdown",
      "source": [
        "**(Optional, advanced) Problem 6:** Finding number with a factor of 7\n",
        "\n",
        "**Come back to this after completing Section 2 if you have time**\n",
        "\n",
        "Print the first number higher than 35 that has 7 as a factor. Please use a while loop to do so.\n",
        "\n",
        "If stuck, double click on the cell below to access hints."
      ],
      "metadata": {
        "id": "u9unjmsgSxrJ"
      }
    },
    {
      "cell_type": "code",
      "source": [
        "# @markdown Hints\n",
        "\"\"\"\n",
        "If stuck, break it into little steps:\n",
        "\n",
        "1) How do you check if a number has a factor of 7?\n",
        "\n",
        "2) Set up while loop with a variable at 35 that increases by one at each loop\n",
        "\n",
        "3) Make a condition that is True when the variable from part 2 is not divisible by 7, False if it is\n",
        "\n",
        "4) Are you sure you're printing the correct number, not one higher than you want?\n",
        "\"\"\";"
      ],
      "metadata": {
        "cellView": "form",
        "id": "QzUUSsqcSG8E"
      },
      "execution_count": null,
      "outputs": []
    },
    {
      "cell_type": "code",
      "source": [
        "div_seven = False\n",
        "\n",
        "count = 35\n",
        "while not div_seven:\n",
        "    count += 1\n",
        "    div_seven = ( count % 7 ) == 0\n",
        "print(div_seven)"
      ],
      "metadata": {
        "colab": {
          "base_uri": "https://localhost:8080/"
        },
        "id": "L5RQZmSbFerF",
        "outputId": "2c065fd8-ec3f-4873-b9d8-a87628a952dd"
      },
      "execution_count": null,
      "outputs": [
        {
          "output_type": "stream",
          "name": "stdout",
          "text": [
            "True\n"
          ]
        }
      ]
    },
    {
      "cell_type": "markdown",
      "source": [
        "# Section 2: Monty Hall Problem\n",
        "\n",
        "The Monty Hall problem is a well known probability puzzle with results that are counterintuitive to many. We are going to simulate the Monty Hall problem.\n",
        "\n",
        "The problem: You are on a game show and are faced with three doors. Behind one door is a car, behind the others are goats. Even though goats are cute, you want the car.\n",
        "\n",
        "The sequence of the game is:\n",
        "\n",
        "1. You pick a door (for example door 0). \n",
        "\n",
        "2. The host opens another door (door 1), which has a goat. Note that the host always opens a door with no prize (he will not reveal the car).\n",
        "\n",
        "3. The host then asks you if you want to stay with door 0 or switch to door 2. You get whatever is behind the door you choose.\n",
        "\n",
        "**Should you switch?** Discuss with your group what your strategy would be\n",
        "\n",
        "\n",
        "We can solve this analytically through probabilities but to practice our coding, let's simulate the game and see whether it's better to stay or switch. We will simulate 1000 versions of the game show and determine the best strategy (stay or switch).\n",
        "\n",
        "In our simulations, we will assume that the player always chooses to stay with their original door and will compute the percentage of the time they win with a stay strategy (you can subtract this quantity from 100 to get the percentage of time they will win with a switch strategy).\n",
        "\n",
        "**Challenge mode:** I walk you through the steps of creating a simulation in this section. If you want to think through the logic of the game yourself, feel free to complete this problem with just the information above! "
      ],
      "metadata": {
        "id": "Z9IENF_yAXTb"
      }
    },
    {
      "cell_type": "code",
      "source": [
        "# challenge mode here: figure out the percentage of time you'd win with a stay strategy"
      ],
      "metadata": {
        "id": "SOA_AafYDAWR"
      },
      "execution_count": null,
      "outputs": []
    },
    {
      "cell_type": "markdown",
      "source": [
        "## Setting up the game\n",
        "Let's first go through a single play of the game. We can loop over simulations later.\n",
        "\n",
        "To set up the game, we need to know which door has the prize behind it. Randomly choose one the doors (0, 1, or 2) and assign it as the prize door. \n",
        "\n",
        "Hint: you will use the numpy random library for this. Check out numpy randint: https://numpy.org/doc/stable/reference/random/generated/numpy.random.randint.html"
      ],
      "metadata": {
        "id": "NpLatCw3BF_Z"
      }
    },
    {
      "cell_type": "code",
      "source": [
        "# your code to choose a prize door here\n",
        "prize_door = np.random.randint(0, 3)\n",
        "print(prize_door)"
      ],
      "metadata": {
        "id": "E3zrIRrrBF0A",
        "colab": {
          "base_uri": "https://localhost:8080/"
        },
        "outputId": "7110cd25-b9bc-4622-9e4e-dbb02adaaa0a"
      },
      "execution_count": null,
      "outputs": [
        {
          "output_type": "stream",
          "name": "stdout",
          "text": [
            "1\n"
          ]
        }
      ]
    },
    {
      "cell_type": "markdown",
      "source": [
        "## Player choice\n",
        "The player needs to decide on a door. Randomly choose one of the doors and assign it as the chosen door."
      ],
      "metadata": {
        "id": "p25iyXmnBOYv"
      }
    },
    {
      "cell_type": "code",
      "source": [
        "# your code to get the players choice of doors here\n",
        "chosen_door = np.random.randint(0, 3)\n",
        "print(chosen_door)"
      ],
      "metadata": {
        "id": "2oBiyb9fVCcH",
        "colab": {
          "base_uri": "https://localhost:8080/"
        },
        "outputId": "9986470d-b39f-4df3-ac51-8b582268d88f"
      },
      "execution_count": null,
      "outputs": [
        {
          "output_type": "stream",
          "name": "stdout",
          "text": [
            "2\n"
          ]
        }
      ]
    },
    {
      "cell_type": "markdown",
      "source": [
        "## Host reveal\n",
        "\n",
        "Next, the host will reveal one of the remaining doors that does not have a prize behind it. To do this, we need to choose a door that is not the chosen door nor the prize door. Assign this door as the revealed door.\n",
        "\n",
        "Note, I don't care about randomness here. For example, if the player chooses door 1 and it has the prize behind it, the host can always pick the first prize-free door (0) instead of randomly picking between doors 0 and 2."
      ],
      "metadata": {
        "id": "ijz_MLwhBSR0"
      }
    },
    {
      "cell_type": "code",
      "source": [
        "# your code for host reveal here\n",
        "for door in range(0, 3):\n",
        "    if door != chosen_door and door != prize_door:\n",
        "        revealed_door = door\n",
        "print(revealed_door)"
      ],
      "metadata": {
        "id": "ruzyJzQPBSFx",
        "colab": {
          "base_uri": "https://localhost:8080/"
        },
        "outputId": "45f7a19e-bd64-4ebc-c39c-355b0bfe281b"
      },
      "execution_count": null,
      "outputs": [
        {
          "output_type": "stream",
          "name": "stdout",
          "text": [
            "0\n"
          ]
        }
      ]
    },
    {
      "cell_type": "markdown",
      "source": [
        "What if we wanted randomness?"
      ],
      "metadata": {
        "id": "Mb89FHtAHVTJ"
      }
    },
    {
      "cell_type": "markdown",
      "source": [
        "## Determining winner\n",
        "We need to figure out whether the player has won if they stay with their original door (i.e. whether that door has the prize). "
      ],
      "metadata": {
        "id": "PrivZ7QPCRB0"
      }
    },
    {
      "cell_type": "code",
      "source": [
        "# your code to determine if the player won\n",
        "if prize_door == chosen_door:\n",
        "    print('Player wins!')\n",
        "else:\n",
        "    print('Player lost')"
      ],
      "metadata": {
        "id": "wQTA7F8-CKue",
        "colab": {
          "base_uri": "https://localhost:8080/"
        },
        "outputId": "8f419547-39cc-4579-8158-d4e52fc67af1"
      },
      "execution_count": null,
      "outputs": [
        {
          "output_type": "stream",
          "name": "stdout",
          "text": [
            "Player lost\n"
          ]
        }
      ]
    },
    {
      "cell_type": "markdown",
      "source": [
        "## Putting it all together\n",
        "We've now coded one play of the game! Take all your \n",
        "previous code and put it together (i.e. copy and paste below). Now loop over it to generate 1000 simulations. Keep track of how many times the player wins by staying with their door."
      ],
      "metadata": {
        "id": "7RmjZaxHCUsw"
      }
    },
    {
      "cell_type": "code",
      "source": [
        "# your code to loop over simulations\n",
        "n_simulations = 1000\n",
        "\n",
        "win_count = 0\n",
        "for sim in range(n_simulations):\n",
        "\n",
        "  # Choose which door has the prize\n",
        "  prize_door = np.random.randint(0, 3)\n",
        "\n",
        "  # Choose which door the player chooses\n",
        "  chosen_door = np.random.randint(0, 3)\n",
        "\n",
        "  # Choose which door the host opens\n",
        "  for door in range(0, 3):\n",
        "    if door != chosen_door and door != prize_door:\n",
        "      revealed_door = door\n",
        "\n",
        "  # Figure out whether the player will win or lose if they stay with their choice\n",
        "  if prize_door == chosen_door:\n",
        "      win_count += 1"
      ],
      "metadata": {
        "id": "wQcH5vPJCTCz"
      },
      "execution_count": null,
      "outputs": []
    },
    {
      "cell_type": "markdown",
      "source": [
        "Print the proportion of the time the player won over the 1000 simulations if they always chose to stay with their original door.\n"
      ],
      "metadata": {
        "id": "nehib7dgCZDM"
      }
    },
    {
      "cell_type": "code",
      "source": [
        "win_proportion = win_count/n_simulations # your code here\n",
        "\n",
        "print(f'The proportion of wins is {win_proportion}')"
      ],
      "metadata": {
        "id": "upmW9jAfCZYY",
        "colab": {
          "base_uri": "https://localhost:8080/"
        },
        "outputId": "64ef8a4b-ed17-43a5-df8c-87145ac772b3"
      },
      "execution_count": null,
      "outputs": [
        {
          "output_type": "stream",
          "name": "stdout",
          "text": [
            "The proportion of wins is 0.323\n"
          ]
        }
      ]
    },
    {
      "cell_type": "markdown",
      "source": [
        "If you played this game, would you stay or switch?"
      ],
      "metadata": {
        "id": "Vq8e4JMXCbJ7"
      }
    },
    {
      "cell_type": "markdown",
      "source": [
        "**Very advanced optional follow-up**:\n",
        "\n",
        "What is the probability that 2 or more people in a class of 30 share a birthday? Figure it out with code simulations, not probabilities"
      ],
      "metadata": {
        "id": "_hf0sExL29sN"
      }
    },
    {
      "cell_type": "code",
      "source": [
        "n_simulations = 1000\n",
        "n_people = 30\n",
        "\n",
        "# I'll pick the birthdays of each person from 0 to 365 (the number of days)\n",
        "birthdays = np.random.randint(0, 365, size = (n_people, n_simulations))\n",
        "\n",
        "# I'll check if there are any duplicates by checking if the number of unique elements equals the number of birthdays\n",
        "n_duplicates_occured = 0\n",
        "for i_sim in range(n_simulations):\n",
        "  n_duplicates_occured += len(np.unique(birthdays[:, i_sim])) != len(birthdays[:, i_sim])\n",
        "\n",
        "print(n_duplicates_occured/n_simulations)"
      ],
      "metadata": {
        "id": "ltSPkFY3293p",
        "colab": {
          "base_uri": "https://localhost:8080/"
        },
        "outputId": "34af31e0-da18-4911-aae7-e2959a4685ed"
      },
      "execution_count": null,
      "outputs": [
        {
          "output_type": "stream",
          "name": "stdout",
          "text": [
            "0.702\n"
          ]
        }
      ]
    },
    {
      "cell_type": "code",
      "source": [
        "a = np.array([4, 5, 1, 1])\n",
        "len(np.unique(a))"
      ],
      "metadata": {
        "colab": {
          "base_uri": "https://localhost:8080/"
        },
        "id": "yegKCaQO5oSt",
        "outputId": "780b07be-2de4-4828-9606-eb0bdeb3c6bd"
      },
      "execution_count": null,
      "outputs": [
        {
          "output_type": "execute_result",
          "data": {
            "text/plain": [
              "3"
            ]
          },
          "metadata": {},
          "execution_count": 49
        }
      ]
    },
    {
      "cell_type": "code",
      "source": [
        "len(a)"
      ],
      "metadata": {
        "colab": {
          "base_uri": "https://localhost:8080/"
        },
        "id": "rsHmQogg8mT9",
        "outputId": "7808f4bc-70cb-47f7-c4cd-f71ef083e6a1"
      },
      "execution_count": null,
      "outputs": [
        {
          "output_type": "execute_result",
          "data": {
            "text/plain": [
              "4"
            ]
          },
          "metadata": {},
          "execution_count": 50
        }
      ]
    },
    {
      "cell_type": "code",
      "source": [],
      "metadata": {
        "id": "X7YPpxyk8qOo"
      },
      "execution_count": null,
      "outputs": []
    }
  ]
}