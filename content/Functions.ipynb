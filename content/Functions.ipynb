{
  "nbformat": 4,
  "nbformat_minor": 0,
  "metadata": {
    "colab": {
      "name": "Functions.ipynb",
      "provenance": [],
      "collapsed_sections": [],
      "authorship_tag": "ABX9TyNBcXIXogS1ssp/AD4OgVNt",
      "include_colab_link": true
    },
    "kernelspec": {
      "name": "python3",
      "display_name": "Python 3"
    },
    "language_info": {
      "name": "python"
    }
  },
  "cells": [
    {
      "cell_type": "markdown",
      "metadata": {
        "id": "view-in-github",
        "colab_type": "text"
      },
      "source": [
        "<a href=\"https://colab.research.google.com/github/QMBC-Python/QMBC-Python.github.io/blob/main/content/Functions.ipynb\" target=\"_parent\"><img src=\"https://colab.research.google.com/assets/colab-badge.svg\" alt=\"Open In Colab\"/></a>"
      ]
    },
    {
      "cell_type": "markdown",
      "source": [
        "# 3.2 - Functions"
      ],
      "metadata": {
        "id": "W8crM_qN3kNH"
      }
    },
    {
      "cell_type": "code",
      "source": [
        "import numpy as np\n",
        "import matplotlib.pyplot as plt"
      ],
      "metadata": {
        "id": "vPoXX-le4BnL"
      },
      "execution_count": null,
      "outputs": []
    },
    {
      "cell_type": "code",
      "source": [
        "#@markdown Video: Tuples\n",
        "from IPython.display import YouTubeVideo\n",
        "video = YouTubeVideo(id=\"XmE4ovQcSKU\", width=854, height=480, fs=1)\n",
        "print(\"Video available at https://youtube.com/watch?v=\" + video.id)\n",
        "video"
      ],
      "metadata": {
        "cellView": "form",
        "colab": {
          "base_uri": "https://localhost:8080/",
          "height": 539
        },
        "id": "NOlrMDzUJqlN",
        "outputId": "98a7acec-c209-44cf-a89f-2e8ab5896ad6"
      },
      "execution_count": 44,
      "outputs": [
        {
          "output_type": "stream",
          "name": "stdout",
          "text": [
            "Video available at https://youtube.com/watch?v=XmE4ovQcSKU\n"
          ]
        },
        {
          "output_type": "execute_result",
          "data": {
            "text/html": [
              "\n",
              "        <iframe\n",
              "            width=\"854\"\n",
              "            height=\"480\"\n",
              "            src=\"https://www.youtube.com/embed/XmE4ovQcSKU?fs=1\"\n",
              "            frameborder=\"0\"\n",
              "            allowfullscreen\n",
              "        ></iframe>\n",
              "        "
            ],
            "text/plain": [
              "<IPython.lib.display.YouTubeVideo at 0x7ffb086fefd0>"
            ]
          },
          "metadata": {},
          "execution_count": 44
        }
      ]
    },
    {
      "cell_type": "markdown",
      "source": [
        "Reusable piece of code that performs some computation on inputs and returns outputs"
      ],
      "metadata": {
        "id": "PynnyblD4Rux"
      }
    },
    {
      "cell_type": "code",
      "source": [
        "x = np.random.randn(5, 7)"
      ],
      "metadata": {
        "id": "Dt1k6A_zAxb8"
      },
      "execution_count": null,
      "outputs": []
    },
    {
      "cell_type": "code",
      "source": [
        "sum_value = np.sum(x)\n",
        "\n",
        "print(sum_value)"
      ],
      "metadata": {
        "colab": {
          "base_uri": "https://localhost:8080/"
        },
        "id": "I4l7hS_8A5OU",
        "outputId": "06ce42c9-6de3-4c16-d9a7-b55f6325bec5"
      },
      "execution_count": null,
      "outputs": [
        {
          "output_type": "stream",
          "name": "stdout",
          "text": [
            "4.4596360930130245\n"
          ]
        }
      ]
    },
    {
      "cell_type": "code",
      "source": [
        "x.min()"
      ],
      "metadata": {
        "colab": {
          "base_uri": "https://localhost:8080/"
        },
        "id": "TaZVr3XnBK8k",
        "outputId": "69c23259-8b3b-4b17-e170-bc5cbaa6d9db"
      },
      "execution_count": null,
      "outputs": [
        {
          "output_type": "execute_result",
          "data": {
            "text/plain": [
              "-2.2334585111600354"
            ]
          },
          "metadata": {},
          "execution_count": 10
        }
      ]
    },
    {
      "cell_type": "code",
      "source": [
        "def is_it_hot(temperature):\n",
        "\n",
        "  ans = temperature > 70\n",
        "\n",
        "  return ans"
      ],
      "metadata": {
        "id": "dW6J90TCBP6N"
      },
      "execution_count": null,
      "outputs": []
    },
    {
      "cell_type": "code",
      "source": [
        "heat_boolean = is_it_hot(60)\n",
        "\n",
        "print(heat_boolean)"
      ],
      "metadata": {
        "colab": {
          "base_uri": "https://localhost:8080/"
        },
        "id": "YkKe3ssQBld3",
        "outputId": "4e51c00c-19b1-4642-99e9-adf85866b7a5"
      },
      "execution_count": null,
      "outputs": [
        {
          "output_type": "stream",
          "name": "stdout",
          "text": [
            "False\n"
          ]
        }
      ]
    },
    {
      "cell_type": "markdown",
      "source": [
        "### Multiple inputs/outputs\n",
        "\n",
        "Functions can have multiple arguments (and usually do)"
      ],
      "metadata": {
        "id": "vVkng5Bs449K"
      }
    },
    {
      "cell_type": "code",
      "source": [
        "def is_it_hot(temperature, threshold):\n",
        "\n",
        "  ans = temperature > threshold\n",
        "\n",
        "  return ans"
      ],
      "metadata": {
        "id": "oWa6R7h64uLB"
      },
      "execution_count": null,
      "outputs": []
    },
    {
      "cell_type": "code",
      "source": [
        "heat_boolean = is_it_hot(60, 70)"
      ],
      "metadata": {
        "id": "NcvQTO1oCLfR"
      },
      "execution_count": null,
      "outputs": []
    },
    {
      "cell_type": "markdown",
      "source": [
        "Functions can also return multiple outputs"
      ],
      "metadata": {
        "id": "rJkGKC9p5AZC"
      }
    },
    {
      "cell_type": "code",
      "source": [
        "def is_it_hot(temperature, threshold):\n",
        "\n",
        "  ans = temperature > threshold\n",
        "\n",
        "  degrees_c = (temperature - 32) * (5/9)\n",
        "\n",
        "  return ans, degrees_c"
      ],
      "metadata": {
        "id": "EUef900w4-3k"
      },
      "execution_count": null,
      "outputs": []
    },
    {
      "cell_type": "code",
      "source": [
        "outs = is_it_hot(70, 80)"
      ],
      "metadata": {
        "id": "SJUH8XCi5Czp"
      },
      "execution_count": null,
      "outputs": []
    },
    {
      "cell_type": "code",
      "source": [
        "outs[1]"
      ],
      "metadata": {
        "colab": {
          "base_uri": "https://localhost:8080/"
        },
        "id": "2xaTW4hR5GcC",
        "outputId": "cd05b4e3-a944-4e36-ed73-ba4abbe3f2a5"
      },
      "execution_count": null,
      "outputs": [
        {
          "output_type": "execute_result",
          "data": {
            "text/plain": [
              "21.11111111111111"
            ]
          },
          "metadata": {},
          "execution_count": 32
        }
      ]
    },
    {
      "cell_type": "code",
      "source": [
        "heat_decision, degrees_C = is_it_hot(70, 80)\n",
        "\n",
        "print(heat_decision)"
      ],
      "metadata": {
        "id": "z1PeCEr-5EcS",
        "colab": {
          "base_uri": "https://localhost:8080/"
        },
        "outputId": "6ac53d5e-a164-488c-b82c-510580ac58de"
      },
      "execution_count": null,
      "outputs": [
        {
          "output_type": "stream",
          "name": "stdout",
          "text": [
            "False\n"
          ]
        }
      ]
    },
    {
      "cell_type": "markdown",
      "source": [
        "### Keyword vs position arguments\n",
        "\n",
        "Keyword arguments are nice because it's easier to see what we're calling and make sure we're not mixing up the ordering"
      ],
      "metadata": {
        "id": "gNgSqGN25Tg7"
      }
    },
    {
      "cell_type": "code",
      "source": [
        "outs = is_it_hot(temperature = 60, threshold = 70)"
      ],
      "metadata": {
        "id": "DHh2JyTp5hxT"
      },
      "execution_count": null,
      "outputs": []
    },
    {
      "cell_type": "code",
      "source": [
        "outs = is_it_hot(60, 70)"
      ],
      "metadata": {
        "id": "aC3HDTJMDHtW"
      },
      "execution_count": null,
      "outputs": []
    },
    {
      "cell_type": "code",
      "source": [
        "outs = is_it_hot(threshold = 70, temperature = 60)"
      ],
      "metadata": {
        "id": "fAv62PvSDR51"
      },
      "execution_count": null,
      "outputs": []
    },
    {
      "cell_type": "markdown",
      "source": [
        "We should try not to reverse the ordering, even though we can"
      ],
      "metadata": {
        "id": "xqn2Ruih5dFq"
      }
    },
    {
      "cell_type": "code",
      "source": [
        ""
      ],
      "metadata": {
        "id": "Wn1FSAvE5ciS"
      },
      "execution_count": null,
      "outputs": []
    },
    {
      "cell_type": "markdown",
      "source": [
        "We can't have keyword arguments before positional arguments but we can do the other way around."
      ],
      "metadata": {
        "id": "TSOalt7V5g80"
      }
    },
    {
      "cell_type": "code",
      "source": [
        "is_it_hot(temperature = 60, 70)"
      ],
      "metadata": {
        "colab": {
          "base_uri": "https://localhost:8080/",
          "height": 132
        },
        "id": "fg1BqKM75fjE",
        "outputId": "0db2c379-6d89-4920-f163-cf6d0dcea9d6"
      },
      "execution_count": null,
      "outputs": [
        {
          "output_type": "error",
          "ename": "SyntaxError",
          "evalue": "ignored",
          "traceback": [
            "\u001b[0;36m  File \u001b[0;32m\"<ipython-input-37-17eeeeef3401>\"\u001b[0;36m, line \u001b[0;32m1\u001b[0m\n\u001b[0;31m    is_it_hot(temperature = 60, 70)\u001b[0m\n\u001b[0m                               ^\u001b[0m\n\u001b[0;31mSyntaxError\u001b[0m\u001b[0;31m:\u001b[0m positional argument follows keyword argument\n"
          ]
        }
      ]
    },
    {
      "cell_type": "code",
      "source": [
        "is_it_hot(60, threshold = 70)"
      ],
      "metadata": {
        "colab": {
          "base_uri": "https://localhost:8080/"
        },
        "id": "nnJ9uQXsDg0m",
        "outputId": "d35d6ef5-d930-40c5-e8a1-69040eee2960"
      },
      "execution_count": null,
      "outputs": [
        {
          "output_type": "execute_result",
          "data": {
            "text/plain": [
              "(False, 15.555555555555557)"
            ]
          },
          "metadata": {},
          "execution_count": 38
        }
      ]
    },
    {
      "cell_type": "code",
      "source": [
        "np.sum(a = x, axis = 0)"
      ],
      "metadata": {
        "colab": {
          "base_uri": "https://localhost:8080/"
        },
        "id": "V_OcDpEPDkFu",
        "outputId": "7ffbc1a3-9563-47a9-949b-53ba20fcabcb"
      },
      "execution_count": null,
      "outputs": [
        {
          "output_type": "execute_result",
          "data": {
            "text/plain": [
              "array([ 3.52098249, -2.70972676,  0.29220879, -1.03571279, -1.8075147 ,\n",
              "        3.2422367 ,  2.95716238])"
            ]
          },
          "metadata": {},
          "execution_count": 40
        }
      ]
    },
    {
      "cell_type": "markdown",
      "source": [
        "We can also have default values."
      ],
      "metadata": {
        "id": "QxQLnq0Z6NAM"
      }
    },
    {
      "cell_type": "code",
      "source": [
        "def is_it_hot(temperature, threshold = 70):\n",
        "\n",
        "  ans = temperature > threshold\n",
        "\n",
        "  degrees_c = (temperature - 32) * (5/9)\n",
        "\n",
        "  return ans, degrees_c"
      ],
      "metadata": {
        "id": "cFUiwTQF6Dzl"
      },
      "execution_count": null,
      "outputs": []
    },
    {
      "cell_type": "code",
      "source": [
        "is_it_hot(60)"
      ],
      "metadata": {
        "colab": {
          "base_uri": "https://localhost:8080/"
        },
        "id": "ThM7L4aADxB-",
        "outputId": "d973a89a-bf28-4968-efba-5ef1cb0aa507"
      },
      "execution_count": null,
      "outputs": [
        {
          "output_type": "execute_result",
          "data": {
            "text/plain": [
              "(False, 15.555555555555557)"
            ]
          },
          "metadata": {},
          "execution_count": 42
        }
      ]
    },
    {
      "cell_type": "code",
      "source": [
        "is_it_hot(60, 55)"
      ],
      "metadata": {
        "colab": {
          "base_uri": "https://localhost:8080/"
        },
        "id": "lpTelbMaDylW",
        "outputId": "50dc201a-f8f1-4ba2-ae12-731efb5f0dbe"
      },
      "execution_count": null,
      "outputs": [
        {
          "output_type": "execute_result",
          "data": {
            "text/plain": [
              "(True, 15.555555555555557)"
            ]
          },
          "metadata": {},
          "execution_count": 43
        }
      ]
    },
    {
      "cell_type": "code",
      "source": [
        ""
      ],
      "metadata": {
        "id": "lsYOokjyD4ve"
      },
      "execution_count": null,
      "outputs": []
    }
  ]
}