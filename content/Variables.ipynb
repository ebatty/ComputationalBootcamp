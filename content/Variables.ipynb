{
  "nbformat": 4,
  "nbformat_minor": 0,
  "metadata": {
    "colab": {
      "name": "Variables.ipynb",
      "provenance": [],
      "authorship_tag": "ABX9TyPNrLEeH0M1/BuvjSNuKsNH",
      "include_colab_link": true
    },
    "kernelspec": {
      "name": "python3",
      "display_name": "Python 3"
    },
    "language_info": {
      "name": "python"
    }
  },
  "cells": [
    {
      "cell_type": "markdown",
      "metadata": {
        "id": "view-in-github",
        "colab_type": "text"
      },
      "source": [
        "<a href=\"https://colab.research.google.com/github/ebatty/ComputationalBootcamp/blob/master/content/Variables.ipynb\" target=\"_parent\"><img src=\"https://colab.research.google.com/assets/colab-badge.svg\" alt=\"Open In Colab\"/></a>"
      ]
    },
    {
      "cell_type": "markdown",
      "source": [
        "# Variables\n"
      ],
      "metadata": {
        "id": "c1GP0wHh2kYa"
      }
    },
    {
      "cell_type": "code",
      "source": [
        "#@markdown Video: Variables\n",
        "from IPython.display import YouTubeVideo\n",
        "video = YouTubeVideo(id=\"DKV78n0cHog\", width=854, height=480, fs=1)\n",
        "print(\"Video available at https://youtube.com/watch?v=\" + video.id)\n",
        "video"
      ],
      "metadata": {
        "colab": {
          "base_uri": "https://localhost:8080/",
          "height": 519
        },
        "id": "CT7m9x2Q2lKx",
        "outputId": "e034d7af-1d6c-4c9e-84e3-7f780cef1199"
      },
      "execution_count": null,
      "outputs": [
        {
          "output_type": "stream",
          "name": "stdout",
          "text": [
            "Video available at https://youtube.com/watch?v=DKV78n0cHog\n"
          ]
        },
        {
          "output_type": "execute_result",
          "data": {
            "text/plain": [
              "<IPython.lib.display.YouTubeVideo at 0x7f835a5cb490>"
            ],
            "text/html": [
              "\n",
              "        <iframe\n",
              "            width=\"854\"\n",
              "            height=\"480\"\n",
              "            src=\"https://www.youtube.com/embed/DKV78n0cHog?fs=1\"\n",
              "            frameborder=\"0\"\n",
              "            allowfullscreen\n",
              "        ></iframe>\n",
              "        "
            ],
            "image/jpeg": "[encoded data removed]"
          },
          "metadata": {},
          "execution_count": 1
        }
      ]
    },
    {
      "cell_type": "markdown",
      "source": [
        "## What is a variable"
      ],
      "metadata": {
        "id": "sIdGDFow_taa"
      }
    },
    {
      "cell_type": "markdown",
      "source": [
        "![picture](https://raw.githubusercontent.com/ebatty/ComputationalBootcamp/master/images/Variables.png)"
      ],
      "metadata": {
        "id": "1GrkcriT_v9A"
      }
    },
    {
      "cell_type": "code",
      "execution_count": null,
      "metadata": {
        "id": "lNt9vXm0Vsbd"
      },
      "outputs": [],
      "source": [
        "n_trials = 100"
      ]
    },
    {
      "cell_type": "code",
      "source": [
        "100 * 2"
      ],
      "metadata": {
        "id": "cQrTU_WJZ61W",
        "colab": {
          "base_uri": "https://localhost:8080/"
        },
        "outputId": "51af757c-e479-40d4-8a92-410ef53d28f1"
      },
      "execution_count": null,
      "outputs": [
        {
          "output_type": "execute_result",
          "data": {
            "text/plain": [
              "10"
            ]
          },
          "metadata": {},
          "execution_count": 3
        }
      ]
    },
    {
      "cell_type": "code",
      "source": [
        "n_trials * 1"
      ],
      "metadata": {
        "id": "ZY2I7DJf_6rI"
      },
      "execution_count": null,
      "outputs": []
    },
    {
      "cell_type": "markdown",
      "source": [
        "Variables can change. You can assign a different value to the same variable name."
      ],
      "metadata": {
        "id": "_lZkUTU3_9fv"
      }
    },
    {
      "cell_type": "code",
      "source": [
        "n_trials = 100\n",
        "n_trials = 20\n",
        "n_trials"
      ],
      "metadata": {
        "id": "QvUJC__q_-7f",
        "outputId": "12888515-7c9e-45f9-f6ed-30b9bbd19d1c",
        "colab": {
          "base_uri": "https://localhost:8080/"
        }
      },
      "execution_count": null,
      "outputs": [
        {
          "output_type": "execute_result",
          "data": {
            "text/plain": [
              "20"
            ]
          },
          "metadata": {},
          "execution_count": 2
        }
      ]
    },
    {
      "cell_type": "markdown",
      "source": [
        "## Why do we use variables?\n",
        "\n",
        "We use variables so we can keep track of data throughout code, and change it easily. "
      ],
      "metadata": {
        "id": "oNqYp-4KAAvD"
      }
    },
    {
      "cell_type": "code",
      "source": [
        "n_trials = 50  # change this to try out different numbers of trials\n",
        "import random\n",
        "n_heads = 0\n",
        "for i in range(n_trials):\n",
        "    is_it_heads = random.choice([1, 0])\n",
        "    n_heads += is_it_heads\n",
        "proportion_heads = n_heads/n_trials\n",
        "print(f'In {n_trials} trials, it came up heads {proportion_heads} of the time')\n"
      ],
      "metadata": {
        "id": "KC0wCPLwACun",
        "outputId": "14d74bc9-cc4d-42d1-8adc-fa6df71a4171",
        "colab": {
          "base_uri": "https://localhost:8080/"
        }
      },
      "execution_count": null,
      "outputs": [
        {
          "output_type": "stream",
          "name": "stdout",
          "text": [
            "In 50 trials, it came up heads 0.5 of the time\n"
          ]
        }
      ]
    },
    {
      "cell_type": "markdown",
      "source": [
        "## Other types of data\n",
        "\n",
        "Our data can have different types, not just be numbers. For example, we can have a variable with a value that is a string."
      ],
      "metadata": {
        "id": "RCpzndfaAMSq"
      }
    },
    {
      "cell_type": "code",
      "source": [
        "my_variable = 'a string'\n",
        "type(my_variable)"
      ],
      "metadata": {
        "id": "P6Tc7IuBANwX",
        "outputId": "1ee762c7-ec4b-4593-b818-2a870d345f13",
        "colab": {
          "base_uri": "https://localhost:8080/"
        }
      },
      "execution_count": null,
      "outputs": [
        {
          "output_type": "execute_result",
          "data": {
            "text/plain": [
              "str"
            ]
          },
          "metadata": {},
          "execution_count": 4
        }
      ]
    },
    {
      "cell_type": "code",
      "source": [
        "my_variable = 5\n",
        "type(my_variable)"
      ],
      "metadata": {
        "id": "eLmuP8pFAPEu",
        "outputId": "169a2b9a-b2d9-4b94-c329-c40426406f6c",
        "colab": {
          "base_uri": "https://localhost:8080/"
        }
      },
      "execution_count": null,
      "outputs": [
        {
          "output_type": "execute_result",
          "data": {
            "text/plain": [
              "int"
            ]
          },
          "metadata": {},
          "execution_count": 5
        }
      ]
    },
    {
      "cell_type": "markdown",
      "source": [
        "## Naming variables\n",
        "1.   Starts with letter and then consists of letters and numbers (no special characters)\n",
        "2.  Should be lowercase with underscores as necessary - no mixedCase\n",
        "3. Be concise but descriptive!\n",
        "4. Avoid reserved words"
      ],
      "metadata": {
        "id": "y0zDSW9oV4eN"
      }
    },
    {
      "cell_type": "code",
      "source": [
        "help('keywords')"
      ],
      "metadata": {
        "id": "tT59J8eGfSGs",
        "colab": {
          "base_uri": "https://localhost:8080/"
        },
        "outputId": "9b3fbec9-db90-4618-e086-502686590e7b"
      },
      "execution_count": null,
      "outputs": [
        {
          "output_type": "stream",
          "name": "stdout",
          "text": [
            "\n",
            "Here is a list of the Python keywords.  Enter any keyword to get more help.\n",
            "\n",
            "False               class               from                or\n",
            "None                continue            global              pass\n",
            "True                def                 if                  raise\n",
            "and                 del                 import              return\n",
            "as                  elif                in                  try\n",
            "assert              else                is                  while\n",
            "async               except              lambda              with\n",
            "await               finally             nonlocal            yield\n",
            "break               for                 not                 \n",
            "\n"
          ]
        }
      ]
    },
    {
      "cell_type": "markdown",
      "source": [
        "**Which of these variable names obey Python style?**\n",
        "\n",
        "`x`: not very descriptive\n",
        "\n",
        "`rnasequence`: should be underscore between rna and sequence\n",
        "\n",
        "`mouse_speed`: perfect\n",
        "\n",
        "`temperature&speed`: special character (&)\n",
        "\n",
        "`fr`: not very descriptive\n",
        "\n",
        "`frame_rate`: perfect\n",
        "\n",
        "`temperature`: perfect\n",
        "\n",
        "`def`: reserved word"
      ],
      "metadata": {
        "id": "lm-Y_YsNYPKa"
      }
    }
  ]
}