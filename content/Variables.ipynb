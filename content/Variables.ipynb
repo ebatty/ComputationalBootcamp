{
  "nbformat": 4,
  "nbformat_minor": 0,
  "metadata": {
    "colab": {
      "name": "Variables.ipynb",
      "provenance": [],
      "authorship_tag": "ABX9TyP4fH08/sfBXgkFWBwJM20s",
      "include_colab_link": true
    },
    "kernelspec": {
      "name": "python3",
      "display_name": "Python 3"
    },
    "language_info": {
      "name": "python"
    }
  },
  "cells": [
    {
      "cell_type": "markdown",
      "metadata": {
        "id": "view-in-github",
        "colab_type": "text"
      },
      "source": [
        "<a href=\"https://colab.research.google.com/github/QMBC-Python/QMBC-Python.github.io/blob/main/content/Variables.ipynb\" target=\"_parent\"><img src=\"https://colab.research.google.com/assets/colab-badge.svg\" alt=\"Open In Colab\"/></a>"
      ]
    },
    {
      "cell_type": "markdown",
      "source": [
        "# 1.2 - Variables\n"
      ],
      "metadata": {
        "id": "c1GP0wHh2kYa"
      }
    },
    {
      "cell_type": "code",
      "source": [
        "#@markdown Video: Variables\n",
        "from IPython.display import YouTubeVideo\n",
        "video = YouTubeVideo(id=\"6-IamwF2Xzg\", width=854, height=480, fs=1)\n",
        "print(\"Video available at https://youtube.com/watch?v=\" + video.id)\n",
        "video"
      ],
      "metadata": {
        "colab": {
          "base_uri": "https://localhost:8080/",
          "height": 519
        },
        "cellView": "form",
        "id": "CT7m9x2Q2lKx",
        "outputId": "2cccfddd-f288-4f0e-e423-dd011765c550"
      },
      "execution_count": null,
      "outputs": [
        {
          "output_type": "stream",
          "name": "stdout",
          "text": [
            "Video available at https://youtube.com/watch?v=6-IamwF2Xzg\n"
          ]
        },
        {
          "output_type": "execute_result",
          "data": {
            "text/html": [
              "\n",
              "        <iframe\n",
              "            width=\"854\"\n",
              "            height=\"480\"\n",
              "            src=\"https://www.youtube.com/embed/6-IamwF2Xzg?fs=1\"\n",
              "            frameborder=\"0\"\n",
              "            allowfullscreen\n",
              "        ></iframe>\n",
              "        "
            ],
            "text/plain": [
              "<IPython.lib.display.YouTubeVideo at 0x7f03ef1b0990>"
            ],
            "image/jpeg": "[encoded data removed]"
          },
          "metadata": {},
          "execution_count": 1
        }
      ]
    },
    {
      "cell_type": "markdown",
      "source": [
        "\n",
        "Store values\n",
        "\n",
        "`name = value`"
      ],
      "metadata": {
        "id": "-mOD0Je-VxFN"
      }
    },
    {
      "cell_type": "code",
      "execution_count": null,
      "metadata": {
        "id": "lNt9vXm0Vsbd"
      },
      "outputs": [],
      "source": [
        "my_variable = 5"
      ]
    },
    {
      "cell_type": "code",
      "source": [
        "my_variable * 2"
      ],
      "metadata": {
        "id": "cQrTU_WJZ61W",
        "colab": {
          "base_uri": "https://localhost:8080/"
        },
        "outputId": "51af757c-e479-40d4-8a92-410ef53d28f1"
      },
      "execution_count": null,
      "outputs": [
        {
          "output_type": "execute_result",
          "data": {
            "text/plain": [
              "10"
            ]
          },
          "metadata": {},
          "execution_count": 3
        }
      ]
    },
    {
      "cell_type": "markdown",
      "source": [
        "## Naming variables\n",
        "1.   Starts with letter and then consists of letters and numbers (no special characters)\n",
        "2.  Should be lowercase with underscores as necessary - no mixedCase\n",
        "3. Be concise but descriptive!\n",
        "4. Avoid reserved words"
      ],
      "metadata": {
        "id": "y0zDSW9oV4eN"
      }
    },
    {
      "cell_type": "code",
      "source": [
        "help('keywords')"
      ],
      "metadata": {
        "id": "tT59J8eGfSGs",
        "colab": {
          "base_uri": "https://localhost:8080/"
        },
        "outputId": "9b3fbec9-db90-4618-e086-502686590e7b"
      },
      "execution_count": null,
      "outputs": [
        {
          "output_type": "stream",
          "name": "stdout",
          "text": [
            "\n",
            "Here is a list of the Python keywords.  Enter any keyword to get more help.\n",
            "\n",
            "False               class               from                or\n",
            "None                continue            global              pass\n",
            "True                def                 if                  raise\n",
            "and                 del                 import              return\n",
            "as                  elif                in                  try\n",
            "assert              else                is                  while\n",
            "async               except              lambda              with\n",
            "await               finally             nonlocal            yield\n",
            "break               for                 not                 \n",
            "\n"
          ]
        }
      ]
    },
    {
      "cell_type": "markdown",
      "source": [
        "**Which of these variable names obey Python style?**\n",
        "\n",
        "`x`: not very descriptive\n",
        "\n",
        "`rnasequence`: should be underscore between rna and sequence\n",
        "\n",
        "`mouse_speed`: perfect\n",
        "\n",
        "`temperature&speed`: special character (&)\n",
        "\n",
        "`fr`: not very descriptive\n",
        "\n",
        "`frame_rate`: perfect\n",
        "\n",
        "`temperature`: perfect\n",
        "\n",
        "`def`: reserved word"
      ],
      "metadata": {
        "id": "lm-Y_YsNYPKa"
      }
    },
    {
      "cell_type": "markdown",
      "source": [
        "# Data types\n",
        "\n",
        "\n",
        "\n",
        "*   integers: whole numbers\n",
        "*   floats: numbers with decimal points\n",
        "*   strings: text\n",
        "*   Booleans: True or False\n",
        "\n"
      ],
      "metadata": {
        "id": "gdHiS6jdnmmc"
      }
    },
    {
      "cell_type": "code",
      "source": [
        "my_variable = 5\n",
        "type(my_variable)"
      ],
      "metadata": {
        "id": "ci-7gI7KoWw_",
        "colab": {
          "base_uri": "https://localhost:8080/"
        },
        "outputId": "5a8029b3-c26d-4f1a-b41a-aa0e3fa5ad6f"
      },
      "execution_count": null,
      "outputs": [
        {
          "output_type": "execute_result",
          "data": {
            "text/plain": [
              "int"
            ]
          },
          "metadata": {},
          "execution_count": 5
        }
      ]
    },
    {
      "cell_type": "code",
      "source": [
        "my_variable = 5.1\n",
        "type(my_variable)"
      ],
      "metadata": {
        "colab": {
          "base_uri": "https://localhost:8080/"
        },
        "id": "EjTlTGAXpFvz",
        "outputId": "e0985cc1-7394-4af9-f773-248b470876ea"
      },
      "execution_count": null,
      "outputs": [
        {
          "output_type": "execute_result",
          "data": {
            "text/plain": [
              "float"
            ]
          },
          "metadata": {},
          "execution_count": 6
        }
      ]
    },
    {
      "cell_type": "code",
      "source": [
        "my_string = 'Hello'\n",
        "type(my_string)"
      ],
      "metadata": {
        "colab": {
          "base_uri": "https://localhost:8080/"
        },
        "id": "TOmaixPIpJsd",
        "outputId": "d3aef5d5-4f02-4ea4-f8f0-b44ca53a5604"
      },
      "execution_count": null,
      "outputs": [
        {
          "output_type": "execute_result",
          "data": {
            "text/plain": [
              "str"
            ]
          },
          "metadata": {},
          "execution_count": 7
        }
      ]
    },
    {
      "cell_type": "code",
      "source": [
        "my_boolean = False\n",
        "type(my_boolean)"
      ],
      "metadata": {
        "colab": {
          "base_uri": "https://localhost:8080/"
        },
        "id": "hzgHVVQCpQsH",
        "outputId": "62ca60ae-f295-47ef-a870-4520ea04182d"
      },
      "execution_count": null,
      "outputs": [
        {
          "output_type": "execute_result",
          "data": {
            "text/plain": [
              "bool"
            ]
          },
          "metadata": {},
          "execution_count": 8
        }
      ]
    }
  ]
}