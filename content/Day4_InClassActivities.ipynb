{
  "nbformat": 4,
  "nbformat_minor": 0,
  "metadata": {
    "colab": {
      "name": "Day4_InClassActivities.ipynb",
      "provenance": [],
      "collapsed_sections": [],
      "toc_visible": true,
      "include_colab_link": true
    },
    "kernelspec": {
      "name": "python3",
      "display_name": "Python 3"
    },
    "language_info": {
      "name": "python"
    }
  },
  "cells": [
    {
      "cell_type": "markdown",
      "metadata": {
        "id": "view-in-github",
        "colab_type": "text"
      },
      "source": [
        "<a href=\"https://colab.research.google.com/github/QMBC-Python/QMBC-Python.github.io/blob/main/content/Day4_InClassActivities.ipynb\" target=\"_parent\"><img src=\"https://colab.research.google.com/assets/colab-badge.svg\" alt=\"Open In Colab\"/></a>"
      ]
    },
    {
      "cell_type": "markdown",
      "source": [
        "# 4 - In-class activities"
      ],
      "metadata": {
        "id": "aGvxIM75lSa0"
      }
    },
    {
      "cell_type": "code",
      "execution_count": null,
      "metadata": {
        "id": "uxQbo1UpIdyi"
      },
      "outputs": [],
      "source": [
        "import numpy as np\n",
        "import matplotlib.pyplot as plt\n",
        "\n",
        "# Upgrade scipy to latest version\n",
        "!pip install scipy --upgrade"
      ]
    },
    {
      "cell_type": "markdown",
      "source": [
        "## Warm-up exercises"
      ],
      "metadata": {
        "id": "eVQDlMgkKaSL"
      }
    },
    {
      "cell_type": "markdown",
      "source": [
        "### Heads on two coin tosses\n",
        "\n",
        "What is the probability of getting heads on two coin tosses?\n",
        "\n",
        "\n"
      ],
      "metadata": {
        "id": "SMVgaF_dIz-H"
      }
    },
    {
      "cell_type": "code",
      "source": [
        ""
      ],
      "metadata": {
        "id": "EobdWbm8kRxi"
      },
      "execution_count": null,
      "outputs": []
    },
    {
      "cell_type": "markdown",
      "source": [
        "### Simulation of probability of A\n",
        "\n",
        "Problem 2 from Homework 2: In the following code, what's the chance that A will equal 1?\n",
        "\n",
        "\n",
        "\n",
        "```\n",
        "A = np.ceil(np.random.rand()*100)\n",
        "\n",
        "if A % 10 != 2:\n",
        "  A = 1\n",
        "else:\n",
        "  A = 2\n",
        "```\n"
      ],
      "metadata": {
        "id": "UWXtmoJXI2ee"
      }
    },
    {
      "cell_type": "code",
      "source": [
        ""
      ],
      "metadata": {
        "id": "oNTHhxk1kSGs"
      },
      "execution_count": null,
      "outputs": []
    },
    {
      "cell_type": "markdown",
      "source": [
        "## Rattus binomialis\n",
        "\n",
        "Revisions:\n",
        "\n",
        "RTB wrote it, 23 April 2011 as \"binodemo.m\"\n",
        "\n",
        "RTB revised it, 23 May 2011 as \"binorat.m\"\n",
        "\n",
        "DAR updated it, 4 August 2011 as two files. This pdf and corresponding “binorat.m\"\n",
        "\n",
        "JW updated and reformatted on 8 August 2011\n",
        "\n",
        "RTB added exercise 10 (number picking), 27 May 2012, saved as \"BinoRat.m\"\n",
        "RTB separated the four-choice probability exercise into a separate module (\"Four-choice\n",
        "probability.doc\"), 20 May 2014.\n",
        "\n",
        "RTB added image of rat, 01 August 2017\n",
        "\n",
        "ERBB converted to Python,  January 2022\n",
        "\n",
        "A rat is performing a \"2-alternative forced choice\" (2AFC) task in which it must identify an odor presented at a central port. If it detects odor 'A' it should choose the right-hand port for a reward; if it detects odor B it should choose the other port.\n",
        "\n",
        "Early in training, the rat seems to get it wrong as often as he gets it right. So you decide to do a test and keep track of his correct rate for a block of 50 trials. After 50 trials, we see that the rat has gotten 31 trials correct (19 trials wrong) for an average of 62% correct. You want to know if the rat has learned the task or if he is still guessing.\n",
        "\n",
        "Let's say that we know nothing about probability theory or the binomial distribution, so we will just use the brute force power of a simple simulation.\n",
        "\n",
        "*What is the null hypothesis?*\n",
        "\n",
        "Since there are only two possible answers, this corresponds to a correct probability of 0.5, which is identical to the rate at which tossing a fair coin should produce a tail (or a head). So our previous question can be put as: **how often would one expect to get 31 (or more) tails out of 50 coin tosses?**\n",
        "\n",
        "*Why is the paranthetical \"or more\" added to the previous sentence?*\n",
        "\n",
        "Well, we're not really interested in the probability of the rat getting exactly 31 of 50 trials correct. We're looking for conditions under which we would reject the null hypothesis of guessing. So we would clearly count any performance that was better then 31 as well. To answer with a real coin would take a long time, but computers are fast, so we can let the computer do the flipping. How?\n",
        "\n",
        "\n",
        "**Step 1: Write a single line of code to simulate a coin toss. It should return a 1 for heads and a 0 for tails.**\n",
        "\n",
        "How many ways can you think of to do this?\n",
        "\n",
        "\n"
      ],
      "metadata": {
        "id": "rPaAakdGLlCw"
      }
    },
    {
      "cell_type": "code",
      "source": [
        ""
      ],
      "metadata": {
        "id": "fjhkRs4ojZ6s"
      },
      "execution_count": null,
      "outputs": []
    },
    {
      "cell_type": "markdown",
      "source": [
        "To address our particular question, we need to find the number of occurrences of tails in runs of 50 tosses. \n",
        "\n",
        "How might we do this?"
      ],
      "metadata": {
        "id": "i9Ze5CV8N2Gc"
      }
    },
    {
      "cell_type": "markdown",
      "source": [
        "**Step 2: Write a for loop to simulate 50 coin tosses and store the results in an array called tosses**\n",
        "\n",
        "We want to know how often a certain number of tails is likely to occur in a run of 50 tosses, so we need to repeat the coin flip 50 times. Then we can ask whether, in those 50 tosses, we observed 31 or more tails. One way to solve this problem is by writing a for loop.\n",
        "\n",
        "*What is a for loop?*\n",
        "\n",
        "Let's start by initializing some variables - *what types of variables will we need for this simulation?*\n",
        "\n",
        "Create your array to store the results first:\n",
        "\n",
        "`all_trials = np.zeros((n,))` \n",
        "\n",
        "*Why did we initialize this variable with zeros?*"
      ],
      "metadata": {
        "id": "eIO1X90zOD7A"
      }
    },
    {
      "cell_type": "code",
      "source": [
        ""
      ],
      "metadata": {
        "id": "hpYE2TRSjZW4"
      },
      "execution_count": null,
      "outputs": []
    },
    {
      "cell_type": "markdown",
      "source": [
        "How many correct guesses did you get? Was it more or less than 31? Run your loop a few more times (but remember to reset all_trials before each time), do you get the same result? Why or why not?\n",
        "\n",
        "This was good for simulating 50 trials but if we want to answer our original question, we will need to simulate 50 trials lots of times."
      ],
      "metadata": {
        "id": "ezYQgGA2P-xX"
      }
    },
    {
      "cell_type": "markdown",
      "source": [
        "**Step 3:** Code a pair of nested for loops that will do `n_sim` simulations of 50 coin tosses and store the resulting number of heads on each simulation in `sim_results`.\n",
        "\n",
        "Step 2 has us simulate flipping a coin 50 times. But we want to flip a coin 50 times lots of times so that we can generate an understanding of how likely we are to turn up 31 tails.\n",
        "\n",
        "*How can we simulate 50 coin flips 1000 times?*\n",
        "\n",
        "*What additional variables will we need?*\n",
        "\n",
        "Now we can ask how often a given result (31 or more tails) happens in 1000 simulations. To do that, we will need to write a nested for loop. Do this and compute what proportion of the time we succeeded in getting 31 or more tails. \n",
        "\n",
        "*If you run your nested for loops again, do you get the same answer? How can you get a progressively \"better\" answer?*"
      ],
      "metadata": {
        "id": "ubK09l8MQN6M"
      }
    },
    {
      "cell_type": "code",
      "source": [
        ""
      ],
      "metadata": {
        "id": "NkQYyuMajkSP"
      },
      "execution_count": null,
      "outputs": []
    },
    {
      "cell_type": "markdown",
      "source": [
        "**Step 4: write code that will do the same thing without for loops**\n",
        "\n",
        "Because numpy is vectorized, we can often do things much more efficiently using indexig and operators that work across entire arrays or functions that work along a specific dimension, wuch as down columns.\n",
        "\n",
        "*How might you solve this problem without relying on for loops?*\n",
        "\n",
        "This code will be much more satisfying code (fewer lines!) and it will execute much more quickly."
      ],
      "metadata": {
        "id": "QmNSHxHYRm5f"
      }
    },
    {
      "cell_type": "code",
      "source": [
        ""
      ],
      "metadata": {
        "id": "k0xs8kfFlKjT"
      },
      "execution_count": null,
      "outputs": []
    },
    {
      "cell_type": "markdown",
      "source": [
        "**Extra step: time your two solutions**\n",
        "\n",
        "\n",
        " You can test the speed of your code in one of two ways. The first is in the next cell: import the package time, record the start time, record the end time, and print the difference (will be in seconds)."
      ],
      "metadata": {
        "id": "1coLEFeUSvo9"
      }
    },
    {
      "cell_type": "code",
      "source": [
        "import time\n",
        "\n",
        "start = time.time()\n",
        "# Code I am timing\n",
        "y = 6 * 10\n",
        "end = time.time()\n",
        "\n",
        "print(end - start)"
      ],
      "metadata": {
        "id": "v7Eb1ytKRhTX"
      },
      "execution_count": null,
      "outputs": []
    },
    {
      "cell_type": "markdown",
      "source": [
        "Or you can use %%timeit if you are using a jupyter notebook (or colab notebook like this one). This tests the code in the same cell and does a more rigorous test by running it many times and computing the average runtime."
      ],
      "metadata": {
        "id": "ywx1gL4qSh-N"
      }
    },
    {
      "cell_type": "code",
      "source": [
        "%%timeit\n",
        "# Code I am timing\n",
        "y = 6 * 10"
      ],
      "metadata": {
        "id": "j8TsE-7gSAnW"
      },
      "execution_count": null,
      "outputs": []
    },
    {
      "cell_type": "markdown",
      "source": [
        "Test both of your solutions (for loops and vectorized version) and see the speed difference."
      ],
      "metadata": {
        "id": "HK1P1I9PSque"
      }
    },
    {
      "cell_type": "code",
      "source": [
        ""
      ],
      "metadata": {
        "id": "sf99Ryx7j1f9"
      },
      "execution_count": null,
      "outputs": []
    },
    {
      "cell_type": "markdown",
      "source": [
        "**Step 5: Using scipy.stats.binom, write code that will give the probability of getting 31 or more correct answers**\n",
        "\n",
        "You might vaguely recall that events like coin tosses, where there are only two possible outcomes, are described by the binomial distribution . Based on your knowledge of\n",
        "Python, you might expect that there is an existing function that will make our task easier. There are a few - we will use `scipy.stats.binom`\n",
        "\n",
        "*Using `scipy.stats.binom`, what is the probability of getting (exactly) 5 heads from 10 tosses? How can we use binom.pmf to solve this question?\n",
        "How can we use binom.cdf to solve this question?*\n",
        "\n",
        "*What are cumulative distribution functions (CDFs) and probability density functions (PDFs)? Which function would be appropriate to use to determine the probability of getting 5 or fewer heads from ten tosses?*\n",
        "\n"
      ],
      "metadata": {
        "id": "NOxE20KfV0Z2"
      }
    },
    {
      "cell_type": "code",
      "source": [
        ""
      ],
      "metadata": {
        "id": "UNi-nXiFj3y9"
      },
      "execution_count": null,
      "outputs": []
    },
    {
      "cell_type": "markdown",
      "source": [
        "**EXTRA Step 6: Visualize the results from your simulation**\n",
        "\n",
        "Use the array named `sim_results` from Step 3 and plot its values.\n",
        "\n",
        "Now, calculate the mean, standard deviation and standard error of `sim_results`. How do these values change as a function of the number of simulations?\n",
        "\n",
        "Remake a histogram plot of `sim_results` but change the Y-axis values to percent occurrence rather than count number."
      ],
      "metadata": {
        "id": "cBve4OPUXz3D"
      }
    },
    {
      "cell_type": "code",
      "source": [
        ""
      ],
      "metadata": {
        "id": "xRBwlWgKj5Lb"
      },
      "execution_count": null,
      "outputs": []
    },
    {
      "cell_type": "markdown",
      "source": [
        "## Neuron 2-sample\n",
        "\n",
        "Revisions:\n",
        "RTB wrote it, 24 April 2013 as ‘CellBodyAreaAnalysis.m’\n",
        "\n",
        "MIS added Learning Objectives, question about Yeast data, 31 July 2014\n",
        "\n",
        "RTB changed it to do resampling with replacement (i.e. bootstrap) 13 July 2016 (solution code more general,\n",
        "now called ‘Resample2sample.m’)\n",
        "\n",
        "RTB converted it back to a permutation test. Efron: “When there is something to permute, it is a good idea to\n",
        "do so” (solution code ‘Perm2Sample.m’)\n",
        "\n",
        "RTB made up new data with a larger sample size (n=50 for each group), 31 July 2018 \n",
        "\n",
        "RTB re-wrote ‘Perm2Sample.m’ for more flexibility, 31 July 2018\n",
        "\n",
        "RTB revised to more generally introduce the concept of the bootstrap, 15 August 2020\n",
        "\n",
        "EB converted to Python, January 2022\n",
        "\n",
        "\n",
        "**Learning objectives covered:**\n",
        "\n",
        "• Plot experimental data and outcomes of simulations\n",
        "\n",
        "• Compute summary statistics from a dataset\n",
        "\n",
        "• Use computer simulations to build intuition about random variables\n",
        "\n",
        "• Simulate different kinds of random distributions\n",
        "\n",
        "• Articulate and code the Null Hypothesis\n",
        "\n",
        "• Generate a simulated distribution under the Null Hypothesis\n",
        "\n",
        "• Compare simulated results to data and obtain a p-value\n",
        "\n",
        "• Compare simulation-based approaches to standard hypothesis tests\n",
        "\n",
        "We are interested in morphological differences between two different types of pyramidal neurons in the cerebral cortex. One type is called \"feedback\" (FB) and the other is called \"feedforward” (FF). We have used a genetically modified rabies virus to label the two populations, filling each labeled neuron completely. This allows us to reconstruct each neuron and make a number of measurements. For this exercise, will compare the area of the cell body from 50 neurons of each cell type.\n",
        "\n",
        "Load in the file called 'cellBodyArea.mat' (this is done in the next cell).\n",
        "This file contains two variables, FB and FF, each of which contains fifty values consisting of the measurements of the cell body area for feedback (FB) and feedforward (FF) neurons.\n",
        "\n",
        "Your goal is to test the hypothesis that the cell bodies of FB neurons are larger in area than those of the FF neurons. But instead of using a “classical” statistical test, such as the 2-sample t-test or the Wilcoxon Rank Sum Test, we are going to create our own test and then compare it with the results from classical tests.\n"
      ],
      "metadata": {
        "id": "jEKyhO75Ys59"
      }
    },
    {
      "cell_type": "code",
      "source": [
        "import scipy.io as sio\n",
        "import requests\n",
        "import io\n",
        "\n",
        "r = requests.get('https://osf.io/uegbq/download')\n",
        "data = sio.loadmat(io.BytesIO(r.content))\n",
        "\n",
        "FB = data['FB']\n",
        "FF = data['FF']"
      ],
      "metadata": {
        "id": "KL9kjc3tY-Mn"
      },
      "execution_count": null,
      "outputs": []
    },
    {
      "cell_type": "markdown",
      "source": [
        "1) Load in the file called 'cellBodyArea.mat'. This file contains two variables, FF and FB, each of which contains 50 values consisting of the measurements of the cell body area for Feedback (FB) and FeedForward (FF) neurons.\n",
        "\n",
        "Your goal is to test the hypothesis that the cell bodies of FB neurons are larger in area than those of the FF neurons. What is the actual difference in mean values of the two populations?"
      ],
      "metadata": {
        "id": "AkssaF2jj2ym"
      }
    },
    {
      "cell_type": "code",
      "source": [
        ""
      ],
      "metadata": {
        "id": "xx3fSQToj79U"
      },
      "execution_count": null,
      "outputs": []
    },
    {
      "cell_type": "markdown",
      "source": [
        "2) Your goal is to test the hypothesis that the cell bodies of FB neurons are larger in area than those of the FF neurons. But instead of using a “classical” statistical test, such as the 2-sample t-test or the Wilcoxon Rank Sum Test, we are going to create our own test and then compare it with the results from classical tests.\n",
        "\n",
        "State the null hypothesis, H0, in your own words."
      ],
      "metadata": {
        "id": "eBO3r1xqkCoL"
      }
    },
    {
      "cell_type": "code",
      "source": [
        ""
      ],
      "metadata": {
        "id": "8mYUv8k-j-82"
      },
      "execution_count": null,
      "outputs": []
    },
    {
      "cell_type": "markdown",
      "source": [
        "3) Your goal is to test the hypothesis that the cell bodies of FB neurons are larger in area than those of the FF neurons.\n",
        "\n",
        "State in your own words the meaning of the p-value that you will obtain."
      ],
      "metadata": {
        "id": "DvT6TvRlkhT7"
      }
    },
    {
      "cell_type": "code",
      "source": [
        ""
      ],
      "metadata": {
        "id": "v9Ys2Hj0j_rx"
      },
      "execution_count": null,
      "outputs": []
    },
    {
      "cell_type": "markdown",
      "source": [
        "4) Imagine that we've pooled all of the data with this line of code:\n",
        "\n",
        "`H0_data  = np.concatenate((FB, FF), axis = 0)`\n",
        "\n",
        "Now write a line of code that will \"shuffle\" the H0data."
      ],
      "metadata": {
        "id": "Jh9AT-USkz_R"
      }
    },
    {
      "cell_type": "code",
      "source": [
        ""
      ],
      "metadata": {
        "id": "gzdsyd4akBAb"
      },
      "execution_count": null,
      "outputs": []
    },
    {
      "cell_type": "markdown",
      "source": [
        "5) Devise an algorithm that will simulate your experiment under H0 thousands of times, and then determine the the probability that we would obtain a difference in the means as large or larger than what we measured experimentally. What is your p-value?"
      ],
      "metadata": {
        "id": "bXW6_83wlORS"
      }
    },
    {
      "cell_type": "code",
      "source": [
        ""
      ],
      "metadata": {
        "id": "DJLybzp9kCX3"
      },
      "execution_count": null,
      "outputs": []
    },
    {
      "cell_type": "markdown",
      "source": [
        "6) What is the p-value for the analogous 1-tailed, 2-sample t-test?"
      ],
      "metadata": {
        "id": "dO_WUPPMmyXV"
      }
    },
    {
      "cell_type": "code",
      "source": [
        ""
      ],
      "metadata": {
        "id": "1d6h56rhkGQ2"
      },
      "execution_count": null,
      "outputs": []
    },
    {
      "cell_type": "markdown",
      "source": [
        "7) Given our hypothesis (FB neurons are larger than FF) and the H0 distribution of FB - FF, which tail are we interested in?"
      ],
      "metadata": {
        "id": "L1a7ERcHn6hU"
      }
    },
    {
      "cell_type": "code",
      "source": [
        ""
      ],
      "metadata": {
        "id": "2ggZHgFCkHXZ"
      },
      "execution_count": null,
      "outputs": []
    },
    {
      "cell_type": "markdown",
      "source": [
        "8) How would you convert your test to a two-tailed version?"
      ],
      "metadata": {
        "id": "OFv9hXb2oNzO"
      }
    },
    {
      "cell_type": "code",
      "source": [
        ""
      ],
      "metadata": {
        "id": "5ohZcFxQkIAC"
      },
      "execution_count": null,
      "outputs": []
    },
    {
      "cell_type": "markdown",
      "source": [
        "9) Which version of the test gives us more statistical power?"
      ],
      "metadata": {
        "id": "xWyS9nKEodt8"
      }
    },
    {
      "cell_type": "code",
      "source": [
        ""
      ],
      "metadata": {
        "id": "n0zhCapakJBt"
      },
      "execution_count": null,
      "outputs": []
    },
    {
      "cell_type": "markdown",
      "source": [
        "10) What is a p-value?"
      ],
      "metadata": {
        "id": "zEbEGJKxohXh"
      }
    },
    {
      "cell_type": "code",
      "source": [
        ""
      ],
      "metadata": {
        "id": "0CA5UfmFkLOW"
      },
      "execution_count": null,
      "outputs": []
    }
  ]
}