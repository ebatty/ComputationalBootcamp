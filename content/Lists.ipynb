{
  "nbformat": 4,
  "nbformat_minor": 0,
  "metadata": {
    "colab": {
      "name": "Lists.ipynb",
      "provenance": [],
      "collapsed_sections": [],
      "authorship_tag": "ABX9TyNkehfho+tPltGdXqThCznJ",
      "include_colab_link": true
    },
    "kernelspec": {
      "name": "python3",
      "display_name": "Python 3"
    },
    "language_info": {
      "name": "python"
    }
  },
  "cells": [
    {
      "cell_type": "markdown",
      "metadata": {
        "id": "view-in-github",
        "colab_type": "text"
      },
      "source": [
        "<a href=\"https://colab.research.google.com/github/QMBC-Python/QMBC-Python.github.io/blob/main/content/Lists.ipynb\" target=\"_parent\"><img src=\"https://colab.research.google.com/assets/colab-badge.svg\" alt=\"Open In Colab\"/></a>"
      ]
    },
    {
      "cell_type": "markdown",
      "source": [
        "# 3.3 - Lists"
      ],
      "metadata": {
        "id": "W8crM_qN3kNH"
      }
    },
    {
      "cell_type": "code",
      "source": [
        "#@markdown Video: Lists\n",
        "from IPython.display import YouTubeVideo\n",
        "video = YouTubeVideo(id=\"MTG-oek7Pus\", width=854, height=480, fs=1)\n",
        "print(\"Video available at https://youtube.com/watch?v=\" + video.id)\n",
        "video"
      ],
      "metadata": {
        "cellView": "form",
        "id": "WuH-p1O4Vu_M"
      },
      "execution_count": null,
      "outputs": []
    },
    {
      "cell_type": "markdown",
      "source": [
        "## What is a list?\n",
        "Sequence of values of any type, mutable\n"
      ],
      "metadata": {
        "id": "jPgh-6vzHsKT"
      }
    },
    {
      "cell_type": "code",
      "source": [
        "x = [0, 1, 7]"
      ],
      "metadata": {
        "id": "ZZ4UqJcoGvy3"
      },
      "execution_count": 5,
      "outputs": []
    },
    {
      "cell_type": "code",
      "source": [
        "type(x)"
      ],
      "metadata": {
        "colab": {
          "base_uri": "https://localhost:8080/"
        },
        "id": "CDC4fjscHvZi",
        "outputId": "d7a203c8-e23d-4186-dd3d-0799e3a0dcc4"
      },
      "execution_count": 6,
      "outputs": [
        {
          "output_type": "execute_result",
          "data": {
            "text/plain": [
              "list"
            ]
          },
          "metadata": {},
          "execution_count": 6
        }
      ]
    },
    {
      "cell_type": "code",
      "source": [
        "x = ['a', 'b', 9]"
      ],
      "metadata": {
        "id": "bBfBD9rxKl46"
      },
      "execution_count": 7,
      "outputs": []
    },
    {
      "cell_type": "code",
      "source": [
        "x = [[1, 6], [8, 9]]"
      ],
      "metadata": {
        "id": "7-mXLVR1KqTK"
      },
      "execution_count": 8,
      "outputs": []
    },
    {
      "cell_type": "code",
      "source": [
        "import numpy as np\n",
        "\n",
        "x = np.array([[1, 6], [8, 9]])"
      ],
      "metadata": {
        "id": "YXuGAotgKuKy"
      },
      "execution_count": 9,
      "outputs": []
    },
    {
      "cell_type": "markdown",
      "source": [
        "## Indexing into a list"
      ],
      "metadata": {
        "id": "O5NMvnnxIBhS"
      }
    },
    {
      "cell_type": "code",
      "source": [
        "x = [4, 10, 11, 15, 16, 20]"
      ],
      "metadata": {
        "id": "79tKNsJJH2Bp"
      },
      "execution_count": 10,
      "outputs": []
    },
    {
      "cell_type": "code",
      "source": [
        "x[:3]"
      ],
      "metadata": {
        "colab": {
          "base_uri": "https://localhost:8080/"
        },
        "id": "JMRKlQosK3iT",
        "outputId": "2e37b102-cc1a-4cb3-e4e6-e0282aa29d0f"
      },
      "execution_count": 11,
      "outputs": [
        {
          "output_type": "execute_result",
          "data": {
            "text/plain": [
              "[4, 10, 11]"
            ]
          },
          "metadata": {},
          "execution_count": 11
        }
      ]
    },
    {
      "cell_type": "code",
      "source": [
        "x[-3:-1]"
      ],
      "metadata": {
        "colab": {
          "base_uri": "https://localhost:8080/"
        },
        "id": "Rt7DJFvUK8kb",
        "outputId": "8acf4369-65c8-420f-ef72-5df259a83081"
      },
      "execution_count": 12,
      "outputs": [
        {
          "output_type": "execute_result",
          "data": {
            "text/plain": [
              "[15, 16]"
            ]
          },
          "metadata": {},
          "execution_count": 12
        }
      ]
    },
    {
      "cell_type": "markdown",
      "source": [
        "## Mutability"
      ],
      "metadata": {
        "id": "Of8qtLOSIUE8"
      }
    },
    {
      "cell_type": "code",
      "source": [
        "x = [1, 5, 6]\n",
        "y = x\n",
        "\n",
        "x[0] = 0\n",
        "\n",
        "print(y)"
      ],
      "metadata": {
        "colab": {
          "base_uri": "https://localhost:8080/"
        },
        "id": "HuX6SiK0IRcD",
        "outputId": "1495d8e5-b983-43ab-c947-e013c5472cd0"
      },
      "execution_count": 14,
      "outputs": [
        {
          "output_type": "stream",
          "name": "stdout",
          "text": [
            "[0, 5, 6]\n"
          ]
        }
      ]
    },
    {
      "cell_type": "markdown",
      "source": [
        "## List methods"
      ],
      "metadata": {
        "id": "rSj4qXfCIbVO"
      }
    },
    {
      "cell_type": "code",
      "source": [
        "help(x)"
      ],
      "metadata": {
        "id": "6oADQPHMQtgc"
      },
      "execution_count": null,
      "outputs": []
    },
    {
      "cell_type": "markdown",
      "source": [
        "Length of a list"
      ],
      "metadata": {
        "id": "2wKHCaSUIjnu"
      }
    },
    {
      "cell_type": "code",
      "source": [
        "len(x)"
      ],
      "metadata": {
        "colab": {
          "base_uri": "https://localhost:8080/"
        },
        "id": "7R7lOpsvIdZ0",
        "outputId": "03a21c6f-97be-4c8f-d8b4-b7b465e1fee7"
      },
      "execution_count": 17,
      "outputs": [
        {
          "output_type": "execute_result",
          "data": {
            "text/plain": [
              "3"
            ]
          },
          "metadata": {},
          "execution_count": 17
        }
      ]
    },
    {
      "cell_type": "markdown",
      "source": [
        "Identity operators"
      ],
      "metadata": {
        "id": "kQGI0APfIket"
      }
    },
    {
      "cell_type": "code",
      "source": [
        "x"
      ],
      "metadata": {
        "colab": {
          "base_uri": "https://localhost:8080/"
        },
        "id": "Mq5RwJB1Ihj9",
        "outputId": "bf02df53-4b83-4ab8-bfc6-754a902d8187"
      },
      "execution_count": 18,
      "outputs": [
        {
          "output_type": "execute_result",
          "data": {
            "text/plain": [
              "[0, 5, 6]"
            ]
          },
          "metadata": {},
          "execution_count": 18
        }
      ]
    },
    {
      "cell_type": "code",
      "source": [
        "6 in x"
      ],
      "metadata": {
        "colab": {
          "base_uri": "https://localhost:8080/"
        },
        "id": "dk9M-zTjLX7_",
        "outputId": "88c13689-d378-49d4-b51b-4eb78e35a440"
      },
      "execution_count": 19,
      "outputs": [
        {
          "output_type": "execute_result",
          "data": {
            "text/plain": [
              "True"
            ]
          },
          "metadata": {},
          "execution_count": 19
        }
      ]
    },
    {
      "cell_type": "markdown",
      "source": [
        "Appending to list"
      ],
      "metadata": {
        "id": "9YDdazqkInXe"
      }
    },
    {
      "cell_type": "code",
      "source": [
        "x = [1, 4, 5]\n",
        "x.append(6)\n",
        "\n",
        "x"
      ],
      "metadata": {
        "colab": {
          "base_uri": "https://localhost:8080/"
        },
        "id": "k6mXgPC5Ii8l",
        "outputId": "e2c78321-7f8c-414d-f500-33d151c48334"
      },
      "execution_count": 23,
      "outputs": [
        {
          "output_type": "execute_result",
          "data": {
            "text/plain": [
              "[1, 4, 5, 6]"
            ]
          },
          "metadata": {},
          "execution_count": 23
        }
      ]
    },
    {
      "cell_type": "code",
      "source": [
        "x"
      ],
      "metadata": {
        "id": "aRtKTd2LLoQB"
      },
      "execution_count": 22,
      "outputs": []
    },
    {
      "cell_type": "markdown",
      "source": [
        "## For loops and lists"
      ],
      "metadata": {
        "id": "afeBQEcDIr9f"
      }
    },
    {
      "cell_type": "code",
      "source": [
        "x = [1, 4, 5]\n",
        "\n",
        "for x_val in x:\n",
        "  print(x_val)"
      ],
      "metadata": {
        "colab": {
          "base_uri": "https://localhost:8080/"
        },
        "id": "eucRazSnIpaG",
        "outputId": "29d0e1d6-56e5-47ce-e621-540a686d6b75"
      },
      "execution_count": 24,
      "outputs": [
        {
          "output_type": "stream",
          "name": "stdout",
          "text": [
            "1\n",
            "4\n",
            "5\n"
          ]
        }
      ]
    },
    {
      "cell_type": "code",
      "source": [
        "for (ind, x_vals) in enumerate(x):\n",
        "  print(ind)\n",
        "  print(x_val)"
      ],
      "metadata": {
        "colab": {
          "base_uri": "https://localhost:8080/"
        },
        "id": "KtC9hj72ItwG",
        "outputId": "febdcf55-ba50-4ee3-989e-4d04863a9c11"
      },
      "execution_count": 26,
      "outputs": [
        {
          "output_type": "stream",
          "name": "stdout",
          "text": [
            "0\n",
            "5\n",
            "1\n",
            "5\n",
            "2\n",
            "5\n"
          ]
        }
      ]
    },
    {
      "cell_type": "markdown",
      "source": [
        "List comprehension"
      ],
      "metadata": {
        "id": "ZlvzqeAON42f"
      }
    },
    {
      "cell_type": "code",
      "source": [
        "x = [5, 10, 13]\n",
        "\n",
        "plus_two = []\n",
        "for elem in x:\n",
        "  plus_two.append(elem + 2)\n",
        "\n",
        "plus_two"
      ],
      "metadata": {
        "colab": {
          "base_uri": "https://localhost:8080/"
        },
        "id": "P4kFaGocNvo9",
        "outputId": "58fde98d-a3db-44e2-e21b-a77e817eeead"
      },
      "execution_count": 30,
      "outputs": [
        {
          "output_type": "execute_result",
          "data": {
            "text/plain": [
              "[7, 12, 15]"
            ]
          },
          "metadata": {},
          "execution_count": 30
        }
      ]
    },
    {
      "cell_type": "code",
      "source": [
        "plus_two = [elem + 2 for elem in x]"
      ],
      "metadata": {
        "id": "1EqNvDmaL6Rx"
      },
      "execution_count": 31,
      "outputs": []
    },
    {
      "cell_type": "code",
      "source": [
        "plus_two"
      ],
      "metadata": {
        "colab": {
          "base_uri": "https://localhost:8080/"
        },
        "id": "A8L6iPc4Oy3s",
        "outputId": "12fcbfe7-c21b-4b0a-bb1c-54d995849efa"
      },
      "execution_count": 32,
      "outputs": [
        {
          "output_type": "execute_result",
          "data": {
            "text/plain": [
              "[7, 12, 15]"
            ]
          },
          "metadata": {},
          "execution_count": 32
        }
      ]
    },
    {
      "cell_type": "code",
      "source": [
        ""
      ],
      "metadata": {
        "id": "LZTzm01wOztV"
      },
      "execution_count": null,
      "outputs": []
    }
  ]
}