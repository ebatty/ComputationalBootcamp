{
  "nbformat": 4,
  "nbformat_minor": 0,
  "metadata": {
    "kernelspec": {
      "display_name": "Python 3",
      "language": "python",
      "name": "python3"
    },
    "language_info": {
      "codemirror_mode": {
        "name": "ipython",
        "version": 3
      },
      "file_extension": ".py",
      "mimetype": "text/x-python",
      "name": "python",
      "nbconvert_exporter": "python",
      "pygments_lexer": "ipython3",
      "version": "3.7.6"
    },
    "colab": {
      "name": "Pandas_Dataframes.ipynb",
      "provenance": [],
      "include_colab_link": true
    }
  },
  "cells": [
    {
      "cell_type": "markdown",
      "metadata": {
        "id": "view-in-github",
        "colab_type": "text"
      },
      "source": [
        "<a href=\"https://colab.research.google.com/github/QMBC-Python/QMBC-Python.github.io/blob/main/content/Pandas_Dataframes.ipynb\" target=\"_parent\"><img src=\"https://colab.research.google.com/assets/colab-badge.svg\" alt=\"Open In Colab\"/></a>"
      ]
    },
    {
      "cell_type": "markdown",
      "metadata": {
        "id": "sc3t1v_hdk12"
      },
      "source": [
        "# 2 - Creating Series/DataFrames"
      ]
    },
    {
      "cell_type": "code",
      "metadata": {
        "id": "93Si08mGdk1x"
      },
      "source": [
        "import pandas as pd\n",
        "import numpy as np"
      ],
      "execution_count": 1,
      "outputs": []
    },
    {
      "cell_type": "code",
      "source": [
        "#@markdown Video\n",
        "from IPython.display import YouTubeVideo\n",
        "video = YouTubeVideo(id=\"YoLXJxp8YqE\", width=854, height=480, fs=1)\n",
        "print(\"Video available at https://youtube.com/watch?v=\" + video.id)\n",
        "video"
      ],
      "metadata": {
        "colab": {
          "base_uri": "https://localhost:8080/",
          "height": 539
        },
        "cellView": "form",
        "id": "GyqS3EqQHEBZ",
        "outputId": "4cf0d4df-1933-474a-fedc-2a4e1ac58dd5"
      },
      "execution_count": 2,
      "outputs": [
        {
          "output_type": "stream",
          "name": "stdout",
          "text": [
            "Video available at https://youtube.com/watch?v=YoLXJxp8YqE\n"
          ]
        },
        {
          "output_type": "execute_result",
          "data": {
            "text/html": [
              "\n",
              "        <iframe\n",
              "            width=\"854\"\n",
              "            height=\"480\"\n",
              "            src=\"https://www.youtube.com/embed/YoLXJxp8YqE?fs=1\"\n",
              "            frameborder=\"0\"\n",
              "            allowfullscreen\n",
              "        ></iframe>\n",
              "        "
            ],
            "text/plain": [
              "<IPython.lib.display.YouTubeVideo at 0x7f9de6921f90>"
            ],
            "image/jpeg": "[encoded data removed]"
          },
          "metadata": {},
          "execution_count": 2
        }
      ]
    },
    {
      "cell_type": "markdown",
      "metadata": {
        "id": "AuJMqAUpdk12"
      },
      "source": [
        "## Creating series"
      ]
    },
    {
      "cell_type": "markdown",
      "metadata": {
        "id": "Uml_Qr4xdk13"
      },
      "source": [
        "Series can be created from lists, numpy arrays, and dictionaries. You can specify the index values or default to 0-N"
      ]
    },
    {
      "cell_type": "code",
      "metadata": {
        "id": "gXxRdudndk13",
        "colab": {
          "base_uri": "https://localhost:8080/"
        },
        "outputId": "3ad3cd8b-f464-4bf4-d64b-1d0474167ccb"
      },
      "source": [
        "# Creating from list\n",
        "ser = pd.Series([1, 5, 's']) #, name = 'Apples')\n",
        "ser"
      ],
      "execution_count": null,
      "outputs": [
        {
          "output_type": "execute_result",
          "data": {
            "text/plain": [
              "0    1\n",
              "1    5\n",
              "2    s\n",
              "Name: Apples, dtype: object"
            ]
          },
          "metadata": {
            "tags": []
          },
          "execution_count": 11
        }
      ]
    },
    {
      "cell_type": "code",
      "metadata": {
        "id": "8_QQIJrcdk14",
        "colab": {
          "base_uri": "https://localhost:8080/"
        },
        "outputId": "be206b05-3d29-417f-ec9f-7946500bef8d"
      },
      "source": [
        "# Creating from list with specifying index values\n",
        "ser = pd.Series([1, 5, 's'], index=['a', 'b', 'c'])\n",
        "ser"
      ],
      "execution_count": null,
      "outputs": [
        {
          "output_type": "execute_result",
          "data": {
            "text/plain": [
              "a    1\n",
              "b    5\n",
              "c    s\n",
              "dtype: object"
            ]
          },
          "metadata": {
            "tags": []
          },
          "execution_count": 8
        }
      ]
    },
    {
      "cell_type": "code",
      "metadata": {
        "id": "AXVLzhVDdk14",
        "colab": {
          "base_uri": "https://localhost:8080/"
        },
        "outputId": "c4d63267-7442-492b-bd64-228d07a494ec"
      },
      "source": [
        "# Creating from numpy array\n",
        "ser = pd.Series(np.array([4, 7, 10]))\n",
        "ser"
      ],
      "execution_count": null,
      "outputs": [
        {
          "output_type": "execute_result",
          "data": {
            "text/plain": [
              "0     4\n",
              "1     7\n",
              "2    10\n",
              "dtype: int64"
            ]
          },
          "metadata": {
            "tags": []
          },
          "execution_count": 9
        }
      ]
    },
    {
      "cell_type": "code",
      "metadata": {
        "id": "TD7v95y4dk14",
        "colab": {
          "base_uri": "https://localhost:8080/"
        },
        "outputId": "c94625ac-d06c-40c3-d078-426f0fa2bc88"
      },
      "source": [
        "# Creating from dictionary\n",
        "ser = pd.Series({'a': 4, 'b':7, 'c': 10}, name='Apples')\n",
        "ser"
      ],
      "execution_count": null,
      "outputs": [
        {
          "output_type": "execute_result",
          "data": {
            "text/plain": [
              "a     4\n",
              "b     7\n",
              "c    10\n",
              "Name: Apples, dtype: int64"
            ]
          },
          "metadata": {
            "tags": []
          },
          "execution_count": 10
        }
      ]
    },
    {
      "cell_type": "markdown",
      "metadata": {
        "id": "HwCSLmXgdk15"
      },
      "source": [
        "## Creating DataFrames"
      ]
    },
    {
      "cell_type": "markdown",
      "metadata": {
        "id": "BWTpH5Okdk15"
      },
      "source": [
        "Similar to Series in that it accepts many inputs. You can create DataFrames from 2-D numpy array, dictionaries of 1D numpy arrays, lists, dicts or series, a pandas Series, another DataFrame "
      ]
    },
    {
      "cell_type": "code",
      "metadata": {
        "id": "oUfbcCoddk15",
        "colab": {
          "base_uri": "https://localhost:8080/",
          "height": 137
        },
        "outputId": "33b92e89-331e-4bdc-b88f-5a433fdcecf9"
      },
      "source": [
        "# Creating from 2D numpy array\n",
        "arr = np.random.randn(3, 4)\n",
        "\n",
        "df = pd.DataFrame(arr, columns = ['A', 'B', 'C', 'D'], index = ['M1', 'M2', 'M3'])\n",
        "df"
      ],
      "execution_count": null,
      "outputs": [
        {
          "output_type": "execute_result",
          "data": {
            "text/html": [
              "<div>\n",
              "<style scoped>\n",
              "    .dataframe tbody tr th:only-of-type {\n",
              "        vertical-align: middle;\n",
              "    }\n",
              "\n",
              "    .dataframe tbody tr th {\n",
              "        vertical-align: top;\n",
              "    }\n",
              "\n",
              "    .dataframe thead th {\n",
              "        text-align: right;\n",
              "    }\n",
              "</style>\n",
              "<table border=\"1\" class=\"dataframe\">\n",
              "  <thead>\n",
              "    <tr style=\"text-align: right;\">\n",
              "      <th></th>\n",
              "      <th>A</th>\n",
              "      <th>B</th>\n",
              "      <th>C</th>\n",
              "      <th>D</th>\n",
              "    </tr>\n",
              "  </thead>\n",
              "  <tbody>\n",
              "    <tr>\n",
              "      <th>M1</th>\n",
              "      <td>-0.557139</td>\n",
              "      <td>-1.336253</td>\n",
              "      <td>1.469116</td>\n",
              "      <td>0.847080</td>\n",
              "    </tr>\n",
              "    <tr>\n",
              "      <th>M2</th>\n",
              "      <td>-0.675179</td>\n",
              "      <td>0.951045</td>\n",
              "      <td>0.147625</td>\n",
              "      <td>-2.030082</td>\n",
              "    </tr>\n",
              "    <tr>\n",
              "      <th>M3</th>\n",
              "      <td>0.317449</td>\n",
              "      <td>0.393194</td>\n",
              "      <td>0.384831</td>\n",
              "      <td>0.331375</td>\n",
              "    </tr>\n",
              "  </tbody>\n",
              "</table>\n",
              "</div>"
            ],
            "text/plain": [
              "           A         B         C         D\n",
              "M1 -0.557139 -1.336253  1.469116  0.847080\n",
              "M2 -0.675179  0.951045  0.147625 -2.030082\n",
              "M3  0.317449  0.393194  0.384831  0.331375"
            ]
          },
          "metadata": {
            "tags": []
          },
          "execution_count": 12
        }
      ]
    },
    {
      "cell_type": "code",
      "metadata": {
        "id": "Syor2VrWdk15",
        "outputId": "d08e8a23-c8c2-42a4-fbae-76459bff156f"
      },
      "source": [
        "# Creating from dictionary of different types\n",
        "\n",
        "my_dict = {'A': np.array([5, 6]), 'B':2, 'C': pd.Series([1, 5], index=['m','j'])}\n",
        "df = pd.DataFrame(my_dict)\n",
        "df"
      ],
      "execution_count": null,
      "outputs": [
        {
          "output_type": "execute_result",
          "data": {
            "text/html": [
              "<div>\n",
              "<style scoped>\n",
              "    .dataframe tbody tr th:only-of-type {\n",
              "        vertical-align: middle;\n",
              "    }\n",
              "\n",
              "    .dataframe tbody tr th {\n",
              "        vertical-align: top;\n",
              "    }\n",
              "\n",
              "    .dataframe thead th {\n",
              "        text-align: right;\n",
              "    }\n",
              "</style>\n",
              "<table border=\"1\" class=\"dataframe\">\n",
              "  <thead>\n",
              "    <tr style=\"text-align: right;\">\n",
              "      <th></th>\n",
              "      <th>A</th>\n",
              "      <th>B</th>\n",
              "      <th>C</th>\n",
              "    </tr>\n",
              "  </thead>\n",
              "  <tbody>\n",
              "    <tr>\n",
              "      <th>m</th>\n",
              "      <td>5</td>\n",
              "      <td>2</td>\n",
              "      <td>1</td>\n",
              "    </tr>\n",
              "    <tr>\n",
              "      <th>j</th>\n",
              "      <td>6</td>\n",
              "      <td>2</td>\n",
              "      <td>5</td>\n",
              "    </tr>\n",
              "  </tbody>\n",
              "</table>\n",
              "</div>"
            ],
            "text/plain": [
              "   A  B  C\n",
              "m  5  2  1\n",
              "j  6  2  5"
            ]
          },
          "metadata": {
            "tags": []
          },
          "execution_count": 15
        }
      ]
    },
    {
      "cell_type": "markdown",
      "metadata": {
        "id": "DaV5i-1mdk16"
      },
      "source": [
        "# Loading/Saving"
      ]
    },
    {
      "cell_type": "markdown",
      "metadata": {
        "id": "XhiXVBEEdk16"
      },
      "source": [
        "### Common file types with Pandas\n",
        "\n",
        "csv files\n",
        "\n",
        "h5 files\n",
        "\n",
        "Excel (xlsx) files"
      ]
    },
    {
      "cell_type": "code",
      "metadata": {
        "id": "Vspb9PRYdk16",
        "colab": {
          "base_uri": "https://localhost:8080/",
          "height": 137
        },
        "outputId": "fcd5b1c0-a5b8-4191-defd-79082ca8166b"
      },
      "source": [
        "# Saving csv files\n",
        "df =  pd.DataFrame(np.random.randn(3, 4), index=['a', 'b','c'])\n",
        "df.to_csv('test.csv', index=False)\n",
        "df"
      ],
      "execution_count": null,
      "outputs": [
        {
          "output_type": "execute_result",
          "data": {
            "text/html": [
              "<div>\n",
              "<style scoped>\n",
              "    .dataframe tbody tr th:only-of-type {\n",
              "        vertical-align: middle;\n",
              "    }\n",
              "\n",
              "    .dataframe tbody tr th {\n",
              "        vertical-align: top;\n",
              "    }\n",
              "\n",
              "    .dataframe thead th {\n",
              "        text-align: right;\n",
              "    }\n",
              "</style>\n",
              "<table border=\"1\" class=\"dataframe\">\n",
              "  <thead>\n",
              "    <tr style=\"text-align: right;\">\n",
              "      <th></th>\n",
              "      <th>0</th>\n",
              "      <th>1</th>\n",
              "      <th>2</th>\n",
              "      <th>3</th>\n",
              "    </tr>\n",
              "  </thead>\n",
              "  <tbody>\n",
              "    <tr>\n",
              "      <th>a</th>\n",
              "      <td>-0.484239</td>\n",
              "      <td>-1.550272</td>\n",
              "      <td>0.841147</td>\n",
              "      <td>0.983227</td>\n",
              "    </tr>\n",
              "    <tr>\n",
              "      <th>b</th>\n",
              "      <td>0.827320</td>\n",
              "      <td>0.398273</td>\n",
              "      <td>0.335847</td>\n",
              "      <td>-0.055944</td>\n",
              "    </tr>\n",
              "    <tr>\n",
              "      <th>c</th>\n",
              "      <td>2.042769</td>\n",
              "      <td>0.360324</td>\n",
              "      <td>0.021198</td>\n",
              "      <td>2.014543</td>\n",
              "    </tr>\n",
              "  </tbody>\n",
              "</table>\n",
              "</div>"
            ],
            "text/plain": [
              "          0         1         2         3\n",
              "a -0.484239 -1.550272  0.841147  0.983227\n",
              "b  0.827320  0.398273  0.335847 -0.055944\n",
              "c  2.042769  0.360324  0.021198  2.014543"
            ]
          },
          "metadata": {
            "tags": []
          },
          "execution_count": 24
        }
      ]
    },
    {
      "cell_type": "code",
      "metadata": {
        "id": "LwIJZolQdk16",
        "colab": {
          "base_uri": "https://localhost:8080/",
          "height": 137
        },
        "outputId": "1a199d7e-7560-4849-df2f-9674a0a5e339"
      },
      "source": [
        "# Loading csv files\n",
        "df = pd.read_csv('test.csv') #index_col=0\n",
        "df"
      ],
      "execution_count": null,
      "outputs": [
        {
          "output_type": "execute_result",
          "data": {
            "text/html": [
              "<div>\n",
              "<style scoped>\n",
              "    .dataframe tbody tr th:only-of-type {\n",
              "        vertical-align: middle;\n",
              "    }\n",
              "\n",
              "    .dataframe tbody tr th {\n",
              "        vertical-align: top;\n",
              "    }\n",
              "\n",
              "    .dataframe thead th {\n",
              "        text-align: right;\n",
              "    }\n",
              "</style>\n",
              "<table border=\"1\" class=\"dataframe\">\n",
              "  <thead>\n",
              "    <tr style=\"text-align: right;\">\n",
              "      <th></th>\n",
              "      <th>0</th>\n",
              "      <th>1</th>\n",
              "      <th>2</th>\n",
              "      <th>3</th>\n",
              "    </tr>\n",
              "  </thead>\n",
              "  <tbody>\n",
              "    <tr>\n",
              "      <th>0</th>\n",
              "      <td>-0.041838</td>\n",
              "      <td>0.343875</td>\n",
              "      <td>0.335437</td>\n",
              "      <td>0.443782</td>\n",
              "    </tr>\n",
              "    <tr>\n",
              "      <th>1</th>\n",
              "      <td>1.172781</td>\n",
              "      <td>1.035137</td>\n",
              "      <td>-0.774409</td>\n",
              "      <td>-0.433432</td>\n",
              "    </tr>\n",
              "    <tr>\n",
              "      <th>2</th>\n",
              "      <td>-1.222183</td>\n",
              "      <td>-0.319372</td>\n",
              "      <td>-0.516627</td>\n",
              "      <td>0.713352</td>\n",
              "    </tr>\n",
              "  </tbody>\n",
              "</table>\n",
              "</div>"
            ],
            "text/plain": [
              "          0         1         2         3\n",
              "0 -0.041838  0.343875  0.335437  0.443782\n",
              "1  1.172781  1.035137 -0.774409 -0.433432\n",
              "2 -1.222183 -0.319372 -0.516627  0.713352"
            ]
          },
          "metadata": {
            "tags": []
          },
          "execution_count": 14
        }
      ]
    },
    {
      "cell_type": "code",
      "metadata": {
        "id": "2jHq5phcdk16"
      },
      "source": [
        "# Saving excel files\n",
        "df.to_excel('test.xlsx', index=False)"
      ],
      "execution_count": null,
      "outputs": []
    },
    {
      "cell_type": "code",
      "metadata": {
        "id": "fKRdIA80dk17",
        "colab": {
          "base_uri": "https://localhost:8080/",
          "height": 137
        },
        "outputId": "8c0a8cda-8244-496f-ec82-7db749fedc4d"
      },
      "source": [
        "# Reading excel files\n",
        "pd.read_excel('test.xlsx')"
      ],
      "execution_count": null,
      "outputs": [
        {
          "output_type": "execute_result",
          "data": {
            "text/html": [
              "<div>\n",
              "<style scoped>\n",
              "    .dataframe tbody tr th:only-of-type {\n",
              "        vertical-align: middle;\n",
              "    }\n",
              "\n",
              "    .dataframe tbody tr th {\n",
              "        vertical-align: top;\n",
              "    }\n",
              "\n",
              "    .dataframe thead th {\n",
              "        text-align: right;\n",
              "    }\n",
              "</style>\n",
              "<table border=\"1\" class=\"dataframe\">\n",
              "  <thead>\n",
              "    <tr style=\"text-align: right;\">\n",
              "      <th></th>\n",
              "      <th>0</th>\n",
              "      <th>1</th>\n",
              "      <th>2</th>\n",
              "      <th>3</th>\n",
              "    </tr>\n",
              "  </thead>\n",
              "  <tbody>\n",
              "    <tr>\n",
              "      <th>0</th>\n",
              "      <td>-0.041838</td>\n",
              "      <td>0.343875</td>\n",
              "      <td>0.335437</td>\n",
              "      <td>0.443782</td>\n",
              "    </tr>\n",
              "    <tr>\n",
              "      <th>1</th>\n",
              "      <td>1.172781</td>\n",
              "      <td>1.035137</td>\n",
              "      <td>-0.774409</td>\n",
              "      <td>-0.433432</td>\n",
              "    </tr>\n",
              "    <tr>\n",
              "      <th>2</th>\n",
              "      <td>-1.222183</td>\n",
              "      <td>-0.319372</td>\n",
              "      <td>-0.516627</td>\n",
              "      <td>0.713352</td>\n",
              "    </tr>\n",
              "  </tbody>\n",
              "</table>\n",
              "</div>"
            ],
            "text/plain": [
              "          0         1         2         3\n",
              "0 -0.041838  0.343875  0.335437  0.443782\n",
              "1  1.172781  1.035137 -0.774409 -0.433432\n",
              "2 -1.222183 -0.319372 -0.516627  0.713352"
            ]
          },
          "metadata": {
            "tags": []
          },
          "execution_count": 22
        }
      ]
    }
  ]
}