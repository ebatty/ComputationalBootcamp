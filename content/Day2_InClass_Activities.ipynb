{
  "nbformat": 4,
  "nbformat_minor": 0,
  "metadata": {
    "colab": {
      "name": "Day2_InClass_Activities.ipynb",
      "provenance": [],
      "collapsed_sections": [],
      "authorship_tag": "ABX9TyN3FU+QJq7P1sLPPs0sXoT5",
      "include_colab_link": true
    },
    "kernelspec": {
      "name": "python3",
      "display_name": "Python 3"
    },
    "language_info": {
      "name": "python"
    }
  },
  "cells": [
    {
      "cell_type": "markdown",
      "metadata": {
        "id": "view-in-github",
        "colab_type": "text"
      },
      "source": [
        "<a href=\"https://colab.research.google.com/github/QMBC-Python/QMBC-Python.github.io/blob/main/content/Day2_InClass_Activities.ipynb\" target=\"_parent\"><img src=\"https://colab.research.google.com/assets/colab-badge.svg\" alt=\"Open In Colab\"/></a>"
      ]
    },
    {
      "cell_type": "markdown",
      "source": [
        "# 2 - In-class activities"
      ],
      "metadata": {
        "id": "2W8B5DrISH2B"
      }
    },
    {
      "cell_type": "code",
      "execution_count": null,
      "metadata": {
        "id": "MB5-p4NGRk3Z"
      },
      "outputs": [],
      "source": [
        "import numpy as np\n",
        "import matplotlib.pyplot as plt"
      ]
    },
    {
      "cell_type": "markdown",
      "source": [
        "## For loops & if statements self-paced practice"
      ],
      "metadata": {
        "id": "qWUNtN3bRqYF"
      }
    },
    {
      "cell_type": "markdown",
      "source": [
        "**Problem 1:** Write code that uses variable `n` representing a number and outputs the following:\n",
        "\n",
        "If the number is a multiple of 3, print Fizz\n",
        "\n",
        "If the number is a multiple of 5, print Buzz\n",
        "\n",
        "If the number is a multiple of both 3 and 5, print FizzBuzz\n",
        "\n",
        "Otherwise, print the number\n",
        "\n",
        "For example, n = 15 should lead to 'Fizzbuzz', n = 4 should lead to 4, and n = 5 should lead to 'Buzz'.\n",
        "\n",
        "Enter your code on learning catalytics."
      ],
      "metadata": {
        "id": "pUFgZn8hSKC-"
      }
    },
    {
      "cell_type": "code",
      "source": [
        ""
      ],
      "metadata": {
        "id": "hPw5iFxjRsY-"
      },
      "execution_count": null,
      "outputs": []
    },
    {
      "cell_type": "markdown",
      "source": [
        "**Problem 2**\n",
        "\n",
        "Without running the code, what would `count` equal after running this code?\n",
        "\n",
        "```\n",
        "count = 0\n",
        "for i_m in range(20):\n",
        "  if i_m > 15:\n",
        "    count += 1\n",
        "  elif i_m <= 3:\n",
        "    count -= 1\n",
        "```"
      ],
      "metadata": {
        "id": "t3xuvYp0dgA1"
      }
    },
    {
      "cell_type": "code",
      "source": [
        ""
      ],
      "metadata": {
        "id": "OSefF5lmd0Aw"
      },
      "execution_count": null,
      "outputs": []
    },
    {
      "cell_type": "markdown",
      "source": [
        "**Problem 3**\n",
        "\n",
        "Without running the code, what would `count` equal after running this code?\n",
        "\n",
        "```\n",
        "count = 0\n",
        "for i_m in range(20):\n",
        "  if i_m > 15:\n",
        "    count += 1\n",
        "    if i_m != 18:\n",
        "      count += 1\n",
        "    if i_m == 19:\n",
        "      count += 1\n",
        "  elif i_m <= 20:\n",
        "    count -= 1\n",
        "```"
      ],
      "metadata": {
        "id": "IEo4bAegeBm4"
      }
    },
    {
      "cell_type": "code",
      "source": [
        ""
      ],
      "metadata": {
        "id": "u_Th9ml-ebiL"
      },
      "execution_count": null,
      "outputs": []
    },
    {
      "cell_type": "markdown",
      "source": [
        "**Problem 4:** Make an array with 10 rows, 15 columns, and 5 pages (3rd dimension).\n",
        "\n",
        "If the row is greater than the column, make the value equal to the page.\n",
        "\n",
        "Otherwise, if on the second page make the value equal to the row position, unless you are on the diagonal (and the second page)  in which case make the value equal to -5.\n",
        "\n",
        "Finally, if no other condition is met, make the value equal to the column position.\n",
        "\n",
        "\n",
        "Enter your code on learning catalytics.\n"
      ],
      "metadata": {
        "id": "EsgYRshifH3D"
      }
    },
    {
      "cell_type": "code",
      "source": [
        ""
      ],
      "metadata": {
        "id": "jmAXN0HLf3gX"
      },
      "execution_count": null,
      "outputs": []
    },
    {
      "cell_type": "markdown",
      "source": [
        "**(Optional, advanced) Problem 5:** Finding number with a factor of 7\n",
        "\n",
        "Print the first number higher than 35 that has 7 as a factor. Please use a while loop to do so.\n",
        "\n",
        "If stuck, double click on the cell below to access hints."
      ],
      "metadata": {
        "id": "u9unjmsgSxrJ"
      }
    },
    {
      "cell_type": "code",
      "source": [
        "# @markdown Hints\n",
        "\"\"\"\n",
        "If stuck, break it into little steps:\n",
        "\n",
        "1) How do you check if a number has a factor of 7?\n",
        "\n",
        "2) Set up while loop with a variable at 35 that increases by one at each loop\n",
        "\n",
        "3) Make a condition that is True when the variable from part 2 is not divisible by 7, False if it is\n",
        "\n",
        "4) Are you sure you're printing the correct number, not one higher than you want?\n",
        "\"\"\";"
      ],
      "metadata": {
        "cellView": "form",
        "id": "QzUUSsqcSG8E"
      },
      "execution_count": null,
      "outputs": []
    },
    {
      "cell_type": "code",
      "source": [
        ""
      ],
      "metadata": {
        "id": "2oBiyb9fVCcH"
      },
      "execution_count": null,
      "outputs": []
    },
    {
      "cell_type": "markdown",
      "source": [
        "**(Optional, advanced) Problem 6: Fibonacci Sequence:**\n",
        "\n",
        "Write code to print a numpy array containing the Fibonacci sequence of length given by variable `num`. \n",
        "\n",
        "The Fibonacci sequence starts with 0, 1, and after that each entry is the sum of the two prior, so \n",
        "\n",
        "0, 1, 1, 2, 3, 5, 8, etc\n",
        "\n",
        "Note: there are fancy ways to do this with recursion but we're not looking for that\n",
        "\n",
        "Examples:\n",
        "\n",
        "If num is 2, you should print the numpy array [0, 1]. \n",
        "\n",
        "If num is 4, you should print the numpy array [0, 1, 1, 2]."
      ],
      "metadata": {
        "id": "8aqpg_1ATmkl"
      }
    },
    {
      "cell_type": "code",
      "source": [
        ""
      ],
      "metadata": {
        "id": "uoFVimkHTgDJ"
      },
      "execution_count": null,
      "outputs": []
    },
    {
      "cell_type": "markdown",
      "source": [
        "## Plotting cell analysis (self-paced)\n",
        "\n",
        "Execute the following cell to load in the data."
      ],
      "metadata": {
        "id": "mna1snJLoRCZ"
      }
    },
    {
      "cell_type": "code",
      "source": [
        "import requests\n",
        "import io\n",
        "\n",
        "r = requests.get('https://osf.io/w5n64/download')\n",
        "\n",
        "data = np.load(io.BytesIO(r.content))\n",
        "\n",
        "double_grad_WT = data['double_grad_WT']\n",
        "gal_label = data['gal_label']\n",
        "glu_label = data['glu_label']\n",
        "yfp_range = data['yfp_range']"
      ],
      "metadata": {
        "id": "msHaw-42QpjL"
      },
      "execution_count": null,
      "outputs": []
    },
    {
      "cell_type": "markdown",
      "source": [
        "**Problem 1:** The array `double_grad_WT` is shape (8, 12, 100). Each row and column corresponds to a different environment (well) in which cells were grown. Each environment had different sugar values for glucose and galactose. The `glu_label` and `gal_label` array contain the respective sugar values for each row or column. So, `glu_label` has 8 entries and `gal_label` has 12.\n",
        "\n",
        "Cells contain a YFP reporter which is activated by galactose and inhibited by glucose. We record the YFP expression from the population of cells in each environment. \n",
        "\n",
        "Each entry in the array is a y value of a histogram of YFP expression, where the third dimension corresponds to different amounts of YFP expression. The x values of the histogram for every cell is stored in the `yfp_range` array.  \n",
        "\n",
        "\n",
        "Plot the data for row 3, column 6. (`yfprange` vs the data for that environment]\n",
        "\n",
        "Draw out the rough figure in LC"
      ],
      "metadata": {
        "id": "VvWPIUv4pdcI"
      }
    },
    {
      "cell_type": "code",
      "source": [
        ""
      ],
      "metadata": {
        "id": "n74qX-cLpVGJ"
      },
      "execution_count": null,
      "outputs": []
    },
    {
      "cell_type": "markdown",
      "source": [
        "**Problem 2**: Plot all 96 pieces of data in a 8 by 12 grid. Try to make it look decent (not totally overlapping)\n",
        "\n",
        "Hint: you don't need x tick and y tick labels on every plot - the x axis will be the same and it would be nice to have all subplots have the same y axis limits. Check out the sharex and sharey arguments of https://matplotlib.org/stable/api/_as_gen/matplotlib.pyplot.subplots.html.\n",
        "\n",
        "Enter your code in LC"
      ],
      "metadata": {
        "id": "k6FgSHdXrkjE"
      }
    },
    {
      "cell_type": "code",
      "source": [
        ""
      ],
      "metadata": {
        "id": "ULf2EPEtreRb"
      },
      "execution_count": null,
      "outputs": []
    },
    {
      "cell_type": "markdown",
      "source": [
        "**Problem 3:** Label the x axis of each subplot in the bottom row with the galactose values of that column. Label the y axis of each subplot in the leftmost column with the values of glucose values.\n",
        "\n",
        "Paste your code."
      ],
      "metadata": {
        "id": "FgCs69IZsdnF"
      }
    },
    {
      "cell_type": "code",
      "source": [
        ""
      ],
      "metadata": {
        "id": "Z3NY3Ix5rvBZ"
      },
      "execution_count": null,
      "outputs": []
    },
    {
      "cell_type": "markdown",
      "source": [
        "**Problem 4:** The yfp_range array contains the values of each bin of the histograms you plots. Write code that will calculate the mean value of the YFP expression per well. Remember that your data is the y values of a histogram so this is not simply computing the mean of that. Write the value as the title on each plot. Paste your code"
      ],
      "metadata": {
        "id": "BRg8Lzplu165"
      }
    },
    {
      "cell_type": "code",
      "source": [
        ""
      ],
      "metadata": {
        "id": "bcO4Njv2tRS9"
      },
      "execution_count": null,
      "outputs": []
    },
    {
      "cell_type": "markdown",
      "source": [
        "**Problem 5:** Is there an relationship between expression level and the two inputs, glucose and galactose. Is there a better way to display and highlight that results? Try it and sketch your figure"
      ],
      "metadata": {
        "id": "T9ftpUXCxZRC"
      }
    },
    {
      "cell_type": "code",
      "source": [
        ""
      ],
      "metadata": {
        "id": "UB03Xqz7w6WQ"
      },
      "execution_count": null,
      "outputs": []
    }
  ]
}