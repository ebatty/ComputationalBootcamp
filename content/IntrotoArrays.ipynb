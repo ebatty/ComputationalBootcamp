{
  "nbformat": 4,
  "nbformat_minor": 0,
  "metadata": {
    "colab": {
      "name": "IntrotoArrays.ipynb",
      "provenance": [],
      "collapsed_sections": [],
      "authorship_tag": "ABX9TyO8fF7mkS2mzTgOJ1vQUENG",
      "include_colab_link": true
    },
    "kernelspec": {
      "name": "python3",
      "display_name": "Python 3"
    },
    "language_info": {
      "name": "python"
    }
  },
  "cells": [
    {
      "cell_type": "markdown",
      "metadata": {
        "id": "view-in-github",
        "colab_type": "text"
      },
      "source": [
        "<a href=\"https://colab.research.google.com/github/QMBC-Python/QMBC-Python.github.io/blob/main/content/IntrotoArrays.ipynb\" target=\"_parent\"><img src=\"https://colab.research.google.com/assets/colab-badge.svg\" alt=\"Open In Colab\"/></a>"
      ]
    },
    {
      "cell_type": "markdown",
      "source": [
        "# 1.4 - Intro to Arrays"
      ],
      "metadata": {
        "id": "c1GP0wHh2kYa"
      }
    },
    {
      "cell_type": "code",
      "source": [
        "#@markdown Video: Intro to Arrays\n",
        "from IPython.display import YouTubeVideo\n",
        "video = YouTubeVideo(id=\"-nqZEtNz6oY\", width=854, height=480, fs=1)\n",
        "print(\"Video available at https://youtube.com/watch?v=\" + video.id)\n",
        "video"
      ],
      "metadata": {
        "cellView": "form",
        "id": "Xw3XTpPGSXZu"
      },
      "execution_count": null,
      "outputs": []
    },
    {
      "cell_type": "markdown",
      "source": [
        "**What is Numpy?**\n",
        "\n",
        "NumPy = Numerical Python\n",
        "\n",
        "Core library for scientific computing\n",
        "\n",
        "Most \"Matlab-y\" data type\n",
        "\n",
        "Lots of documentation: https://numpy.org/doc/stable/reference/\n",
        "\n",
        "Lots of tutorials including: https://cs231n.github.io/python-numpy-tutorial/\n",
        "\n"
      ],
      "metadata": {
        "id": "e182qIPrVf2C"
      }
    },
    {
      "cell_type": "code",
      "source": [
        "import numpy as np"
      ],
      "metadata": {
        "id": "O7M1m6S8VIaI"
      },
      "execution_count": null,
      "outputs": []
    },
    {
      "cell_type": "markdown",
      "source": [
        "## Array overview\n",
        "\n",
        "Arrays are a new data type!"
      ],
      "metadata": {
        "id": "IFqW0ZELX2F7"
      }
    },
    {
      "cell_type": "code",
      "source": [
        "x = np.array([5, 1, 2])\n",
        "\n",
        "x"
      ],
      "metadata": {
        "colab": {
          "base_uri": "https://localhost:8080/"
        },
        "id": "UeTnA5qgci4N",
        "outputId": "437b7b0c-92f7-46e2-d89a-f1440607b036"
      },
      "execution_count": null,
      "outputs": [
        {
          "output_type": "execute_result",
          "data": {
            "text/plain": [
              "array([5, 1, 2])"
            ]
          },
          "metadata": {},
          "execution_count": 2
        }
      ]
    },
    {
      "cell_type": "markdown",
      "source": [
        "![picture](https://raw.githubusercontent.com/QMBC-Python/QMBC-Python.github.io/main/images/numpy_1d.png)"
      ],
      "metadata": {
        "id": "2-Matn0Mk96K"
      }
    },
    {
      "cell_type": "code",
      "source": [
        "x = np.array([[3, 2], [1, 4]])\n",
        "\n",
        "print(x)"
      ],
      "metadata": {
        "colab": {
          "base_uri": "https://localhost:8080/"
        },
        "id": "0WHCqMNac_79",
        "outputId": "fe673686-6735-4823-c986-46597b9b5cae"
      },
      "execution_count": null,
      "outputs": [
        {
          "output_type": "stream",
          "name": "stdout",
          "text": [
            "[[3 2]\n",
            " [1 4]]\n"
          ]
        }
      ]
    },
    {
      "cell_type": "markdown",
      "source": [
        "![picture](https://raw.githubusercontent.com/QMBC-Python/QMBC-Python.github.io/main/images/numpy_1d2d3d.png)"
      ],
      "metadata": {
        "id": "b4jlqZ38lQjI"
      }
    },
    {
      "cell_type": "code",
      "source": [
        "type(x)"
      ],
      "metadata": {
        "colab": {
          "base_uri": "https://localhost:8080/"
        },
        "id": "LT90RUmYdJQB",
        "outputId": "a88ba0c3-a007-45e2-b89e-b9e2c164fd3d"
      },
      "execution_count": null,
      "outputs": [
        {
          "output_type": "execute_result",
          "data": {
            "text/plain": [
              "numpy.ndarray"
            ]
          },
          "metadata": {},
          "execution_count": 4
        }
      ]
    },
    {
      "cell_type": "code",
      "source": [
        "x.dtype"
      ],
      "metadata": {
        "colab": {
          "base_uri": "https://localhost:8080/"
        },
        "id": "Wj8x30TRdN4P",
        "outputId": "7d22c012-5211-40dc-f002-e89581c31fd2"
      },
      "execution_count": null,
      "outputs": [
        {
          "output_type": "execute_result",
          "data": {
            "text/plain": [
              "dtype('int64')"
            ]
          },
          "metadata": {},
          "execution_count": 5
        }
      ]
    },
    {
      "cell_type": "code",
      "source": [
        "x = np.array([[3.1, 2], [1.2, 4]])\n",
        "\n",
        "x.dtype"
      ],
      "metadata": {
        "colab": {
          "base_uri": "https://localhost:8080/"
        },
        "id": "QWOuA-lSdTjS",
        "outputId": "ef419b80-fbdd-4ad8-c667-c6832e07082a"
      },
      "execution_count": null,
      "outputs": [
        {
          "output_type": "execute_result",
          "data": {
            "text/plain": [
              "dtype('float64')"
            ]
          },
          "metadata": {},
          "execution_count": 7
        }
      ]
    },
    {
      "cell_type": "markdown",
      "source": [
        "You can manually set the data type during array creation."
      ],
      "metadata": {
        "id": "GZKtJkF6dZA8"
      }
    },
    {
      "cell_type": "code",
      "source": [
        "x = np.array([[3.1, 2], [1.2, 4]], dtype = 'int')\n",
        "\n",
        "print(x)"
      ],
      "metadata": {
        "colab": {
          "base_uri": "https://localhost:8080/"
        },
        "id": "tqYQGx4Mdahx",
        "outputId": "ac293aae-753b-4fb2-bd39-80923245950e"
      },
      "execution_count": null,
      "outputs": [
        {
          "output_type": "stream",
          "name": "stdout",
          "text": [
            "[[3 2]\n",
            " [1 4]]\n"
          ]
        }
      ]
    },
    {
      "cell_type": "markdown",
      "source": [
        "You can also change the data type later"
      ],
      "metadata": {
        "id": "ghF7ZtPMdf3-"
      }
    },
    {
      "cell_type": "code",
      "source": [
        "x = x.astype('float')\n",
        "\n",
        "x.dtype"
      ],
      "metadata": {
        "colab": {
          "base_uri": "https://localhost:8080/"
        },
        "id": "QWOw939BdhKZ",
        "outputId": "c35ac8e6-6fb7-40d8-d576-312675b9dfd3"
      },
      "execution_count": null,
      "outputs": [
        {
          "output_type": "execute_result",
          "data": {
            "text/plain": [
              "dtype('float64')"
            ]
          },
          "metadata": {},
          "execution_count": 10
        }
      ]
    },
    {
      "cell_type": "code",
      "source": [
        "x.shape"
      ],
      "metadata": {
        "colab": {
          "base_uri": "https://localhost:8080/"
        },
        "id": "J8trkwY6BFOm",
        "outputId": "dc84cf9c-d30a-4fe3-86a5-a2ec69a46da5"
      },
      "execution_count": null,
      "outputs": [
        {
          "output_type": "execute_result",
          "data": {
            "text/plain": [
              "(2, 2)"
            ]
          },
          "metadata": {},
          "execution_count": 11
        }
      ]
    },
    {
      "cell_type": "markdown",
      "source": [
        "## Creating arrays\n",
        "\n",
        "There are many ways to intialize arrays. Let's start with the basics"
      ],
      "metadata": {
        "id": "VsCX4GjdVYGh"
      }
    },
    {
      "cell_type": "markdown",
      "source": [
        "1) Initialize with numbers in closed brackets (python lists)"
      ],
      "metadata": {
        "id": "KHuvyJJmdlCW"
      }
    },
    {
      "cell_type": "code",
      "source": [
        "x = np.array([4, 6, 1])\n",
        "\n",
        "x"
      ],
      "metadata": {
        "id": "_HZeJNvVVZFM",
        "colab": {
          "base_uri": "https://localhost:8080/"
        },
        "outputId": "f3888189-8978-481a-943b-eb908d5557fb"
      },
      "execution_count": null,
      "outputs": [
        {
          "output_type": "execute_result",
          "data": {
            "text/plain": [
              "array([4, 6, 1])"
            ]
          },
          "metadata": {},
          "execution_count": 13
        }
      ]
    },
    {
      "cell_type": "code",
      "source": [
        "x = np.array([[4, 6, 1], [3, 4, 5]])\n",
        "\n",
        "print(x)\n",
        "print(x.shape)"
      ],
      "metadata": {
        "colab": {
          "base_uri": "https://localhost:8080/"
        },
        "id": "JrRKoWkRBqny",
        "outputId": "f5a41ecd-062b-4a87-f7bc-6ed98eb74a76"
      },
      "execution_count": null,
      "outputs": [
        {
          "output_type": "stream",
          "name": "stdout",
          "text": [
            "[[4 6 1]\n",
            " [3 4 5]]\n",
            "(2, 3)\n"
          ]
        }
      ]
    },
    {
      "cell_type": "markdown",
      "source": [
        "2) Initialize with zeros or ones"
      ],
      "metadata": {
        "id": "HJVJxxXSdsUY"
      }
    },
    {
      "cell_type": "code",
      "source": [
        "x = np.zeros(shape = (2, 2, 4, 8, 10, 2))\n",
        "\n",
        "x.shape"
      ],
      "metadata": {
        "colab": {
          "base_uri": "https://localhost:8080/"
        },
        "id": "eN72DSmxdufU",
        "outputId": "f1fc0a2c-af6f-49a2-f45a-f93d5ca13c44"
      },
      "execution_count": null,
      "outputs": [
        {
          "output_type": "execute_result",
          "data": {
            "text/plain": [
              "(2, 2, 4, 8, 10, 2)"
            ]
          },
          "metadata": {},
          "execution_count": 18
        }
      ]
    },
    {
      "cell_type": "code",
      "source": [
        "x = np.ones(shape = (5, 1))"
      ],
      "metadata": {
        "id": "rLqgQdpodxgI"
      },
      "execution_count": null,
      "outputs": []
    },
    {
      "cell_type": "markdown",
      "source": [
        "4) Initialize with evenly space numbers"
      ],
      "metadata": {
        "id": "mpeSELdnd2DE"
      }
    },
    {
      "cell_type": "markdown",
      "source": [
        "Given interval and step size:"
      ],
      "metadata": {
        "id": "N6p8ZV9zd7Wq"
      }
    },
    {
      "cell_type": "code",
      "source": [
        "x = np.arange(start = 0, stop = 10, step = 2)\n",
        "\n",
        "print(x)"
      ],
      "metadata": {
        "colab": {
          "base_uri": "https://localhost:8080/"
        },
        "id": "beYb6YAwd5Ul",
        "outputId": "261539b2-f982-445b-ea81-67b7a17b87e4"
      },
      "execution_count": null,
      "outputs": [
        {
          "output_type": "stream",
          "name": "stdout",
          "text": [
            "[0 2 4 6 8]\n"
          ]
        }
      ]
    },
    {
      "cell_type": "code",
      "source": [
        "x = np.arange(0, 10, 2)\n",
        "\n",
        "print(x)"
      ],
      "metadata": {
        "colab": {
          "base_uri": "https://localhost:8080/"
        },
        "id": "qEHE3PTSCVY1",
        "outputId": "173082ef-dad5-4976-d3b9-d15334781e1e"
      },
      "execution_count": null,
      "outputs": [
        {
          "output_type": "stream",
          "name": "stdout",
          "text": [
            "[0 2 4 6 8]\n"
          ]
        }
      ]
    },
    {
      "cell_type": "markdown",
      "source": [
        "Given interval and specified number of points:"
      ],
      "metadata": {
        "id": "xKXT8n3ed9Gq"
      }
    },
    {
      "cell_type": "code",
      "source": [
        "x = np.linspace(start = 0, stop = 10, num = 50)\n",
        "\n",
        "print(x)"
      ],
      "metadata": {
        "colab": {
          "base_uri": "https://localhost:8080/"
        },
        "id": "HNHc9Ss0d-SM",
        "outputId": "6f2626cd-d096-4786-9b90-bed2e235d0b7"
      },
      "execution_count": null,
      "outputs": [
        {
          "output_type": "stream",
          "name": "stdout",
          "text": [
            "[ 0.          0.20408163  0.40816327  0.6122449   0.81632653  1.02040816\n",
            "  1.2244898   1.42857143  1.63265306  1.83673469  2.04081633  2.24489796\n",
            "  2.44897959  2.65306122  2.85714286  3.06122449  3.26530612  3.46938776\n",
            "  3.67346939  3.87755102  4.08163265  4.28571429  4.48979592  4.69387755\n",
            "  4.89795918  5.10204082  5.30612245  5.51020408  5.71428571  5.91836735\n",
            "  6.12244898  6.32653061  6.53061224  6.73469388  6.93877551  7.14285714\n",
            "  7.34693878  7.55102041  7.75510204  7.95918367  8.16326531  8.36734694\n",
            "  8.57142857  8.7755102   8.97959184  9.18367347  9.3877551   9.59183673\n",
            "  9.79591837 10.        ]\n"
          ]
        }
      ]
    },
    {
      "cell_type": "markdown",
      "source": [
        "6) Initialize with randomly drawn numbers\n",
        "\n",
        "We will return to this one later\n",
        "\n",
        "7) Initialize with loaded data\n",
        "\n",
        "We will return to this one later"
      ],
      "metadata": {
        "id": "J4fPgyfpd_uB"
      }
    },
    {
      "cell_type": "markdown",
      "source": [
        "## Basic computations\n",
        "\n",
        "We will cover basics and examples here but there are hundreds of Numpy possibilities - you will have to Google!\n",
        "\n",
        "https://numpy.org/doc/stable/reference/index.html"
      ],
      "metadata": {
        "id": "XtXuscPjX_23"
      }
    },
    {
      "cell_type": "code",
      "source": [
        "x = np.array([[3, 4], [1, 2]])\n",
        "\n",
        "print(x)"
      ],
      "metadata": {
        "id": "APy_pDarWC32",
        "colab": {
          "base_uri": "https://localhost:8080/"
        },
        "outputId": "28aa1d5f-38bb-4c44-f5af-ac954d0bc019"
      },
      "execution_count": null,
      "outputs": [
        {
          "output_type": "stream",
          "name": "stdout",
          "text": [
            "[[3 4]\n",
            " [1 2]]\n"
          ]
        }
      ]
    },
    {
      "cell_type": "code",
      "source": [
        "x + 1"
      ],
      "metadata": {
        "colab": {
          "base_uri": "https://localhost:8080/"
        },
        "id": "GnJx5oqqlhuY",
        "outputId": "ae246b6a-1820-474c-b089-a730ef40ff6d"
      },
      "execution_count": null,
      "outputs": [
        {
          "output_type": "execute_result",
          "data": {
            "text/plain": [
              "array([[4, 5],\n",
              "       [2, 3]])"
            ]
          },
          "metadata": {},
          "execution_count": 28
        }
      ]
    },
    {
      "cell_type": "code",
      "source": [
        "y = np.array([[0, 1], [0, 3]])\n",
        "\n",
        "x + y"
      ],
      "metadata": {
        "colab": {
          "base_uri": "https://localhost:8080/"
        },
        "id": "EJ24YiKllqFM",
        "outputId": "afe19946-5791-41f1-de74-45fa931670f2"
      },
      "execution_count": null,
      "outputs": [
        {
          "output_type": "execute_result",
          "data": {
            "text/plain": [
              "array([[3, 5],\n",
              "       [1, 5]])"
            ]
          },
          "metadata": {},
          "execution_count": 31
        }
      ]
    },
    {
      "cell_type": "code",
      "source": [
        "x * y"
      ],
      "metadata": {
        "colab": {
          "base_uri": "https://localhost:8080/"
        },
        "id": "5aVrpqmQl34b",
        "outputId": "bbab2a19-11e2-4eb3-fa71-00ac2df9d47b"
      },
      "execution_count": null,
      "outputs": [
        {
          "output_type": "execute_result",
          "data": {
            "text/plain": [
              "array([[0, 4],\n",
              "       [0, 6]])"
            ]
          },
          "metadata": {},
          "execution_count": 32
        }
      ]
    },
    {
      "cell_type": "code",
      "source": [
        "x @ y"
      ],
      "metadata": {
        "colab": {
          "base_uri": "https://localhost:8080/"
        },
        "id": "OVdFyxxql_fE",
        "outputId": "06c23251-a47c-4ef2-eebe-07db81a998af"
      },
      "execution_count": null,
      "outputs": [
        {
          "output_type": "execute_result",
          "data": {
            "text/plain": [
              "array([[ 0, 15],\n",
              "       [ 0,  7]])"
            ]
          },
          "metadata": {},
          "execution_count": 33
        }
      ]
    },
    {
      "cell_type": "code",
      "source": [
        "print(x)"
      ],
      "metadata": {
        "colab": {
          "base_uri": "https://localhost:8080/"
        },
        "id": "Q-oVxJbMmBKg",
        "outputId": "71db34de-ac17-400a-c3b9-596a08af98c6"
      },
      "execution_count": null,
      "outputs": [
        {
          "output_type": "stream",
          "name": "stdout",
          "text": [
            "[[3 4]\n",
            " [1 2]]\n"
          ]
        }
      ]
    },
    {
      "cell_type": "code",
      "source": [
        "np.sum(x)"
      ],
      "metadata": {
        "colab": {
          "base_uri": "https://localhost:8080/"
        },
        "id": "5KPXWFeGDeQ5",
        "outputId": "cdc4f22e-0460-4bc7-a18c-4c3f13b10b45"
      },
      "execution_count": null,
      "outputs": [
        {
          "output_type": "execute_result",
          "data": {
            "text/plain": [
              "10"
            ]
          },
          "metadata": {},
          "execution_count": 35
        }
      ]
    },
    {
      "cell_type": "code",
      "source": [
        "np.sum(x, axis = 0)"
      ],
      "metadata": {
        "colab": {
          "base_uri": "https://localhost:8080/"
        },
        "id": "8a1XWGvIDh74",
        "outputId": "dffccf2b-a3a1-46d1-9dad-13bb6fc47442"
      },
      "execution_count": null,
      "outputs": [
        {
          "output_type": "execute_result",
          "data": {
            "text/plain": [
              "array([4, 6])"
            ]
          },
          "metadata": {},
          "execution_count": 39
        }
      ]
    },
    {
      "cell_type": "markdown",
      "source": [
        "![picture](https://raw.githubusercontent.com/QMBC-Python/QMBC-Python.github.io/main/images/numpy_axes.png)"
      ],
      "metadata": {
        "id": "fBd6EnaRmFSA"
      }
    },
    {
      "cell_type": "code",
      "source": [
        "np.mean(x, axis = 1)"
      ],
      "metadata": {
        "colab": {
          "base_uri": "https://localhost:8080/"
        },
        "id": "lICVvRyLmOnv",
        "outputId": "43152dbc-6d8e-403e-85b5-e90f176fad48"
      },
      "execution_count": null,
      "outputs": [
        {
          "output_type": "execute_result",
          "data": {
            "text/plain": [
              "array([3.5, 1.5])"
            ]
          },
          "metadata": {},
          "execution_count": 40
        }
      ]
    },
    {
      "cell_type": "markdown",
      "source": [
        "## Concatenating & reshaping arrays"
      ],
      "metadata": {
        "id": "zs3pDwD0YFoX"
      }
    },
    {
      "cell_type": "code",
      "source": [
        "y = np.concatenate((x, x), axis = 1)\n",
        "\n",
        "y"
      ],
      "metadata": {
        "id": "7RH7PsQzYHnL",
        "colab": {
          "base_uri": "https://localhost:8080/"
        },
        "outputId": "88c15320-5746-4053-82c7-34732fab17ef"
      },
      "execution_count": null,
      "outputs": [
        {
          "output_type": "execute_result",
          "data": {
            "text/plain": [
              "array([[3, 4, 3, 4],\n",
              "       [1, 2, 1, 2]])"
            ]
          },
          "metadata": {},
          "execution_count": 43
        }
      ]
    },
    {
      "cell_type": "code",
      "source": [
        "y = np.concatenate((x, x), axis = 0)\n",
        "\n",
        "y"
      ],
      "metadata": {
        "colab": {
          "base_uri": "https://localhost:8080/"
        },
        "id": "s-7kUAZ3mqxY",
        "outputId": "341f594c-ec00-41e1-da7f-f4b9457ca2e2"
      },
      "execution_count": null,
      "outputs": [
        {
          "output_type": "execute_result",
          "data": {
            "text/plain": [
              "array([[3, 4],\n",
              "       [1, 2],\n",
              "       [3, 4],\n",
              "       [1, 2]])"
            ]
          },
          "metadata": {},
          "execution_count": 44
        }
      ]
    },
    {
      "cell_type": "code",
      "source": [
        "np.hstack((x, x))\n",
        "np.vstack((x, x))\n"
      ],
      "metadata": {
        "colab": {
          "base_uri": "https://localhost:8080/"
        },
        "id": "nsakTVd_muco",
        "outputId": "59b27b92-71bc-4ad6-d1fa-01fabd763fb3"
      },
      "execution_count": null,
      "outputs": [
        {
          "output_type": "execute_result",
          "data": {
            "text/plain": [
              "array([[3, 4],\n",
              "       [1, 2],\n",
              "       [3, 4],\n",
              "       [1, 2]])"
            ]
          },
          "metadata": {},
          "execution_count": 45
        }
      ]
    },
    {
      "cell_type": "markdown",
      "source": [
        "Reshaping arrays"
      ],
      "metadata": {
        "id": "wBL9PMrhng4Q"
      }
    },
    {
      "cell_type": "code",
      "source": [
        "x = np.array([[1, 2, 3], [4, 5, 6]])\n",
        "\n",
        "print(x)"
      ],
      "metadata": {
        "colab": {
          "base_uri": "https://localhost:8080/"
        },
        "id": "GMPIQzjyGJRp",
        "outputId": "677359ed-e608-4d57-a743-cf713e12a3e8"
      },
      "execution_count": null,
      "outputs": [
        {
          "output_type": "stream",
          "name": "stdout",
          "text": [
            "[[1 2 3]\n",
            " [4 5 6]]\n"
          ]
        }
      ]
    },
    {
      "cell_type": "code",
      "source": [
        "y = np.reshape(x, newshape = (6, 1))\n",
        "\n",
        "print(y)"
      ],
      "metadata": {
        "colab": {
          "base_uri": "https://localhost:8080/"
        },
        "id": "Jwr0eYmNG3tt",
        "outputId": "0e186103-a8f6-4e65-a920-c047db7a8ffb"
      },
      "execution_count": null,
      "outputs": [
        {
          "output_type": "stream",
          "name": "stdout",
          "text": [
            "[[1]\n",
            " [2]\n",
            " [3]\n",
            " [4]\n",
            " [5]\n",
            " [6]]\n"
          ]
        }
      ]
    },
    {
      "cell_type": "code",
      "source": [
        "y = x.reshape((6, 1))\n",
        "\n",
        "print(y)"
      ],
      "metadata": {
        "colab": {
          "base_uri": "https://localhost:8080/"
        },
        "id": "yxJavBaMHDOD",
        "outputId": "3c009468-04f9-4568-83c0-8464b39ef2e6"
      },
      "execution_count": null,
      "outputs": [
        {
          "output_type": "stream",
          "name": "stdout",
          "text": [
            "[[1]\n",
            " [2]\n",
            " [3]\n",
            " [4]\n",
            " [5]\n",
            " [6]]\n"
          ]
        }
      ]
    },
    {
      "cell_type": "code",
      "source": [
        "y = x.reshape((-1, 1))\n",
        "\n",
        "print(y)\n"
      ],
      "metadata": {
        "colab": {
          "base_uri": "https://localhost:8080/"
        },
        "id": "U0rPPd7kINWX",
        "outputId": "4addebc1-a29c-4017-a01e-c7bcfdaaf004"
      },
      "execution_count": null,
      "outputs": [
        {
          "output_type": "stream",
          "name": "stdout",
          "text": [
            "[[1]\n",
            " [2]\n",
            " [3]\n",
            " [4]\n",
            " [5]\n",
            " [6]]\n"
          ]
        }
      ]
    },
    {
      "cell_type": "code",
      "source": [
        "y = x.reshape((3, 2))\n",
        "\n",
        "print(y)"
      ],
      "metadata": {
        "colab": {
          "base_uri": "https://localhost:8080/"
        },
        "id": "aGIVQVZyIb_a",
        "outputId": "9a5ca4e4-b805-4ad9-f1af-45a0efc8e867"
      },
      "execution_count": null,
      "outputs": [
        {
          "output_type": "stream",
          "name": "stdout",
          "text": [
            "[[1 2]\n",
            " [3 4]\n",
            " [5 6]]\n"
          ]
        }
      ]
    },
    {
      "cell_type": "code",
      "source": [
        "y = x.reshape((4, 2))"
      ],
      "metadata": {
        "colab": {
          "base_uri": "https://localhost:8080/",
          "height": 173
        },
        "id": "D03AemR7Ij58",
        "outputId": "1753afb1-d420-43d8-acc0-179383493359"
      },
      "execution_count": null,
      "outputs": [
        {
          "output_type": "error",
          "ename": "ValueError",
          "evalue": "ignored",
          "traceback": [
            "\u001b[0;31m---------------------------------------------------------------------------\u001b[0m",
            "\u001b[0;31mValueError\u001b[0m                                Traceback (most recent call last)",
            "\u001b[0;32m<ipython-input-66-d6822e5c902e>\u001b[0m in \u001b[0;36m<module>\u001b[0;34m()\u001b[0m\n\u001b[0;32m----> 1\u001b[0;31m \u001b[0my\u001b[0m \u001b[0;34m=\u001b[0m \u001b[0mx\u001b[0m\u001b[0;34m.\u001b[0m\u001b[0mreshape\u001b[0m\u001b[0;34m(\u001b[0m\u001b[0;34m(\u001b[0m\u001b[0;36m4\u001b[0m\u001b[0;34m,\u001b[0m \u001b[0;36m2\u001b[0m\u001b[0;34m)\u001b[0m\u001b[0;34m)\u001b[0m\u001b[0;34m\u001b[0m\u001b[0;34m\u001b[0m\u001b[0m\n\u001b[0m",
            "\u001b[0;31mValueError\u001b[0m: cannot reshape array of size 6 into shape (4,2)"
          ]
        }
      ]
    },
    {
      "cell_type": "markdown",
      "source": [
        "![picture](https://raw.githubusercontent.com/QMBC-Python/QMBC-Python.github.io/main/images/numpy_reshape.png)"
      ],
      "metadata": {
        "id": "GuQiXUjJpgmG"
      }
    },
    {
      "cell_type": "code",
      "source": [
        ""
      ],
      "metadata": {
        "id": "hezx3fKOx9m4"
      },
      "execution_count": null,
      "outputs": []
    },
    {
      "cell_type": "code",
      "source": [
        ""
      ],
      "metadata": {
        "id": "tB11ortqyDcu"
      },
      "execution_count": null,
      "outputs": []
    }
  ]
}