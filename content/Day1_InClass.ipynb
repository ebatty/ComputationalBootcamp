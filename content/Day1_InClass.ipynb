{
  "nbformat": 4,
  "nbformat_minor": 0,
  "metadata": {
    "colab": {
      "name": "Day1_InClass.ipynb",
      "provenance": [],
      "collapsed_sections": [],
      "authorship_tag": "ABX9TyP2nbq38a6RJBTvgZqM41p1",
      "include_colab_link": true
    },
    "kernelspec": {
      "name": "python3",
      "display_name": "Python 3"
    },
    "language_info": {
      "name": "python"
    }
  },
  "cells": [
    {
      "cell_type": "markdown",
      "metadata": {
        "id": "view-in-github",
        "colab_type": "text"
      },
      "source": [
        "<a href=\"https://colab.research.google.com/github/QMBC-Python/QMBC-Python.github.io/blob/main/content/Day1_InClass.ipynb\" target=\"_parent\"><img src=\"https://colab.research.google.com/assets/colab-badge.svg\" alt=\"Open In Colab\"/></a>"
      ]
    },
    {
      "cell_type": "markdown",
      "source": [
        "# In-class activities"
      ],
      "metadata": {
        "id": "eWsM2z9nDNjo"
      }
    },
    {
      "cell_type": "code",
      "execution_count": null,
      "metadata": {
        "id": "fDV01xu2Y2QE"
      },
      "outputs": [],
      "source": [
        "import numpy as np\n",
        "import matplotlib.pyplot as plt"
      ]
    },
    {
      "cell_type": "code",
      "source": [
        ""
      ],
      "metadata": {
        "id": "mDp1bT58_hs8"
      },
      "execution_count": null,
      "outputs": []
    },
    {
      "cell_type": "code",
      "source": [
        ""
      ],
      "metadata": {
        "id": "dxKz1ZsJ_h2W"
      },
      "execution_count": null,
      "outputs": []
    },
    {
      "cell_type": "markdown",
      "source": [
        "# Array manipulation (self-paced)"
      ],
      "metadata": {
        "id": "t6jk_k9iZLaX"
      }
    },
    {
      "cell_type": "markdown",
      "source": [
        "The next cell automatically downloads the image (file name `dog.jpg`) and loads it in directly as numpy array `img` (should work in either Google Colab or jupyter notebook locally). \n",
        "\n",
        "Loading in data that exists locally (if you are using a jupyter notebook for example) isn’t as complicated. \n",
        "\n",
        "You could use `plt.imread('dog.jpg', format = 'jpg')`\n",
        "If you’d like to download the data locally, you can get it from https://osf.io/35azg/."
      ],
      "metadata": {
        "id": "Uq5EEsOTZYE_"
      }
    },
    {
      "cell_type": "code",
      "source": [
        "import requests\n",
        "import io\n",
        "\n",
        "r = requests.get('https://osf.io/35azg/download')\n",
        "\n",
        "img = plt.imread(io.BytesIO(r.content), format = 'jpg')"
      ],
      "metadata": {
        "id": "SnSoZazzZQdB"
      },
      "execution_count": null,
      "outputs": []
    },
    {
      "cell_type": "markdown",
      "source": [
        "We will write some code to display the image (we will cover plotting soon!)."
      ],
      "metadata": {
        "id": "S40VZBhKcQJr"
      }
    },
    {
      "cell_type": "code",
      "source": [
        "plt.imshow(img, cmap = 'gray')"
      ],
      "metadata": {
        "id": "KQZnU9ERaGas"
      },
      "execution_count": null,
      "outputs": []
    },
    {
      "cell_type": "markdown",
      "source": [
        "1) What is the shape of the image?"
      ],
      "metadata": {
        "id": "9xpxkPyOfbPO"
      }
    },
    {
      "cell_type": "code",
      "source": [
        ""
      ],
      "metadata": {
        "id": "SOZN6GOZfdoV"
      },
      "execution_count": null,
      "outputs": []
    },
    {
      "cell_type": "markdown",
      "source": [
        "2) What is the minimum value of the image?"
      ],
      "metadata": {
        "id": "ls08fX24cZkD"
      }
    },
    {
      "cell_type": "code",
      "source": [
        ""
      ],
      "metadata": {
        "id": "XQtRhWo1bl-G"
      },
      "execution_count": null,
      "outputs": []
    },
    {
      "cell_type": "markdown",
      "source": [
        "3) What is the maximum value of the image?"
      ],
      "metadata": {
        "id": "6_Zj4wpfca1K"
      }
    },
    {
      "cell_type": "code",
      "source": [
        ""
      ],
      "metadata": {
        "id": "CwNYHEf0b_gf"
      },
      "execution_count": null,
      "outputs": []
    },
    {
      "cell_type": "markdown",
      "source": [
        "4) Create a new version of `img` where the 20 columns on the left and right edge of the image are equal to the minimum of the image.\n",
        "Try to do this in two lines of code. Type the lines of code in LC."
      ],
      "metadata": {
        "id": "aUYy663VcsJU"
      }
    },
    {
      "cell_type": "code",
      "source": [
        "# First let's copy the image so we don't overwrite our original image\n",
        "new_img = img.copy()\n",
        "\n",
        "... # your code here\n",
        "\n",
        "plt.imshow(new_img, cmap = 'gray')"
      ],
      "metadata": {
        "id": "AozVSiReccef"
      },
      "execution_count": null,
      "outputs": []
    },
    {
      "cell_type": "markdown",
      "source": [
        "5) Create a new version of the image where the 20 rows on the top and bottom of the image are equal to the maximum of the image. Type the lines of code."
      ],
      "metadata": {
        "id": "bUva-ndudqdE"
      }
    },
    {
      "cell_type": "code",
      "source": [
        "# First let's copy the image\n",
        "new_img = img.copy()\n",
        "\n",
        "... # your code here\n",
        "\n",
        "plt.imshow(new_img, cmap = 'gray')"
      ],
      "metadata": {
        "id": "iyRGK8YDdD28"
      },
      "execution_count": null,
      "outputs": []
    },
    {
      "cell_type": "markdown",
      "source": [
        "6) Create a new array containing two copies of Leo side by side. Type the line of code."
      ],
      "metadata": {
        "id": "B7MpKyT4eD8M"
      }
    },
    {
      "cell_type": "code",
      "source": [
        "horiz_img = ...\n",
        "\n",
        "plt.imshow(horiz_img, cmap = 'gray')"
      ],
      "metadata": {
        "id": "IECNj1WSdy1f"
      },
      "execution_count": null,
      "outputs": []
    },
    {
      "cell_type": "markdown",
      "source": [
        "7) Create a new array with two copies of the image one on top of the other."
      ],
      "metadata": {
        "id": "F-Mp3CZkepIV"
      }
    },
    {
      "cell_type": "code",
      "source": [
        "vert_img = ...\n",
        "\n",
        "plt.imshow(vert_img, cmap = 'gray')"
      ],
      "metadata": {
        "id": "oIHTKJ_jeQjT"
      },
      "execution_count": null,
      "outputs": []
    },
    {
      "cell_type": "markdown",
      "source": [
        "8) Create an array with the mean value of each row. Ensure this array is the shape you expect! Enter the line of code"
      ],
      "metadata": {
        "id": "4J6ADARtqtiW"
      }
    },
    {
      "cell_type": "code",
      "source": [
        "row_means = ...\n",
        "\n",
        "plt.plot(row_means)"
      ],
      "metadata": {
        "id": "ku5gxgxtq0fM"
      },
      "execution_count": null,
      "outputs": []
    },
    {
      "cell_type": "markdown",
      "source": [
        "9) Reshape the image to have double the number of columns. What does it look like? why?"
      ],
      "metadata": {
        "id": "ZAzB-0u9rdRG"
      }
    },
    {
      "cell_type": "code",
      "source": [
        "reshaped_image = ...\n",
        "\n",
        "plt.imshow(reshaped_image, cmap = 'gray')"
      ],
      "metadata": {
        "id": "Q8E6HT8nrktp"
      },
      "execution_count": null,
      "outputs": []
    },
    {
      "cell_type": "markdown",
      "source": [
        "10) Create an array of zeros called `img_3d` with the same dimensions as img but with a 3rd dimension of 3. Make it have an integer data type.\n",
        "\n",
        "Hint: You can index into the output of shape. So img.shape[0] gives the number of rows, img.shape[1] gives the number of columns"
      ],
      "metadata": {
        "id": "q1SB6lQHfAxp"
      }
    },
    {
      "cell_type": "code",
      "source": [
        ""
      ],
      "metadata": {
        "id": "ipJZv-5ter5c"
      },
      "execution_count": null,
      "outputs": []
    },
    {
      "cell_type": "markdown",
      "source": [
        "11) Try setting each plane of the 3rd dimension of `img_3d` to img one at a time (remember to rerun zero array creation). What happens when you plot? What happens if you set all 3 planes to img?"
      ],
      "metadata": {
        "id": "K0EbXwR0fYTh"
      }
    },
    {
      "cell_type": "code",
      "source": [
        "\n",
        "plt.imshow(img_3d)"
      ],
      "metadata": {
        "id": "7trvfve0fE-v"
      },
      "execution_count": null,
      "outputs": []
    },
    {
      "cell_type": "markdown",
      "source": [
        "12) It's snowing! Let's add some noise to the image and see what it looks like. Create an array the same size as img but containing uniformly distributed random numbers between 0 and 40. Add this noise to img and store as noisy_img. Type the line of code.\n",
        "\n",
        "Hint: check out the documentation for https://numpy.org/doc/stable/reference/random/generated/numpy.random.uniform.html"
      ],
      "metadata": {
        "id": "YDQHghPThUrl"
      }
    },
    {
      "cell_type": "code",
      "source": [
        "noisy_img = ...\n",
        "\n",
        "plt.imshow(noisy_img, cmap = 'gray')"
      ],
      "metadata": {
        "id": "vbbv7id2gMra"
      },
      "execution_count": null,
      "outputs": []
    },
    {
      "cell_type": "markdown",
      "source": [
        "13) Repeat 10 but use normally distributed noise with mean 100 and standard deviation 20 instead of uniform.\n",
        "\n",
        "Hint: try googling or looking at numpy documentation to find the right command"
      ],
      "metadata": {
        "id": "Q2ZsJRT4n7hs"
      }
    },
    {
      "cell_type": "code",
      "source": [
        "noisy_img = ...\n",
        "\n",
        "plt.imshow(noisy_img, cmap = 'gray')"
      ],
      "metadata": {
        "id": "VQqalAqmlC5p"
      },
      "execution_count": null,
      "outputs": []
    },
    {
      "cell_type": "markdown",
      "source": [
        "# Mystery array investigation\n",
        "\n",
        "Below, we load in the mystery data."
      ],
      "metadata": {
        "id": "6NLQJ-0N5uGb"
      }
    },
    {
      "cell_type": "code",
      "source": [
        "import requests\n",
        "import io\n",
        "\n",
        "r = requests.get('https://osf.io/r4ptu/download')\n",
        "\n",
        "mystery_array = np.load(io.BytesIO(r.content))"
      ],
      "metadata": {
        "id": "KaZ_Qy6k7VU8"
      },
      "execution_count": null,
      "outputs": []
    },
    {
      "cell_type": "code",
      "source": [
        ""
      ],
      "metadata": {
        "id": "N5b3cfEkAPMt"
      },
      "execution_count": null,
      "outputs": []
    },
    {
      "cell_type": "code",
      "source": [
        ""
      ],
      "metadata": {
        "id": "866VhU45APRS"
      },
      "execution_count": null,
      "outputs": []
    },
    {
      "cell_type": "code",
      "source": [
        ""
      ],
      "metadata": {
        "id": "4kLIY9VXAPUJ"
      },
      "execution_count": null,
      "outputs": []
    },
    {
      "cell_type": "markdown",
      "source": [
        "# Plotting practice (self-paced)\n",
        "\n",
        "We have some (simulated) neural data. Specifically, we will load in the responses of a single retinal ganglion cell to white noise stimuli. \n",
        "\n",
        "The stimulus frame rate is 100 Hz and each frame is 10 x 10 pixels. A single 30 second movie (3000 frames) was presented 50 times.\n",
        "\n",
        "I load in the data below. You will have:\n",
        "\n",
        "`stimulus`: 3000 x 10 x 10 array\n",
        "    \n",
        "`spikes`: this is an array of arrays. The outer array is the trials and each entry is an array of spike times for that trial. So spikes[2] gives us an array of spike times on the third trial.\n",
        "\n",
        "**Note that the spikes is kind of weirdly stored. We have an array of arrays because the neuron has a different number of spikes on each trial. Thus, we cannot have a 2D array, trials x spike_times. "
      ],
      "metadata": {
        "id": "yre6UjSO5sUp"
      }
    },
    {
      "cell_type": "code",
      "source": [
        "import requests\n",
        "import io\n",
        "\n",
        "r = requests.get('https://osf.io/tbcrp/download')\n",
        "\n",
        "with np.load(io.BytesIO(r.content), allow_pickle=True) as data:\n",
        "    stimulus = data['stimulus']\n",
        "    spikes = data['spikes']\n",
        "\n",
        "spatial_dim = 10 # size of images (10x10 pixels)\n",
        "\n",
        "n_trials = 50 # number of trials\n",
        "\n",
        "print(stimulus.shape)"
      ],
      "metadata": {
        "id": "WQFN1YXg5trU"
      },
      "execution_count": null,
      "outputs": []
    },
    {
      "cell_type": "markdown",
      "source": [
        "**1) Example frame**\n",
        "\n",
        "Enter your code for this whole section in learning catalytics.\n",
        "\n",
        "1.1) Plot the first frame of the stimulus (so one of the 10 x 10 images). You should a use a colormap that shows the stimulus in black and white. \n",
        "\n",
        "1.2) Add a colorbar to the plot above so we know how the shades of gray map to values.\n",
        "\n",
        "1.3) Change plotting image above so black = -5 and white = 5\n",
        "\n",
        "Basically, you want to change the data range that the colormap covers (default is to cover range of the plotting data). \n",
        "\n",
        "We didn't cover this in class - can you figure it out from googling or the [documentation](\n",
        "https://matplotlib.org/3.2.1/api/_as_gen/matplotlib.pyplot.imshow.html)?\n",
        "\n",
        "1.4) Add a title\n",
        "\n",
        "Come back to this if you have time after completing the rest. Can you get rid of the x ticks/y ticks and their labels above?"
      ],
      "metadata": {
        "id": "l7ubabVe9wyG"
      }
    },
    {
      "cell_type": "code",
      "source": [
        ""
      ],
      "metadata": {
        "id": "pbR6Vlmi9na5"
      },
      "execution_count": null,
      "outputs": []
    },
    {
      "cell_type": "markdown",
      "source": [
        "**2) Subplots**\n",
        "\n",
        "Instead of just showing one frame as in the previous part, show the first 6 frames in a 2 x 3 layout (2 rows, 3 columns) using subplots. (Hint: probably easiest to use copy and paste here from the last part and make a few changes for each subplot). No need to use a colorbar but try to get it to look nice (not overlapping, not too much white space).\n",
        "\n",
        "Enter your code in learning catalytics. "
      ],
      "metadata": {
        "id": "gc5VqzH9AwaW"
      }
    },
    {
      "cell_type": "code",
      "source": [
        ""
      ],
      "metadata": {
        "id": "rkJIyMOjA91Q"
      },
      "execution_count": null,
      "outputs": []
    },
    {
      "cell_type": "markdown",
      "source": [
        "**3) Histogram**\n",
        "\n",
        "Great, now we have a nice plot showing an example frame of the image! Let's look at a distribution of the pixel values.\n",
        "\n",
        "Enter your code for this whole section in learning catalytics.\n",
        "\n",
        "3.1)  Plot a histogram of pixel values in our stimulus\n",
        "\n",
        "3.2) Add axis labels and a title to the histogram above\n",
        "\n",
        "3.3) Change the number of bins to 200 in your plot above to get a finer grained histogram\n",
        "\n",
        "3.4) Can you change the color of histogram to black?"
      ],
      "metadata": {
        "id": "M-pbZLeE-VFl"
      }
    },
    {
      "cell_type": "code",
      "source": [
        ""
      ],
      "metadata": {
        "id": "a7Re1Nmo-SfB"
      },
      "execution_count": null,
      "outputs": []
    },
    {
      "cell_type": "markdown",
      "source": [
        "LC #3: What type of white noise do you think is? Aka what does the distribution of pixel values resemble?\n"
      ],
      "metadata": {
        "id": "h_vzMzdh-w5H"
      }
    },
    {
      "cell_type": "markdown",
      "source": [
        "**4) Raster**\n",
        "\n",
        "We want to plot a raster plot of the spikes.\n",
        "\n",
        "In a raster plot, the y axis shows different trials and the x axis represents time. If there is a spike for a certain trial at a certain time, it is represented by a small vertical line.  See [here ](https://www.mathworks.com/matlabcentral/mlc-downloads/downloads/submissions/10000/versions/1/screenshot.png)for an example.\n",
        "\n",
        "\n",
        "4.1) Plot a raster. Use `plt.eventplot`, docs [here](https://matplotlib.org/3.1.1/api/_as_gen/matplotlib.pyplot.eventplot.html).\n",
        "\n",
        "4.2) Fix axis limits in the plot above to get rid of the extra white space.\n",
        "\n",
        "4.3) Add axis labels and a title to the raster plot\n",
        "\n",
        "4.4) Change xticks to be at 0, 10, 20, and 30 only"
      ],
      "metadata": {
        "id": "BP0sJumJ-22a"
      }
    },
    {
      "cell_type": "code",
      "source": [
        ""
      ],
      "metadata": {
        "id": "R4oCCpIu-y5v"
      },
      "execution_count": null,
      "outputs": []
    }
  ]
}