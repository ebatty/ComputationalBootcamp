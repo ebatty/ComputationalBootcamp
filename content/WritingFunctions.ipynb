{
  "nbformat": 4,
  "nbformat_minor": 0,
  "metadata": {
    "colab": {
      "provenance": [],
      "collapsed_sections": [],
      "authorship_tag": "ABX9TyOQAFI9GWkM3ltChFXQJyAf",
      "include_colab_link": true
    },
    "kernelspec": {
      "name": "python3",
      "display_name": "Python 3"
    },
    "language_info": {
      "name": "python"
    }
  },
  "cells": [
    {
      "cell_type": "markdown",
      "metadata": {
        "id": "view-in-github",
        "colab_type": "text"
      },
      "source": [
        "<a href=\"https://colab.research.google.com/github/ebatty/ComputationalBootcamp/blob/master/content/WritingFunctions.ipynb\" target=\"_parent\"><img src=\"https://colab.research.google.com/assets/colab-badge.svg\" alt=\"Open In Colab\"/></a>"
      ]
    },
    {
      "cell_type": "markdown",
      "source": [
        "# Writing Functions "
      ],
      "metadata": {
        "id": "c1GP0wHh2kYa"
      }
    },
    {
      "cell_type": "code",
      "source": [
        "#@markdown Video\n",
        "from IPython.display import YouTubeVideo\n",
        "video = YouTubeVideo(id=\"LvSIkS8ZKmw\", width=854, height=480, fs=1)\n",
        "print(\"Video available at https://youtube.com/watch?v=\" + video.id)\n",
        "video"
      ],
      "metadata": {
        "colab": {
          "base_uri": "https://localhost:8080/",
          "height": 539
        },
        "id": "DCi0tqzMLP_4",
        "outputId": "7b1e284e-dacf-4679-c258-cd6c731ef553",
        "cellView": "form"
      },
      "execution_count": 1,
      "outputs": [
        {
          "output_type": "stream",
          "name": "stdout",
          "text": [
            "Video available at https://youtube.com/watch?v=LvSIkS8ZKmw\n"
          ]
        },
        {
          "output_type": "execute_result",
          "data": {
            "text/plain": [
              "<IPython.lib.display.YouTubeVideo at 0x7f21fe8ad650>"
            ],
            "text/html": [
              "\n",
              "        <iframe\n",
              "            width=\"854\"\n",
              "            height=\"480\"\n",
              "            src=\"https://www.youtube.com/embed/LvSIkS8ZKmw?fs=1\"\n",
              "            frameborder=\"0\"\n",
              "            allowfullscreen\n",
              "        ></iframe>\n",
              "        "
            ],
            "image/jpeg": "[encoded data removed]"
          },
          "metadata": {},
          "execution_count": 1
        }
      ]
    },
    {
      "cell_type": "markdown",
      "source": [
        "Basic function syntax"
      ],
      "metadata": {
        "id": "SO_6N2FihHn6"
      }
    },
    {
      "cell_type": "code",
      "source": [
        "def is_it_hot(temperature):\n",
        "\n",
        "    heat_decision = temperature > 75\n",
        "\n",
        "    return heat_decision"
      ],
      "metadata": {
        "id": "HALnYjCtgrW9"
      },
      "execution_count": 2,
      "outputs": []
    },
    {
      "cell_type": "code",
      "source": [
        "dec = is_it_hot(80)\n",
        "\n",
        "dec"
      ],
      "metadata": {
        "colab": {
          "base_uri": "https://localhost:8080/"
        },
        "id": "Zm9yA4AmhIkl",
        "outputId": "8c7b28ed-3cf3-4000-d462-c605c23192ae"
      },
      "execution_count": 3,
      "outputs": [
        {
          "output_type": "execute_result",
          "data": {
            "text/plain": [
              "True"
            ]
          },
          "metadata": {},
          "execution_count": 3
        }
      ]
    },
    {
      "cell_type": "markdown",
      "source": [
        "Multiple input arguments"
      ],
      "metadata": {
        "id": "YOPldV-yhKlo"
      }
    },
    {
      "cell_type": "code",
      "source": [
        "def is_it_hot(temperature, threshold):\n",
        "\n",
        "    heat_decision = temperature > threshold\n",
        "\n",
        "    return heat_decision"
      ],
      "metadata": {
        "id": "-pwJWet3hJVq"
      },
      "execution_count": 4,
      "outputs": []
    },
    {
      "cell_type": "markdown",
      "source": [
        "Setting a default value for threshold"
      ],
      "metadata": {
        "id": "Q1ImNs1rhNe4"
      }
    },
    {
      "cell_type": "code",
      "source": [
        "def is_it_hot(temperature, threshold=75):\n",
        "\n",
        "    heat_decision = temperature > threshold\n",
        "\n",
        "    return heat_decision"
      ],
      "metadata": {
        "id": "-tYy6EXzhMG2"
      },
      "execution_count": 5,
      "outputs": []
    },
    {
      "cell_type": "markdown",
      "source": [
        "Multiple outputs"
      ],
      "metadata": {
        "id": "6xG8lzvGhP8Y"
      }
    },
    {
      "cell_type": "code",
      "source": [
        "def is_it_hot(temperature, threshold=75):\n",
        "\n",
        "    heat_decision = temperature > threshold\n",
        "\n",
        "    degrees_C = (temperature - 32) * 5/9\n",
        "    return heat_decision, degrees_C"
      ],
      "metadata": {
        "id": "unLQsrZ4hO15"
      },
      "execution_count": null,
      "outputs": []
    }
  ]
}