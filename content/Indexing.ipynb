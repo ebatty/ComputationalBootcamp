{
  "nbformat": 4,
  "nbformat_minor": 0,
  "metadata": {
    "colab": {
      "name": "Indexing.ipynb",
      "provenance": [],
      "authorship_tag": "ABX9TyOld+VctQ/GA2j72WSBd+ab",
      "include_colab_link": true
    },
    "kernelspec": {
      "name": "python3",
      "display_name": "Python 3"
    },
    "language_info": {
      "name": "python"
    }
  },
  "cells": [
    {
      "cell_type": "markdown",
      "metadata": {
        "id": "view-in-github",
        "colab_type": "text"
      },
      "source": [
        "<a href=\"https://colab.research.google.com/github/QMBC-Python/QMBC-Python.github.io/blob/main/content/Indexing.ipynb\" target=\"_parent\"><img src=\"https://colab.research.google.com/assets/colab-badge.svg\" alt=\"Open In Colab\"/></a>"
      ]
    },
    {
      "cell_type": "markdown",
      "source": [
        "# 1.5 - Indexing"
      ],
      "metadata": {
        "id": "c1GP0wHh2kYa"
      }
    },
    {
      "cell_type": "markdown",
      "source": [
        "## Video"
      ],
      "metadata": {
        "id": "T6MToiu2slMz"
      }
    },
    {
      "cell_type": "code",
      "source": [
        "#@markdown Video: Indexing\n",
        "from IPython.display import YouTubeVideo\n",
        "video = YouTubeVideo(id=\"xwvSBd-m6NA\", width=854, height=480, fs=1)\n",
        "print(\"Video available at https://youtube.com/watch?v=\" + video.id)\n",
        "video"
      ],
      "metadata": {
        "id": "X2r0mY22Moy4",
        "cellView": "form",
        "outputId": "abb66b9f-d85b-4c82-96be-2414a6ebd04f",
        "colab": {
          "base_uri": "https://localhost:8080/",
          "height": 539
        }
      },
      "execution_count": null,
      "outputs": [
        {
          "output_type": "stream",
          "name": "stdout",
          "text": [
            "Video available at https://youtube.com/watch?v=xwvSBd-m6NA\n"
          ]
        },
        {
          "output_type": "execute_result",
          "data": {
            "text/html": [
              "\n",
              "        <iframe\n",
              "            width=\"854\"\n",
              "            height=\"480\"\n",
              "            src=\"https://www.youtube.com/embed/xwvSBd-m6NA?fs=1\"\n",
              "            frameborder=\"0\"\n",
              "            allowfullscreen\n",
              "        ></iframe>\n",
              "        "
            ],
            "text/plain": [
              "<IPython.lib.display.YouTubeVideo at 0x7f9821a88f50>"
            ],
            "image/jpeg": "[encoded data removed]"
          },
          "metadata": {},
          "execution_count": 1
        }
      ]
    },
    {
      "cell_type": "markdown",
      "source": [
        "## Slides"
      ],
      "metadata": {
        "id": "1PZxNdFysiRu"
      }
    },
    {
      "cell_type": "code",
      "source": [
        "# @markdown\n",
        "from IPython.display import IFrame\n",
        "IFrame(src=f\"https://mfr.osf.io/render?url=https://osf.io/fjmva/?direct%26mode=render%26action=download%26mode=render\", width=854, height=480)"
      ],
      "metadata": {
        "cellView": "form",
        "id": "R4BJ0BGhsn50",
        "outputId": "67c07c5f-cd25-44ed-aa8c-ab73721a0e63",
        "colab": {
          "base_uri": "https://localhost:8080/",
          "height": 501
        }
      },
      "execution_count": 1,
      "outputs": [
        {
          "output_type": "execute_result",
          "data": {
            "text/html": [
              "\n",
              "        <iframe\n",
              "            width=\"854\"\n",
              "            height=\"480\"\n",
              "            src=\"https://mfr.osf.io/render?url=https://osf.io/fjmva/?direct%26mode=render%26action=download%26mode=render\"\n",
              "            frameborder=\"0\"\n",
              "            allowfullscreen\n",
              "        ></iframe>\n",
              "        "
            ],
            "text/plain": [
              "<IPython.lib.display.IFrame at 0x7f5d4803c750>"
            ]
          },
          "metadata": {},
          "execution_count": 1
        }
      ]
    },
    {
      "cell_type": "markdown",
      "source": [
        "## Notes"
      ],
      "metadata": {
        "id": "o8w7K1jZsmys"
      }
    },
    {
      "cell_type": "code",
      "source": [
        "import numpy as np\n",
        "x = np.array([[4, 2, 1, 3], [1, 0, 3, 5], [6, 7, 8, 2]])"
      ],
      "metadata": {
        "id": "CLxrSzv2-Otk"
      },
      "execution_count": null,
      "outputs": []
    },
    {
      "cell_type": "markdown",
      "source": [
        "Indexing single entries:\n",
        "\n",
        "`x[row index, column index]`\n",
        "\n",
        "Indexing a whole row:\n",
        "\n",
        "`x[row index, :]`\n",
        "\n",
        "Indexing a whole column:\n",
        "\n",
        "`x[:, column index]`\n",
        "\n",
        "Indexing some columns of one row:\n",
        "\n",
        "`[row index, start index:stop index]`\n",
        "\n",
        "Not inclusive of stop index"
      ],
      "metadata": {
        "id": "Q7n2YuT0-HDZ"
      }
    }
  ]
}