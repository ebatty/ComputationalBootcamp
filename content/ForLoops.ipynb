{
  "nbformat": 4,
  "nbformat_minor": 0,
  "metadata": {
    "colab": {
      "name": "ForLoops.ipynb",
      "provenance": [],
      "collapsed_sections": [],
      "authorship_tag": "ABX9TyN0jjUnjTL2HEQSLlTk7mWF",
      "include_colab_link": true
    },
    "kernelspec": {
      "name": "python3",
      "display_name": "Python 3"
    },
    "language_info": {
      "name": "python"
    }
  },
  "cells": [
    {
      "cell_type": "markdown",
      "metadata": {
        "id": "view-in-github",
        "colab_type": "text"
      },
      "source": [
        "<a href=\"https://colab.research.google.com/github/QMBC-Python/QMBC-Python.github.io/blob/main/content/ForLoops.ipynb\" target=\"_parent\"><img src=\"https://colab.research.google.com/assets/colab-badge.svg\" alt=\"Open In Colab\"/></a>"
      ]
    },
    {
      "cell_type": "markdown",
      "source": [
        "# 2.2 - For Loops\n"
      ],
      "metadata": {
        "id": "c1GP0wHh2kYa"
      }
    },
    {
      "cell_type": "markdown",
      "source": [
        "## Video"
      ],
      "metadata": {
        "id": "ZGNeLH2XRSfy"
      }
    },
    {
      "cell_type": "code",
      "source": [
        "#@markdown Video: For loops\n",
        "from IPython.display import YouTubeVideo\n",
        "video = YouTubeVideo(id=\"DJ3CmoerNWE\", width=854, height=480, fs=1)\n",
        "print(\"Video available at https://youtube.com/watch?v=\" + video.id)\n",
        "video"
      ],
      "metadata": {
        "colab": {
          "base_uri": "https://localhost:8080/",
          "height": 539
        },
        "cellView": "form",
        "id": "DCi0tqzMLP_4",
        "outputId": "4202b161-08ac-40de-e938-a3090f699dca"
      },
      "execution_count": null,
      "outputs": [
        {
          "output_type": "stream",
          "name": "stdout",
          "text": [
            "Video available at https://youtube.com/watch?v=DJ3CmoerNWE\n"
          ]
        },
        {
          "output_type": "execute_result",
          "data": {
            "text/html": [
              "\n",
              "        <iframe\n",
              "            width=\"854\"\n",
              "            height=\"480\"\n",
              "            src=\"https://www.youtube.com/embed/DJ3CmoerNWE?fs=1\"\n",
              "            frameborder=\"0\"\n",
              "            allowfullscreen\n",
              "        ></iframe>\n",
              "        "
            ],
            "text/plain": [
              "<IPython.lib.display.YouTubeVideo at 0x7f25d8f4a9d0>"
            ]
          },
          "metadata": {},
          "execution_count": 1
        }
      ]
    },
    {
      "cell_type": "markdown",
      "source": [
        "## Slides"
      ],
      "metadata": {
        "id": "2VSimx9SRU3r"
      }
    },
    {
      "cell_type": "code",
      "source": [
        "# @markdown\n",
        "from IPython.display import IFrame\n",
        "IFrame(src=f\"https://mfr.osf.io/render?url=https://osf.io/2z9ra/?direct%26mode=render%26action=download%26mode=render\", width=854, height=480)"
      ],
      "metadata": {
        "cellView": "form",
        "id": "2H_eFMCtRV9C",
        "outputId": "4ee47af0-987a-4d3f-f33b-d979e505b521",
        "colab": {
          "base_uri": "https://localhost:8080/",
          "height": 501
        }
      },
      "execution_count": 1,
      "outputs": [
        {
          "output_type": "execute_result",
          "data": {
            "text/html": [
              "\n",
              "        <iframe\n",
              "            width=\"854\"\n",
              "            height=\"480\"\n",
              "            src=\"https://mfr.osf.io/render?url=https://osf.io/2z9ra/?direct%26mode=render%26action=download%26mode=render\"\n",
              "            frameborder=\"0\"\n",
              "            allowfullscreen\n",
              "        ></iframe>\n",
              "        "
            ],
            "text/plain": [
              "<IPython.lib.display.IFrame at 0x7fb319e03cd0>"
            ]
          },
          "metadata": {},
          "execution_count": 1
        }
      ]
    },
    {
      "cell_type": "markdown",
      "source": [
        "## Notes"
      ],
      "metadata": {
        "id": "WRvZSE3hRTxz"
      }
    },
    {
      "cell_type": "code",
      "source": [
        "import numpy as np"
      ],
      "metadata": {
        "id": "ghWkN27rZm81"
      },
      "execution_count": null,
      "outputs": []
    },
    {
      "cell_type": "code",
      "source": [
        "all_x = np.array([13, 15, 16])\n",
        "\n",
        "for i in [0, 1, 2]:\n",
        "  print(all_x[i])"
      ],
      "metadata": {
        "colab": {
          "base_uri": "https://localhost:8080/"
        },
        "id": "5JWpT3dkhsE5",
        "outputId": "2eb6a6e9-d5e1-4163-df1d-6076edcbf4b8"
      },
      "execution_count": null,
      "outputs": [
        {
          "output_type": "stream",
          "name": "stdout",
          "text": [
            "13\n",
            "15\n",
            "16\n"
          ]
        }
      ]
    },
    {
      "cell_type": "code",
      "source": [
        "for x in all_x:\n",
        "  print(x)"
      ],
      "metadata": {
        "colab": {
          "base_uri": "https://localhost:8080/"
        },
        "id": "C64NHeouhvsY",
        "outputId": "dd533eaa-a446-4ccd-d8fb-8aba82c0cf61"
      },
      "execution_count": null,
      "outputs": [
        {
          "output_type": "stream",
          "name": "stdout",
          "text": [
            "13\n",
            "15\n",
            "16\n"
          ]
        }
      ]
    },
    {
      "cell_type": "code",
      "source": [
        "for (i, x) in enumerate(all_x):\n",
        "  print(i)\n",
        "  print(x)"
      ],
      "metadata": {
        "colab": {
          "base_uri": "https://localhost:8080/"
        },
        "id": "4rq6lXA4hx3Y",
        "outputId": "366717ba-a6dd-4000-b50c-a2817319e98f"
      },
      "execution_count": null,
      "outputs": [
        {
          "output_type": "stream",
          "name": "stdout",
          "text": [
            "0\n",
            "13\n",
            "1\n",
            "15\n",
            "2\n",
            "16\n"
          ]
        }
      ]
    },
    {
      "cell_type": "code",
      "source": [
        "all_x = np.array([13, 15, 16, 20, 21, 25])\n",
        "for i in np.arange(0, 6):\n",
        "  print(all_x[i])"
      ],
      "metadata": {
        "colab": {
          "base_uri": "https://localhost:8080/"
        },
        "id": "PXqp9qiuh0Z4",
        "outputId": "0e6f423c-5f65-49d2-92c6-0fbf1969e150"
      },
      "execution_count": null,
      "outputs": [
        {
          "output_type": "stream",
          "name": "stdout",
          "text": [
            "13\n",
            "15\n",
            "16\n",
            "20\n",
            "21\n",
            "25\n"
          ]
        }
      ]
    },
    {
      "cell_type": "code",
      "source": [
        "for i in range(0, 6, 2):\n",
        "  print(i)"
      ],
      "metadata": {
        "colab": {
          "base_uri": "https://localhost:8080/"
        },
        "id": "BUzBDh1qh9Eq",
        "outputId": "4b5e8596-b515-4e8e-c499-97b4236a21ab"
      },
      "execution_count": null,
      "outputs": [
        {
          "output_type": "stream",
          "name": "stdout",
          "text": [
            "0\n",
            "2\n",
            "4\n"
          ]
        }
      ]
    }
  ]
}