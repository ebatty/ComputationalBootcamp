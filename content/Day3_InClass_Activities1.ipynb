{
  "nbformat": 4,
  "nbformat_minor": 0,
  "metadata": {
    "colab": {
      "name": "Day3_InClass_Activities1.ipynb",
      "provenance": [],
      "collapsed_sections": [],
      "authorship_tag": "ABX9TyOBkd9Yl22iMcocSyfxdv3B",
      "include_colab_link": true
    },
    "kernelspec": {
      "name": "python3",
      "display_name": "Python 3"
    },
    "language_info": {
      "name": "python"
    }
  },
  "cells": [
    {
      "cell_type": "markdown",
      "metadata": {
        "id": "view-in-github",
        "colab_type": "text"
      },
      "source": [
        "<a href=\"https://colab.research.google.com/github/QMBC-Python/QMBC-Python.github.io/blob/main/content/Day3_InClass_Activities1.ipynb\" target=\"_parent\"><img src=\"https://colab.research.google.com/assets/colab-badge.svg\" alt=\"Open In Colab\"/></a>"
      ]
    },
    {
      "cell_type": "code",
      "execution_count": null,
      "metadata": {
        "id": "GeQGbd6gOqO9"
      },
      "outputs": [],
      "source": [
        "import numpy as np\n",
        "import matplotlib.pyplot as plt"
      ]
    },
    {
      "cell_type": "markdown",
      "source": [
        "## Functions (self-paced)"
      ],
      "metadata": {
        "id": "XM-1ti_yOvHZ"
      }
    },
    {
      "cell_type": "markdown",
      "source": [
        "1... We will write a function that takes in an array, finds the second largest value of the array, and returns it. First, brainstorm with your group and write out pseudocode. \n",
        "\n",
        "Copy and paste here."
      ],
      "metadata": {
        "id": "2yMYKTdDOyuo"
      }
    },
    {
      "cell_type": "markdown",
      "source": [
        "2... Write the function that takes in an array, finds the second largest value of the array, and returns it. "
      ],
      "metadata": {
        "id": "BKAaf_c5H4Cy"
      }
    },
    {
      "cell_type": "markdown",
      "source": [
        "3... Write a function that takes in an array and the number `n` and returns the value of the nth largest and nth smallest value of the array. First, write out the pseudocode with your group, then write the function. Copy and past the function here.\n"
      ],
      "metadata": {
        "id": "Ni0E1XFqQTXK"
      }
    },
    {
      "cell_type": "markdown",
      "source": [
        "4... Test your previous function from question 3 with arrays of various size, dimensionality, and characteristics and with various values of n. Ensure the function returns the correct values (use assert!). Did all your tests work or were there any problems? If so, what were they?"
      ],
      "metadata": {
        "id": "G-UDVBZIKay4"
      }
    },
    {
      "cell_type": "markdown",
      "source": [
        "5... Modify your last function so that if n is bigger than the number of elements in the array, it doesn't give an error, prints a text warning, and returns the smallest and largest value. "
      ],
      "metadata": {
        "id": "sRputVCPRRrY"
      }
    },
    {
      "cell_type": "markdown",
      "source": [
        "6... Individually, not in groups (you will review each other's functions in the next step): try to come up with a function that will do something that you think is useful. This could be anything (doesn't have to be science). Post your code"
      ],
      "metadata": {
        "id": "JRdco-xpUv-U"
      }
    },
    {
      "cell_type": "markdown",
      "source": [
        "7... Review each of your functions together as a group. Try to give each other comments and suggestions on the code. Is there anything you realized you could improve after code review? If so, what?"
      ],
      "metadata": {
        "id": "jO-8gB88MbUI"
      }
    },
    {
      "cell_type": "markdown",
      "source": [
        "8... (Optional) Now write two functions. The first function should call the second function. Have the two functions together do something you think is useful.\n",
        "\n"
      ],
      "metadata": {
        "id": "Bv5OTipiRD0v"
      }
    },
    {
      "cell_type": "markdown",
      "source": [
        "9... (Optional) Write a function that implements the factorial method.\n",
        "\n",
        "5!=5∗4∗3∗2∗1=120\n",
        "\n",
        "0! = 1\n",
        "\n",
        "Hint: You do not need to use recursion for this challenge, although you may if you know what it is."
      ],
      "metadata": {
        "id": "q_eGLCPzVcjH"
      }
    },
    {
      "cell_type": "markdown",
      "source": [
        "10... (Optional, advanced) Write a function to play rock, paper, scissors with you. In other words, you should input your choice. The function should generate the computer's choice and return who won ('Computer', 'You', or 'Tie').  Outline pseudocode first."
      ],
      "metadata": {
        "id": "jiHc0oYnV4Wq"
      }
    }
  ]
}