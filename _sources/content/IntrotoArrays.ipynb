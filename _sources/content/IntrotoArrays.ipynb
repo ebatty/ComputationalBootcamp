{
 "metadata": {
  "kernelspec": {
   "name": "python3",
   "display_name": "Python 3 (ipykernel)",
   "language": "python"
  },
  "colab": {
   "provenance": [],
   "include_colab_link": true
  }
 },
 "nbformat": 4,
 "nbformat_minor": 0,
 "cells": [
  {
   "cell_type": "markdown",
   "metadata": {
    "id": "view-in-github",
    "colab_type": "text"
   },
   "source": [
    "<a href=\"https://colab.research.google.com/github/ebatty/ComputationalBootcamp/blob/master/content/IntrotoArrays.ipynb\" target=\"_blank\"><img alt=\"Open In Colab\" src=\"https://colab.research.google.com/assets/colab-badge.svg\"/></a>"
   ]
  },
  {
   "cell_type": "markdown",
   "source": [
    "# Intro to Arrays"
   ],
   "metadata": {
    "id": "8Ue0bFoYB3LY"
   }
  },
  {
   "cell_type": "markdown",
   "metadata": {
    "id": "q0TQ71pXBzAJ"
   },
   "source": [
    "# What are libraries?"
   ]
  },
  {
   "cell_type": "markdown",
   "metadata": {
    "id": "q-pkj1_-BzAM"
   },
   "source": [
    "In Python, there is a relatively small amount of core code (what's present in this notebook by default). To get more advanced functionality, we need to import libraries."
   ]
  },
  {
   "cell_type": "markdown",
   "metadata": {
    "id": "cww3MFCdBzAN"
   },
   "source": [
    "![alt text](libraries.png)"
   ]
  },
  {
   "cell_type": "markdown",
   "metadata": {
    "id": "4Rk_si-ABzAN"
   },
   "source": [
    "\n",
    "## Arrays\n",
    "\n",
    "We want to be able to work with more than one data point so we need arrays. \n",
    "\n",
    "To work with arrays, we will use the numpy library, which is a core library for scientific computing\n",
    "\n",
    "NumPy = Numerical Python\n",
    "\n",
    "We import numpy as follows\n"
   ]
  },
  {
   "cell_type": "code",
   "execution_count": null,
   "metadata": {
    "id": "vTXU5PyZBzAO"
   },
   "outputs": [],
   "source": [
    "import numpy as np"
   ]
  },
  {
   "cell_type": "markdown",
   "metadata": {
    "id": "Slx1dGbwBzAP"
   },
   "source": [
    "To create a 1-d array, we can do the following line of code."
   ]
  },
  {
   "cell_type": "code",
   "execution_count": null,
   "metadata": {
    "id": "PW_t5EOXBzAP"
   },
   "outputs": [],
   "source": [
    "x = np.array([5, 1, 2])"
   ]
  },
  {
   "cell_type": "markdown",
   "metadata": {
    "id": "tRquZVPXBzAQ"
   },
   "source": [
    "We can create a 2-d array with the following code"
   ]
  },
  {
   "cell_type": "code",
   "execution_count": null,
   "metadata": {
    "id": "od4GqVqcBzAQ"
   },
   "outputs": [],
   "source": [
    "x = np.array([[3, 2], [1, 4]])"
   ]
  },
  {
   "cell_type": "code",
   "execution_count": null,
   "metadata": {
    "id": "-kG8cTGyBzAQ"
   },
   "outputs": [],
   "source": []
  },
  {
   "cell_type": "code",
   "execution_count": null,
   "metadata": {
    "id": "4bMWaJK0BzAR"
   },
   "outputs": [],
   "source": []
  },
  {
   "cell_type": "code",
   "execution_count": null,
   "metadata": {
    "id": "WT1lkPyoBzAR"
   },
   "outputs": [],
   "source": []
  }
 ]
}