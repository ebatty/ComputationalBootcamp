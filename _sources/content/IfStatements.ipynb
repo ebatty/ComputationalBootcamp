{
 "nbformat": 4,
 "nbformat_minor": 0,
 "metadata": {
  "colab": {
   "name": "IfStatements.ipynb",
   "provenance": [],
   "authorship_tag": "ABX9TyN2wR3qaoqFlTzl2GlSH+As",
   "include_colab_link": true
  },
  "kernelspec": {
   "name": "python3",
   "display_name": "Python 3"
  },
  "language_info": {
   "name": "python"
  }
 },
 "cells": [
  {
   "cell_type": "markdown",
   "metadata": {
    "id": "view-in-github",
    "colab_type": "text"
   },
   "source": [
    "<a href=\"https://colab.research.google.com/github/ebatty/ComputationalBootcamp/blob/master/content/IfStatements.ipynb\" target=\"_blank\"><img alt=\"Open In Colab\" src=\"https://colab.research.google.com/assets/colab-badge.svg\"/></a>"
   ]
  },
  {
   "cell_type": "markdown",
   "source": [
    "# If statements\n"
   ],
   "metadata": {
    "id": "c1GP0wHh2kYa"
   }
  },
  {
   "cell_type": "markdown",
   "source": [
    "## Video"
   ],
   "metadata": {
    "id": "wl-f1oWxQ1Cc"
   }
  },
  {
   "cell_type": "markdown",
   "metadata": {},
   "source": [
    " Video: If statements\n"
   ]
  },
  {
   "cell_type": "code",
   "source": [
    "#@markdown Video: If statements\n",
    "from IPython.display import YouTubeVideo\n",
    "video = YouTubeVideo(id=\"1MYjPiou54A\", width=730, height=410, fs=1)\n",
    "print(\"Video available at https://youtube.com/watch?v=\" + video.id)\n",
    "video"
   ],
   "metadata": {
    "colab": {
     "base_uri": "https://localhost:8080/",
     "height": 519
    },
    "cellView": "form",
    "id": "DCi0tqzMLP_4",
    "outputId": "aabab024-b6f4-4423-800d-23849e95b1c6",
    "tags": [
     "remove-input"
    ]
   },
   "execution_count": 1,
   "outputs": [
    {
     "output_type": "stream",
     "name": "stdout",
     "text": [
      "Video available at https://youtube.com/watch?v=1MYjPiou54A\n"
     ]
    },
    {
     "output_type": "execute_result",
     "data": {
      "text/plain": [
       "<IPython.lib.display.YouTubeVideo at 0x7fc370819310>"
      ],
      "text/html": [
       "\n",
       "        <iframe\n",
       "            width=\"854\"\n",
       "            height=\"480\"\n",
       "            src=\"https://www.youtube.com/embed/1MYjPiou54A?fs=1\"\n",
       "            frameborder=\"0\"\n",
       "            allowfullscreen\n",
       "        ></iframe>\n",
       "        "
      ],
      "image/jpeg": "[encoded data removed]"
     },
     "metadata": {},
     "execution_count": 1
    }
   ]
  },
  {
   "cell_type": "markdown",
   "source": [
    "## Slides"
   ],
   "metadata": {
    "id": "SW4k9Vd8Q2Xr"
   }
  },
  {
   "cell_type": "markdown",
   "metadata": {},
   "source": [
    "\n"
   ]
  },
  {
   "cell_type": "code",
   "source": [
    "# @markdown\n",
    "from IPython.display import IFrame\n",
    "import ipywidgets as widgets\n",
    "out = widgets.Output()\n",
    "with out:\n",
    "    display(IFrame(src=f\"https://mfr.osf.io/render?url=https://osf.io/znr6y/?direct%26mode=render%26action=download%26mode=rende\", width=730, height=410))\n",
    "display(out)"
   ],
   "metadata": {
    "cellView": "form",
    "id": "f43CQKNIQ6dW",
    "outputId": "5661d43c-df12-4f85-aa0c-749930ffa5df",
    "colab": {
     "base_uri": "https://localhost:8080/",
     "height": 501
    },
    "tags": [
     "remove-input"
    ]
   },
   "execution_count": null,
   "outputs": [
    {
     "output_type": "execute_result",
     "data": {
      "text/html": [
       "\n",
       "        <iframe\n",
       "            width=\"854\"\n",
       "            height=\"480\"\n",
       "            src=\"https://mfr.osf.io/render?url=https://osf.io/znr6y/?direct%26mode=render%26action=download%26mode=render\"\n",
       "            frameborder=\"0\"\n",
       "            allowfullscreen\n",
       "        ></iframe>\n",
       "        "
      ],
      "text/plain": [
       "<IPython.lib.display.IFrame at 0x7f6ff9cf1910>"
      ]
     },
     "metadata": {},
     "execution_count": 1
    }
   ]
  },
  {
   "cell_type": "markdown",
   "source": [
    "## Notes"
   ],
   "metadata": {
    "id": "sSRG0RhzQ3hC"
   }
  },
  {
   "cell_type": "markdown",
   "source": [
    "![picture](https://raw.githubusercontent.com/QMBC-Python/QMBC-Python.github.io/main/images/IfStatement.jpg)"
   ],
   "metadata": {
    "id": "YPcYM2w3ZXfL"
   }
  },
  {
   "cell_type": "code",
   "source": [
    "t = 65\n",
    "\n",
    "if t < 40:\n",
    "  print('put on jacket')\n",
    "\n",
    "elif t >= 40 and t < 60:\n",
    "  print('put on sweater')\n",
    "\n",
    "else:\n",
    "  print('put on sunglasses')\n",
    "\n",
    "print('go outside')"
   ],
   "metadata": {
    "colab": {
     "base_uri": "https://localhost:8080/"
    },
    "id": "ymOVPLv_Y6p_",
    "outputId": "57854d3e-27ef-4818-fba3-aefcaecbf916"
   },
   "execution_count": null,
   "outputs": [
    {
     "output_type": "stream",
     "name": "stdout",
     "text": [
      "put on sunglasses\n",
      "go outside\n"
     ]
    }
   ]
  }
 ]
}