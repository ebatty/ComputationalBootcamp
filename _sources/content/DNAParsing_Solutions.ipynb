{
 "nbformat": 4,
 "nbformat_minor": 0,
 "metadata": {
  "colab": {
   "provenance": [],
   "collapsed_sections": [],
   "authorship_tag": "ABX9TyOTGPs1fSJLj+qkGV6q5uL2",
   "include_colab_link": true
  },
  "kernelspec": {
   "name": "python3",
   "display_name": "Python 3"
  },
  "language_info": {
   "name": "python"
  }
 },
 "cells": [
  {
   "cell_type": "markdown",
   "metadata": {
    "id": "view-in-github",
    "colab_type": "text"
   },
   "source": [
    "<a href=\"https://colab.research.google.com/github/ebatty/ComputationalBootcamp/blob/master/content/DNAParsing_Solutions.ipynb\" target=\"_blank\"><img alt=\"Open In Colab\" src=\"https://colab.research.google.com/assets/colab-badge.svg\"/></a>"
   ]
  },
  {
   "cell_type": "markdown",
   "source": [
    "## DNA Parsing "
   ],
   "metadata": {
    "id": "WbVGOc1gpjPe"
   }
  },
  {
   "cell_type": "code",
   "execution_count": null,
   "metadata": {
    "id": "GeQGbd6gOqO9"
   },
   "outputs": [],
   "source": [
    "import numpy as np\n",
    "import matplotlib.pyplot as plt"
   ]
  },
  {
   "cell_type": "markdown",
   "source": [
    "We will be parsing a real DNA sequence to translate it into the corresponding protein sequence.\n",
    "\n",
    "DNA consists of a sequence of nucleotides (A, G, T, or C).  In the genetic code, each group of three consecutive nucleotides form a codon that translates to a single amino acid. There are a small number of common amino acids - we can use a look-up table to pair each codon with the respective amino acid. We also have stop codons that signify that the DNA should stop being translated there.\n",
    "\n",
    "In this way, we can work through a DNA sequence, taking each group of three nucleotides (the first three, then the next three, and so on) and translating them to the corresponding amino acid. The resulting sequence of amino acids constitutes the protein that the DNA sequence codes. \n",
    "\n",
    "We are getting our data from a public repository of DNA sequences from NCBI.  We will be looking at a DNA sequence from a Golden Retriever. The data can be found here.\n",
    "\n",
    "\n",
    "The cell below assigns the data to variables. You do not need to do anything.\n",
    "\n",
    "`dna_sequence` contains the DNA sequence.\n",
    "\n",
    "`dna_codons` stores the pairings from triplets/codons to amino acids in a dictionary. The triplets are the keys and the amino acids are the values.\n",
    "\n",
    "`true_translation` contains the translated protein (from the NCBI website, under CDS/translation)"
   ],
   "metadata": {
    "id": "sRKkPsyUqJzw"
   }
  },
  {
   "cell_type": "code",
   "source": [
    "dna_sequence = 'ATGAGCGAGTCGAGCTCGAAGTCCAGCCAGCCTTTGGCCTCCAAGCAGGAAAAGGACGGCACTGAGAAGCGAGGGCGGGGCCGGCCGCGCAAGCAGCCTCCGAAGGAACCCAGTGAAGTGCCAACACCTAAGAGACCTCGGGGCCGACCAAAGGGGAGCAAAAACAAGGGTGCTGCCAAGACCCGGAAAACTACCACAACTCCAGGGAGGAAACCGAGGGGCAGACCCAAAAAACTGGAGAAGGAGGAAGAAGAGGGCATCTCGCAGGAGTCCTCCGAAGAGGAGCAGTGA'\n",
    "\n",
    "dna_codons = {'TTT' : 'F', 'CTT' : 'L', 'ATT' : 'I', 'GTT' : 'V',\n",
    "           'TTC' : 'F', 'CTC' : 'L', 'ATC' : 'I', 'GTC' : 'V',\n",
    "           'TTA' : 'L', 'CTA' : 'L', 'ATA' : 'I', 'GTA' : 'V',\n",
    "           'TTG' : 'L', 'CTG' : 'L', 'ATG' : 'M', 'GTG' : 'V',\n",
    "           'TCT' : 'S', 'CCT' : 'P', 'ACT' : 'T', 'GCT' : 'A',\n",
    "           'TCC' : 'S', 'CCC' : 'P', 'ACC' : 'T', 'GCC' : 'A',\n",
    "           'TCA' : 'S', 'CCA' : 'P', 'ACA' : 'T', 'GCA' : 'A',\n",
    "           'TCG' : 'S', 'CCG' : 'P', 'ACG' : 'T', 'GCG' : 'A',\n",
    "           'TAT' : 'Y', 'CAT' : 'H', 'AAT' : 'N', 'GAT' : 'D',\n",
    "           'TAC' : 'Y', 'CAC' : 'H', 'AAC' : 'N', 'GAC' : 'D',\n",
    "           'TAA' : 'STOP', 'CAA' : 'Q', 'AAA' : 'K', 'GAA' : 'E',\n",
    "           'TAG' : 'STOP', 'CAG' : 'Q', 'AAG' : 'K', 'GAG' : 'E',\n",
    "           'TGT' : 'C', 'CGT' : 'R', 'AGT' : 'S', 'GGT' : 'G',\n",
    "           'TGC' : 'C', 'CGC' : 'R', 'AGC' : 'S', 'GGC' : 'G',\n",
    "           'TGA' : 'STOP', 'CGA' : 'R', 'AGA' : 'R', 'GGA' : 'G',\n",
    "           'TGG' : 'W', 'CGG' : 'R', 'AGG' : 'R', 'GGG' : 'G' \n",
    "           }\n",
    "\n",
    "true_translation = 'MSESSSKSSQPLASKQEKDGTEKRGRGRPRKQPPKEPSEVPTPK\\\n",
    "RPRGRPKGSKNKGAAKTRKTTTTPGRKPRGRPKKLEKEEEEGISQESSEEEQ'"
   ],
   "metadata": {
    "id": "rduPr7Erp-Qw"
   },
   "execution_count": null,
   "outputs": []
  },
  {
   "cell_type": "code",
   "source": [],
   "metadata": {
    "id": "48JnhRswrS0f"
   },
   "execution_count": null,
   "outputs": []
  },
  {
   "cell_type": "markdown",
   "metadata": {},
   "source": [
    " Click here to see hints\n"
   ]
  },
  {
   "cell_type": "markdown",
   "source": [
    "1) Translation\n",
    "\n",
    "For each consecutive triplet, we want to find the corresponding amino acid and add it to our amino acid sequence. \n",
    "\n",
    "Let's go through an example. Let's say the DNA sequence is:\n",
    "CCCCATAGTGGGAGC. We would separate this into triplets: CCC CAT AGT GGG AGC. We would then use the look up dictionary to convert this to amino acids: P H S G S. We can store the protein as a string: 'PHSGR'.\n"
   ],
   "metadata": {
    "id": "ltkYGsa2qlHr",
    "tags": [
     "hide-input"
    ]
   }
  },
  {
   "cell_type": "code",
   "source": [
    "# @markdown Click here to see hints\n",
    "\n",
    "\"\"\"\n",
    "\n",
    "Stuck? Break it up into little steps.\n",
    "\n",
    "1) How can you index into coding_sequence to get 3 consecutive nucleotides?\n",
    "\n",
    "2) How do we get the amino acid that corresponds to that triplet?\n",
    "\n",
    "3) How can you loop through those indices so on each loop, you get a new triplet?\n",
    "\n",
    "4) How do we continually add those amino acids to a string? (Hints: initialize an empty string with '', remember string concatenation)\n",
    "\n",
    "\"\"\";\n"
   ],
   "metadata": {
    "id": "zk5tA4LJrTpP",
    "cellView": "form"
   },
   "execution_count": null,
   "outputs": []
  },
  {
   "cell_type": "code",
   "source": [
    "# your code here\n",
    "protein = ''\n",
    "\n",
    "# Loop over codons\n",
    "for ind in range(0, len(dna_sequence), 3):\n",
    "\n",
    "  # Extract codon\n",
    "  triplet = dna_sequence[ind : ind + 3]\n",
    "\n",
    "  # Extract amino acid\n",
    "  amino_acid = dna_codons[triplet]\n",
    "  \n",
    "  # Add to protein sequence\n",
    "  protein += amino_acid\n",
    "  \n",
    "print(protein)"
   ],
   "metadata": {
    "id": "69jtdjGYnqQr",
    "colab": {
     "base_uri": "https://localhost:8080/"
    },
    "outputId": "9f3b8551-6493-4d9f-820e-1318afa93160"
   },
   "execution_count": null,
   "outputs": [
    {
     "output_type": "stream",
     "name": "stdout",
     "text": [
      "MSESSSKSSQPLASKQEKDGTEKRGRGRPRKQPPKEPSEVPTPKRPRGRPKGSKNKGAAKTRKTTTTPGRKPRGRPKKLEKEEEEGISQESSEEEQSTOP\n"
     ]
    }
   ]
  },
  {
   "cell_type": "markdown",
   "source": [
    "2) When we hit a stop codon (the amino acid is 'STOP'), we want to stop translating. Add this to the code above. Enter this part of the code in LC\n",
    "\n",
    "If our sequence in the example above had been CCCCATAGTGGGAGCTAG, we would get'PHSGRSTOP' since TAG is a stop codon. We do not want to include the 'STOP' "
   ],
   "metadata": {
    "id": "IlQA-ZKDqrsC"
   }
  },
  {
   "cell_type": "code",
   "source": [
    "# your code here\n",
    "protein = ''\n",
    "\n",
    "# Loop over codons\n",
    "for ind in range(0, len(dna_sequence), 3):\n",
    "\n",
    "  # Extract codon\n",
    "  triplet = dna_sequence[ind : ind + 3]\n",
    "\n",
    "  # Extract amino acid\n",
    "  amino_acid = dna_codons[triplet]\n",
    "\n",
    "  # Check if stop codon\n",
    "  if amino_acid == 'STOP':\n",
    "    break\n",
    "\n",
    "  # Add to protein sequence\n",
    "  protein += amino_acid\n",
    "  \n",
    "print(protein)"
   ],
   "metadata": {
    "id": "wzuVX3gDnnsK",
    "colab": {
     "base_uri": "https://localhost:8080/"
    },
    "outputId": "9d7689fc-4c25-411a-fe74-eace8a11de58"
   },
   "execution_count": null,
   "outputs": [
    {
     "output_type": "stream",
     "name": "stdout",
     "text": [
      "MSESSSKSSQPLASKQEKDGTEKRGRGRPRKQPPKEPSEVPTPKRPRGRPKGSKNKGAAKTRKTTTTPGRKPRGRPKKLEKEEEEGISQESSEEEQ\n"
     ]
    }
   ]
  },
  {
   "cell_type": "markdown",
   "source": [
    "3) Verify success\n",
    "\n",
    "Compare the translated protein from your code to the true translation (stored as `true_translation`). Return True if they match (they should).\n"
   ],
   "metadata": {
    "id": "qQaaPSJ2qtWT"
   }
  },
  {
   "cell_type": "code",
   "source": [
    "protein == true_translation"
   ],
   "metadata": {
    "id": "tMXDk_UCnmRE",
    "colab": {
     "base_uri": "https://localhost:8080/"
    },
    "outputId": "9e954433-15a3-45e9-a4b7-e75d2e99227d"
   },
   "execution_count": null,
   "outputs": [
    {
     "output_type": "execute_result",
     "data": {
      "text/plain": [
       "True"
      ]
     },
     "metadata": {},
     "execution_count": 8
    }
   ]
  },
  {
   "cell_type": "code",
   "source": [],
   "metadata": {
    "id": "BmpBXMyhn8qP"
   },
   "execution_count": null,
   "outputs": []
  }
 ]
}