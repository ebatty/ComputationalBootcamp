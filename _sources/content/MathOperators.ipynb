{
 "metadata": {
  "kernelspec": {
   "name": "python3",
   "display_name": "Python 3 (ipykernel)",
   "language": "python"
  },
  "colab": {
   "provenance": [],
   "include_colab_link": true
  }
 },
 "nbformat": 4,
 "nbformat_minor": 0,
 "cells": [
  {
   "cell_type": "markdown",
   "metadata": {
    "id": "view-in-github",
    "colab_type": "text"
   },
   "source": [
    "<a href=\"https://colab.research.google.com/github/ebatty/ComputationalBootcamp/blob/master/content/MathOperators.ipynb\" target=\"_blank\"><img alt=\"Open In Colab\" src=\"https://colab.research.google.com/assets/colab-badge.svg\"/></a>"
   ]
  },
  {
   "cell_type": "markdown",
   "metadata": {
    "id": "7X_nk2pbAohD"
   },
   "source": [
    "# Math Operators\n"
   ]
  },
  {
   "cell_type": "markdown",
   "metadata": {},
   "source": [
    " Video: Math Operators\n"
   ]
  },
  {
   "cell_type": "code",
   "source": [
    "#@markdown Video: Math Operators\n",
    "from IPython.display import YouTubeVideo\n",
    "video = YouTubeVideo(id=\"Dv96O72prMA\", width=730, height=410, fs=1)\n",
    "print(\"Video available at https://youtube.com/watch?v=\" + video.id)\n",
    "video"
   ],
   "metadata": {
    "cellView": "form",
    "colab": {
     "base_uri": "https://localhost:8080/",
     "height": 519
    },
    "id": "yu-U0cqXAyys",
    "outputId": "1be33f8f-5603-4657-dd38-01d544c265a9",
    "tags": [
     "remove-input"
    ]
   },
   "execution_count": 1,
   "outputs": [
    {
     "output_type": "stream",
     "name": "stdout",
     "text": [
      "Video available at https://youtube.com/watch?v=Dv96O72prMA\n"
     ]
    },
    {
     "output_type": "execute_result",
     "data": {
      "text/plain": [
       "<IPython.lib.display.YouTubeVideo at 0x7f058b74e610>"
      ],
      "text/html": [
       "\n",
       "        <iframe\n",
       "            width=\"854\"\n",
       "            height=\"480\"\n",
       "            src=\"https://www.youtube.com/embed/Dv96O72prMA?fs=1\"\n",
       "            frameborder=\"0\"\n",
       "            allowfullscreen\n",
       "        ></iframe>\n",
       "        "
      ],
      "image/jpeg": "[encoded data removed]"
     },
     "metadata": {},
     "execution_count": 1
    }
   ]
  },
  {
   "cell_type": "markdown",
   "metadata": {
    "id": "MJAlAm4fAohH"
   },
   "source": [
    "## Types of math operators"
   ]
  },
  {
   "cell_type": "markdown",
   "metadata": {
    "id": "g9yVmx72AohH"
   },
   "source": [
    "| Symbol      | Description |\n",
    "| ----------- | ----------- |\n",
    "| +    | Addition      |\n",
    "| -   | Subtraction       |\n",
    "| *    | Multiplication      |\n",
    "| /   | Division       |\n",
    "| //    | Integer division      |\n",
    "| %   | Modulus operator      |\n"
   ]
  },
  {
   "cell_type": "code",
   "execution_count": null,
   "metadata": {
    "id": "jHRQ_GCQAohI"
   },
   "outputs": [],
   "source": [
    "5 + 2"
   ]
  },
  {
   "cell_type": "code",
   "execution_count": null,
   "metadata": {
    "id": "zkHcukdFAohJ",
    "outputId": "e8334735-3ed3-4585-d242-f431dcfad3cf"
   },
   "outputs": [
    {
     "data": {
      "text/plain": "3"
     },
     "execution_count": 2,
     "metadata": {},
     "output_type": "execute_result"
    }
   ],
   "source": [
    "5 - 2"
   ]
  },
  {
   "cell_type": "code",
   "execution_count": null,
   "metadata": {
    "id": "IfaEEY55AohK",
    "outputId": "90037f21-1dc7-48f4-e2a3-925c9cdb37fd"
   },
   "outputs": [
    {
     "data": {
      "text/plain": "15"
     },
     "execution_count": 3,
     "metadata": {},
     "output_type": "execute_result"
    }
   ],
   "source": [
    "5 * 3"
   ]
  },
  {
   "cell_type": "code",
   "execution_count": null,
   "metadata": {
    "id": "LAcWlpvHAohL",
    "outputId": "2b203130-bd2d-40ba-9d96-765ce92ee8ba"
   },
   "outputs": [
    {
     "data": {
      "text/plain": "1.6666666666666667"
     },
     "execution_count": 4,
     "metadata": {},
     "output_type": "execute_result"
    }
   ],
   "source": [
    "5 / 3"
   ]
  },
  {
   "cell_type": "code",
   "execution_count": null,
   "metadata": {
    "id": "tb7SUwymAohL",
    "outputId": "d646f680-bd5a-4aff-9765-00535fd2ea9c"
   },
   "outputs": [
    {
     "data": {
      "text/plain": "125"
     },
     "execution_count": 6,
     "metadata": {},
     "output_type": "execute_result"
    }
   ],
   "source": [
    "5 ** 3"
   ]
  },
  {
   "cell_type": "markdown",
   "metadata": {
    "id": "RowsWNvYAohM"
   },
   "source": [
    "Can use variables too!"
   ]
  },
  {
   "cell_type": "code",
   "execution_count": null,
   "metadata": {
    "id": "nUAnQMVjAohM",
    "outputId": "28d83e7d-53ab-449b-e8fc-973f777465a7"
   },
   "outputs": [
    {
     "data": {
      "text/plain": "15"
     },
     "execution_count": 5,
     "metadata": {},
     "output_type": "execute_result"
    }
   ],
   "source": [
    "x = 5\n",
    "y = 3\n",
    "x*y"
   ]
  },
  {
   "cell_type": "markdown",
   "metadata": {
    "id": "8fTnISl6AohN"
   },
   "source": [
    "## Order of operations\n",
    "\n",
    "Instead of doing math operations in a left to right order, there is an order of priority: \n",
    "\n",
    "1. Parentheses first\n",
    "\n",
    "2. Exponents\n",
    "\n",
    "3. Multiplication/division\n",
    "\n",
    "4. Addition/subtraction\n",
    "\n",
    "This can be remembered with PEMDAS\n"
   ]
  },
  {
   "cell_type": "code",
   "execution_count": null,
   "metadata": {
    "id": "7Zj5LwbnAohO",
    "outputId": "4f45832c-8fb7-4cf1-f340-26fbbf110cef"
   },
   "outputs": [
    {
     "data": {
      "text/plain": "7"
     },
     "execution_count": 7,
     "metadata": {},
     "output_type": "execute_result"
    }
   ],
   "source": [
    "1 + 2 * 3"
   ]
  },
  {
   "cell_type": "code",
   "execution_count": null,
   "metadata": {
    "id": "0ahvgKa-AohO",
    "outputId": "025064c2-44e7-4ed6-cc44-d07da0841282"
   },
   "outputs": [
    {
     "data": {
      "text/plain": "9"
     },
     "execution_count": 8,
     "metadata": {},
     "output_type": "execute_result"
    }
   ],
   "source": [
    "(1 + 2) * 3"
   ]
  },
  {
   "cell_type": "code",
   "execution_count": null,
   "metadata": {
    "id": "-AJhqYsuAohP",
    "outputId": "b152c691-73ae-403c-abbb-801400c1fca7"
   },
   "outputs": [
    {
     "data": {
      "text/plain": "7"
     },
     "execution_count": 9,
     "metadata": {},
     "output_type": "execute_result"
    }
   ],
   "source": [
    "1 + (2 * 3)"
   ]
  },
  {
   "cell_type": "code",
   "execution_count": null,
   "metadata": {
    "id": "7yecf5EjAohP"
   },
   "outputs": [],
   "source": []
  }
 ]
}