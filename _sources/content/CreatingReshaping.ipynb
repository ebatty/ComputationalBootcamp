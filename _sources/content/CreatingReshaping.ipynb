{
 "metadata": {
  "kernelspec": {
   "name": "python3",
   "display_name": "Python 3 (ipykernel)",
   "language": "python"
  },
  "colab": {
   "provenance": [],
   "include_colab_link": true
  }
 },
 "nbformat": 4,
 "nbformat_minor": 0,
 "cells": [
  {
   "cell_type": "markdown",
   "metadata": {
    "id": "view-in-github",
    "colab_type": "text"
   },
   "source": [
    "<a href=\"https://colab.research.google.com/github/ebatty/ComputationalBootcamp/blob/master/content/CreatingReshaping.ipynb\" target=\"_blank\"><img alt=\"Open In Colab\" src=\"https://colab.research.google.com/assets/colab-badge.svg\"/></a>"
   ]
  },
  {
   "cell_type": "markdown",
   "metadata": {
    "id": "1tf-l-O5Sn1L"
   },
   "source": [
    "# Creating & Reshaping Arrays"
   ]
  },
  {
   "cell_type": "code",
   "execution_count": 3,
   "metadata": {
    "id": "uU0OLJGCSn1O"
   },
   "outputs": [],
   "source": [
    "import numpy as np"
   ]
  },
  {
   "cell_type": "markdown",
   "metadata": {
    "id": "2LDqPZa0Sn1P"
   },
   "source": [
    "## Creating Arrays\n",
    "\n",
    "There are many ways to intialize arrays. Let's start with the basics"
   ]
  },
  {
   "cell_type": "markdown",
   "metadata": {
    "id": "0NGvGIoHSn1Q"
   },
   "source": [
    "1) Initialize with numbers in closed brackets (python lists)"
   ]
  },
  {
   "cell_type": "code",
   "execution_count": null,
   "metadata": {
    "id": "vij9hkfySn1Q",
    "outputId": "0fbe30c2-6b51-4615-a86d-0feb1bee5e19"
   },
   "outputs": [
    {
     "data": {
      "text/plain": "array([4, 6, 1])"
     },
     "execution_count": 2,
     "metadata": {},
     "output_type": "execute_result"
    }
   ],
   "source": [
    "x = np.array([4, 6, 1])\n",
    "\n",
    "x"
   ]
  },
  {
   "cell_type": "code",
   "execution_count": null,
   "metadata": {
    "id": "V7bE-zNQSn1R",
    "outputId": "9856aad6-f98b-4474-88c1-15bc0316d486"
   },
   "outputs": [
    {
     "name": "stdout",
     "output_type": "stream",
     "text": "[[4 6 1]\n [3 4 5]]\n(2, 3)\n"
    }
   ],
   "source": [
    "x = np.array([[4, 6, 1], [3, 4, 5]])\n",
    "\n",
    "print(x)\n",
    "print(x.shape)"
   ]
  },
  {
   "cell_type": "markdown",
   "metadata": {
    "id": "2sXY-oHjSn1S"
   },
   "source": [
    "2) Initialize with zeros or ones"
   ]
  },
  {
   "cell_type": "code",
   "execution_count": null,
   "metadata": {
    "id": "5AD3vzACSn1S",
    "outputId": "c5c7a20c-4d0a-4a39-cdc3-abf62dfe87c4"
   },
   "outputs": [
    {
     "data": {
      "text/plain": "array([[0., 0., 0.],\n       [0., 0., 0.]])"
     },
     "execution_count": 5,
     "metadata": {},
     "output_type": "execute_result"
    }
   ],
   "source": [
    "x = np.zeros(shape = (2, 3))\n",
    "x"
   ]
  },
  {
   "cell_type": "code",
   "execution_count": null,
   "metadata": {
    "id": "1307bTzbSn1T",
    "outputId": "eec4f3e4-eaa5-46b1-b52f-77554c190d6c"
   },
   "outputs": [
    {
     "data": {
      "text/plain": "array([[1.],\n       [1.],\n       [1.],\n       [1.],\n       [1.]])"
     },
     "execution_count": 6,
     "metadata": {},
     "output_type": "execute_result"
    }
   ],
   "source": [
    "x = np.ones(shape = (5, 1))\n",
    "x"
   ]
  },
  {
   "cell_type": "markdown",
   "metadata": {
    "id": "4SCvpJ2wSn1U"
   },
   "source": [
    "3. Initialize with evenly spaced numbers"
   ]
  },
  {
   "cell_type": "markdown",
   "metadata": {
    "id": "bSufDKkiSn1U"
   },
   "source": [
    "Given interval and step size:"
   ]
  },
  {
   "cell_type": "code",
   "execution_count": null,
   "metadata": {
    "id": "mp0x0W-5Sn1U",
    "outputId": "779ab651-6c85-4ff3-dcbd-8c87da1edcb5"
   },
   "outputs": [
    {
     "name": "stdout",
     "output_type": "stream",
     "text": "[0 2 4 6 8]\n"
    }
   ],
   "source": [
    "x = np.arange(start = 0, stop = 10, step = 2)\n",
    "\n",
    "print(x)"
   ]
  },
  {
   "cell_type": "markdown",
   "metadata": {
    "id": "teQD4sMySn1V"
   },
   "source": [
    "Given interval and specified number of points:"
   ]
  },
  {
   "cell_type": "code",
   "execution_count": null,
   "metadata": {
    "id": "qNWRUiVJSn1V",
    "outputId": "e8c50296-aa90-4b8d-aa66-bdc6d0fd5646"
   },
   "outputs": [
    {
     "name": "stdout",
     "output_type": "stream",
     "text": "[ 0.          0.20408163  0.40816327  0.6122449   0.81632653  1.02040816\n  1.2244898   1.42857143  1.63265306  1.83673469  2.04081633  2.24489796\n  2.44897959  2.65306122  2.85714286  3.06122449  3.26530612  3.46938776\n  3.67346939  3.87755102  4.08163265  4.28571429  4.48979592  4.69387755\n  4.89795918  5.10204082  5.30612245  5.51020408  5.71428571  5.91836735\n  6.12244898  6.32653061  6.53061224  6.73469388  6.93877551  7.14285714\n  7.34693878  7.55102041  7.75510204  7.95918367  8.16326531  8.36734694\n  8.57142857  8.7755102   8.97959184  9.18367347  9.3877551   9.59183673\n  9.79591837 10.        ]\n"
    }
   ],
   "source": [
    "x = np.linspace(start = 0, stop = 10, num = 50)\n",
    "\n",
    "print(x)"
   ]
  },
  {
   "cell_type": "markdown",
   "metadata": {
    "id": "IG9tGGcISn1V"
   },
   "source": [
    "6) Initialize with randomly drawn numbers\n",
    "\n",
    "We will return to this one later\n",
    "\n",
    "7) Initialize with loaded data\n",
    "\n",
    "We will return to this one later"
   ]
  },
  {
   "cell_type": "markdown",
   "metadata": {
    "id": "QfQrztqESn1W"
   },
   "source": [
    "## Concatenating arrays"
   ]
  },
  {
   "cell_type": "code",
   "execution_count": 4,
   "metadata": {
    "colab": {
     "base_uri": "https://localhost:8080/"
    },
    "id": "_9ZDMd3tSn1W",
    "outputId": "877597c0-fee4-45dd-987e-bad79cc5654a"
   },
   "outputs": [
    {
     "output_type": "stream",
     "name": "stdout",
     "text": [
      "[[3 2]\n",
      " [1 4]]\n"
     ]
    }
   ],
   "source": [
    "x = np.array([[3, 2], [1, 4]])\n",
    "\n",
    "print(x)"
   ]
  },
  {
   "cell_type": "code",
   "execution_count": 5,
   "metadata": {
    "colab": {
     "base_uri": "https://localhost:8080/"
    },
    "id": "wgIB3dmuSn1W",
    "outputId": "0d03769b-10c8-421c-8d25-378df95e4f21"
   },
   "outputs": [
    {
     "output_type": "execute_result",
     "data": {
      "text/plain": [
       "array([[3, 2, 3, 2],\n",
       "       [1, 4, 1, 4]])"
      ]
     },
     "metadata": {},
     "execution_count": 5
    }
   ],
   "source": [
    "y = np.concatenate((x, x), axis = 1)\n",
    "\n",
    "y"
   ]
  },
  {
   "cell_type": "code",
   "execution_count": 6,
   "metadata": {
    "colab": {
     "base_uri": "https://localhost:8080/"
    },
    "id": "1q7f_zTkSn1W",
    "outputId": "edf196ad-6f1f-409d-b09c-4b9fc5d8c00c"
   },
   "outputs": [
    {
     "output_type": "execute_result",
     "data": {
      "text/plain": [
       "array([[3, 2],\n",
       "       [1, 4],\n",
       "       [3, 2],\n",
       "       [1, 4]])"
      ]
     },
     "metadata": {},
     "execution_count": 6
    }
   ],
   "source": [
    "y = np.concatenate((x, x), axis = 0)\n",
    "\n",
    "y"
   ]
  },
  {
   "cell_type": "markdown",
   "metadata": {
    "id": "TI9-k7EgSn1X"
   },
   "source": [
    "## Reshaping arrays"
   ]
  },
  {
   "cell_type": "code",
   "execution_count": null,
   "metadata": {
    "id": "2h0-lNJGSn1X",
    "outputId": "358b8e5a-e028-4546-ccb7-717a1871eaf1"
   },
   "outputs": [
    {
     "name": "stdout",
     "output_type": "stream",
     "text": "[[1 2 3]\n [4 5 6]]\n"
    }
   ],
   "source": [
    "x = np.array([[1, 2, 3], [4, 5, 6]])\n",
    "\n",
    "print(x)"
   ]
  },
  {
   "cell_type": "code",
   "execution_count": null,
   "metadata": {
    "id": "6u4eONihSn1X",
    "outputId": "906bff22-b8e6-4e23-db5b-6925f74297fd"
   },
   "outputs": [
    {
     "name": "stdout",
     "output_type": "stream",
     "text": "[[1]\n [2]\n [3]\n [4]\n [5]\n [6]]\n"
    }
   ],
   "source": [
    "y = np.reshape(x, newshape = (6, 1))\n",
    "\n",
    "print(y)"
   ]
  },
  {
   "cell_type": "code",
   "execution_count": null,
   "metadata": {
    "id": "shW48pP_Sn1X",
    "outputId": "0782d731-00b7-452b-e6ae-f3bcc980a268"
   },
   "outputs": [
    {
     "name": "stdout",
     "output_type": "stream",
     "text": "[[1]\n [2]\n [3]\n [4]\n [5]\n [6]]\n"
    }
   ],
   "source": [
    "y = x.reshape((6, 1))\n",
    "\n",
    "print(y)"
   ]
  },
  {
   "cell_type": "code",
   "execution_count": null,
   "metadata": {
    "id": "vB2O9kWXSn1X",
    "outputId": "e50a1e3b-0ed3-4bf5-f147-ca78edb4e050"
   },
   "outputs": [
    {
     "name": "stdout",
     "output_type": "stream",
     "text": "[[1 2]\n [3 4]\n [5 6]]\n"
    }
   ],
   "source": [
    "y = x.reshape((3, 2))\n",
    "\n",
    "print(y)"
   ]
  },
  {
   "cell_type": "code",
   "execution_count": null,
   "metadata": {
    "id": "3a4fCMT1Sn1Y",
    "outputId": "b9b7db8e-e080-47ff-eed5-cd137d0ff5d0"
   },
   "outputs": [
    {
     "data": {
      "text/plain": "(5, 70)"
     },
     "execution_count": 19,
     "metadata": {},
     "output_type": "execute_result"
    }
   ],
   "source": [
    "x = np.zeros((5, 7, 10))\n",
    "\n",
    "y = x.reshape((5, -1))\n",
    "\n",
    "y.shape"
   ]
  }
 ]
}