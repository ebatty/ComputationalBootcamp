{
 "metadata": {
  "kernelspec": {
   "name": "python3",
   "display_name": "Python 3 (ipykernel)",
   "language": "python"
  },
  "colab": {
   "provenance": [],
   "include_colab_link": true
  }
 },
 "nbformat": 4,
 "nbformat_minor": 0,
 "cells": [
  {
   "cell_type": "markdown",
   "metadata": {
    "id": "view-in-github",
    "colab_type": "text"
   },
   "source": [
    "<a href=\"https://colab.research.google.com/github/ebatty/ComputationalBootcamp/blob/master/content/ComparisonLogicalOperators.ipynb\" target=\"_blank\"><img alt=\"Open In Colab\" src=\"https://colab.research.google.com/assets/colab-badge.svg\"/></a>"
   ]
  },
  {
   "cell_type": "markdown",
   "source": [
    "# Comparison & Logical Operators"
   ],
   "metadata": {
    "id": "t1Bmsi_kTC2i"
   }
  },
  {
   "cell_type": "markdown",
   "metadata": {},
   "source": [
    " Video\n"
   ]
  },
  {
   "cell_type": "code",
   "source": [
    "#@markdown Video\n",
    "from IPython.display import YouTubeVideo\n",
    "video = YouTubeVideo(id=\"UbcS30PuuwY\", width=730, height=410, fs=1)\n",
    "print(\"Video available at https://youtube.com/watch?v=\" + video.id)\n",
    "video"
   ],
   "metadata": {
    "colab": {
     "base_uri": "https://localhost:8080/",
     "height": 519
    },
    "cellView": "form",
    "id": "wGdDr1qZTGjQ",
    "outputId": "c639313b-64cb-4739-89a6-ba3a27497445",
    "tags": [
     "remove-input"
    ]
   },
   "execution_count": 1,
   "outputs": [
    {
     "output_type": "stream",
     "name": "stdout",
     "text": [
      "Video available at https://youtube.com/watch?v=UbcS30PuuwY\n"
     ]
    },
    {
     "output_type": "execute_result",
     "data": {
      "text/plain": [
       "<IPython.lib.display.YouTubeVideo at 0x7f2a2cf36610>"
      ],
      "text/html": [
       "\n",
       "        <iframe\n",
       "            width=\"854\"\n",
       "            height=\"480\"\n",
       "            src=\"https://www.youtube.com/embed/UbcS30PuuwY?fs=1\"\n",
       "            frameborder=\"0\"\n",
       "            allowfullscreen\n",
       "        ></iframe>\n",
       "        "
      ],
      "image/jpeg": "[encoded data removed]"
     },
     "metadata": {},
     "execution_count": 1
    }
   ]
  },
  {
   "cell_type": "markdown",
   "metadata": {
    "id": "7qPBv235S-D5"
   },
   "source": [
    "# Comparison operators\n",
    "\n",
    "| Symbol      | Description |\n",
    "| ----------- | ----------- |\n",
    "| >    | Greater than      |\n",
    "| >=   | Greater than or equal to     |\n",
    "| <    | Less than      |\n",
    "| <=   | Less than or equal to       |\n",
    "| ==    | Equal to      |\n",
    "| !=   | Not equal to     |"
   ]
  },
  {
   "cell_type": "code",
   "execution_count": null,
   "metadata": {
    "id": "AbmqaEbsS-D8",
    "outputId": "4836b55e-7014-4ced-d4d8-14f49e401c0c"
   },
   "outputs": [
    {
     "data": {
      "text/plain": "True"
     },
     "execution_count": 1,
     "metadata": {},
     "output_type": "execute_result"
    }
   ],
   "source": [
    "5 < 7"
   ]
  },
  {
   "cell_type": "code",
   "execution_count": null,
   "metadata": {
    "id": "FD_dTTTQS-D9",
    "outputId": "a2458f29-64c8-4916-b9a6-13bac59abc23"
   },
   "outputs": [
    {
     "data": {
      "text/plain": "bool"
     },
     "execution_count": 2,
     "metadata": {},
     "output_type": "execute_result"
    }
   ],
   "source": [
    "x = 5 < 7\n",
    "type(x)"
   ]
  },
  {
   "cell_type": "code",
   "execution_count": null,
   "metadata": {
    "id": "bo3CGHwbS-D9",
    "outputId": "753cefd2-c333-42c2-aa0a-e12c378bd04c"
   },
   "outputs": [
    {
     "data": {
      "text/plain": "True"
     },
     "execution_count": 3,
     "metadata": {},
     "output_type": "execute_result"
    }
   ],
   "source": [
    "6 == 6.0"
   ]
  },
  {
   "cell_type": "markdown",
   "metadata": {
    "id": "W0D5IAA0S-D-"
   },
   "source": [
    "# Logical Operators\n",
    "\n",
    "| Symbol      | Description |\n",
    "| ----------- | ----------- |\n",
    "| and    | True if both sides are true, otherwise false   |\n",
    "| or  | True if both or either side is true     |\n",
    "| not    | True if value is False, False if value is True |"
   ]
  },
  {
   "cell_type": "code",
   "execution_count": null,
   "metadata": {
    "id": "WtD6_o3qS-D-",
    "outputId": "13410eb1-72b2-4e0d-894f-31a187b4372b"
   },
   "outputs": [
    {
     "data": {
      "text/plain": "True"
     },
     "execution_count": 6,
     "metadata": {},
     "output_type": "execute_result"
    }
   ],
   "source": [
    "True and True"
   ]
  },
  {
   "cell_type": "code",
   "execution_count": null,
   "metadata": {
    "id": "AoDPWnoZS-D_",
    "outputId": "37e76915-744f-43ab-f70b-d14ebb1b070f"
   },
   "outputs": [
    {
     "data": {
      "text/plain": "True"
     },
     "execution_count": 5,
     "metadata": {},
     "output_type": "execute_result"
    }
   ],
   "source": [
    "healthiness = .6\n",
    "size = .2\n",
    "\n",
    "(healthiness > .2) and (size > .1)"
   ]
  },
  {
   "cell_type": "code",
   "execution_count": null,
   "metadata": {
    "id": "_msTdMnrS-D_",
    "outputId": "67ccde43-d3c0-45d9-8c09-8c37a5d929c5"
   },
   "outputs": [
    {
     "data": {
      "text/plain": "True"
     },
     "execution_count": 7,
     "metadata": {},
     "output_type": "execute_result"
    }
   ],
   "source": [
    "True or False"
   ]
  },
  {
   "cell_type": "code",
   "execution_count": null,
   "metadata": {
    "id": "7GUxB6vLS-EA",
    "outputId": "97c552c6-3e95-4038-9546-4e35384849ff"
   },
   "outputs": [
    {
     "data": {
      "text/plain": "True"
     },
     "execution_count": 8,
     "metadata": {},
     "output_type": "execute_result"
    }
   ],
   "source": [
    "False or True"
   ]
  },
  {
   "cell_type": "code",
   "execution_count": null,
   "metadata": {
    "id": "uI-7aCTxS-EA",
    "outputId": "bddf92ae-1ce7-4976-dafe-ac5e7cab6b22"
   },
   "outputs": [
    {
     "data": {
      "text/plain": "False"
     },
     "execution_count": 9,
     "metadata": {},
     "output_type": "execute_result"
    }
   ],
   "source": [
    "not True"
   ]
  },
  {
   "cell_type": "code",
   "execution_count": null,
   "metadata": {
    "id": "LfAFXbvdS-EB",
    "outputId": "0b82064e-c5ef-4fbe-cd1b-f2731565126d"
   },
   "outputs": [
    {
     "data": {
      "text/plain": "True"
     },
     "execution_count": 10,
     "metadata": {},
     "output_type": "execute_result"
    }
   ],
   "source": [
    "not False"
   ]
  },
  {
   "cell_type": "markdown",
   "metadata": {
    "id": "c8srT94PS-EB"
   },
   "source": [
    "# Operators with numpy"
   ]
  },
  {
   "cell_type": "code",
   "execution_count": null,
   "metadata": {
    "id": "jGPFT6o7S-EB"
   },
   "outputs": [],
   "source": [
    "import numpy as numpy"
   ]
  },
  {
   "cell_type": "code",
   "execution_count": null,
   "metadata": {
    "id": "Eo8EQdLyS-EC",
    "outputId": "2fd5e593-2c12-40a5-af3f-02d4472d039c"
   },
   "outputs": [
    {
     "data": {
      "text/plain": "array([False,  True,  True])"
     },
     "execution_count": 12,
     "metadata": {},
     "output_type": "execute_result"
    }
   ],
   "source": [
    "x = np.array([5, 10, 11])\n",
    "\n",
    "x > 6"
   ]
  },
  {
   "cell_type": "code",
   "execution_count": null,
   "metadata": {
    "id": "2fIzfQ8DS-EC",
    "outputId": "9c0a48e3-74ae-4ee2-dbf8-ace9e4f183b7"
   },
   "outputs": [
    {
     "ename": "ValueError",
     "evalue": "The truth value of an array with more than one element is ambiguous. Use a.any() or a.all()",
     "output_type": "error",
     "traceback": [
      "\u001b[0;31m---------------------------------------------------------------------------\u001b[0m",
      "\u001b[0;31mValueError\u001b[0m                                Traceback (most recent call last)",
      "Input \u001b[0;32mIn [1]\u001b[0m, in \u001b[0;36m<cell line: 4>\u001b[0;34m()\u001b[0m\n\u001b[1;32m      1\u001b[0m x \u001b[38;5;241m=\u001b[39m np\u001b[38;5;241m.\u001b[39marray([\u001b[38;5;28;01mTrue\u001b[39;00m, \u001b[38;5;28;01mFalse\u001b[39;00m])\n\u001b[1;32m      2\u001b[0m y \u001b[38;5;241m=\u001b[39m np\u001b[38;5;241m.\u001b[39marray([\u001b[38;5;28;01mTrue\u001b[39;00m, \u001b[38;5;28;01mTrue\u001b[39;00m])\n\u001b[0;32m----> 4\u001b[0m x \u001b[38;5;129;01mand\u001b[39;00m y\n",
      "\u001b[0;31mValueError\u001b[0m: The truth value of an array with more than one element is ambiguous. Use a.any() or a.all()"
     ]
    }
   ],
   "source": [
    "x = np.array([True, False])\n",
    "y = np.array([True, True])\n",
    "\n",
    "x and y"
   ]
  },
  {
   "cell_type": "code",
   "execution_count": null,
   "metadata": {
    "id": "Gf8ykWqNS-EC",
    "outputId": "574ef4b2-dac0-4e9b-cc48-69bba81233b1"
   },
   "outputs": [
    {
     "data": {
      "text/plain": "array([ True, False])"
     },
     "execution_count": 14,
     "metadata": {},
     "output_type": "execute_result"
    }
   ],
   "source": [
    "np.logical_and(x, y)"
   ]
  },
  {
   "cell_type": "code",
   "execution_count": null,
   "metadata": {
    "id": "UgRmvzncS-EC",
    "outputId": "2ddfd76c-9b5f-4bdf-cbbe-57308733675c"
   },
   "outputs": [
    {
     "data": {
      "text/plain": "array([ True,  True])"
     },
     "execution_count": 15,
     "metadata": {},
     "output_type": "execute_result"
    }
   ],
   "source": [
    "np.logical_or(x, y)"
   ]
  },
  {
   "cell_type": "code",
   "execution_count": null,
   "metadata": {
    "id": "9h-ICSWhS-ED",
    "outputId": "884e143f-8306-4a04-a492-77a394c503e1"
   },
   "outputs": [
    {
     "data": {
      "text/plain": "array([False,  True])"
     },
     "execution_count": 17,
     "metadata": {},
     "output_type": "execute_result"
    }
   ],
   "source": [
    "np.logical_not(x)"
   ]
  },
  {
   "cell_type": "code",
   "execution_count": null,
   "metadata": {
    "id": "GDY-7hV9S-ED"
   },
   "outputs": [],
   "source": []
  }
 ]
}