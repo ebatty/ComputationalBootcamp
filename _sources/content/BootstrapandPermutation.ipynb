{
 "nbformat": 4,
 "nbformat_minor": 0,
 "metadata": {
  "colab": {
   "provenance": [],
   "collapsed_sections": [],
   "authorship_tag": "ABX9TyMJtXCA2ypJ0nDj26GLN8ER",
   "include_colab_link": true
  },
  "kernelspec": {
   "name": "python3",
   "display_name": "Python 3"
  },
  "language_info": {
   "name": "python"
  }
 },
 "cells": [
  {
   "cell_type": "markdown",
   "metadata": {
    "id": "view-in-github",
    "colab_type": "text"
   },
   "source": [
    "<a href=\"https://colab.research.google.com/github/ebatty/ComputationalBootcamp/blob/master/content/BootstrapandPermutation.ipynb\" target=\"_blank\"><img alt=\"Open In Colab\" src=\"https://colab.research.google.com/assets/colab-badge.svg\"/></a>"
   ]
  },
  {
   "cell_type": "markdown",
   "source": [
    "# Bootstrapping & Permutation Tests"
   ],
   "metadata": {
    "id": "STFt6SLCeOJj"
   }
  },
  {
   "cell_type": "code",
   "source": [
    "import numpy as np\n",
    "import matplotlib.pyplot as plt"
   ],
   "metadata": {
    "id": "fDOstq8ngTgQ"
   },
   "execution_count": null,
   "outputs": []
  },
  {
   "cell_type": "markdown",
   "metadata": {},
   "source": [
    " Plotting Functions\n"
   ]
  },
  {
   "cell_type": "code",
   "source": [
    "# @markdown Plotting Functions\n",
    "\n",
    "def plot_original_and_resample(x, y, x_, y_):\n",
    "  \"\"\" Plot the original sample and the resampled points from this sample.\n",
    "\n",
    "  Args:\n",
    "    x (ndarray): An array of shape (samples,) that contains the input values.\n",
    "    y (ndarray): An array of shape (samples,) that contains the corresponding\n",
    "      measurement values to the inputs.\n",
    "    x_ (ndarray): An array of shape (samples,) with a subset of input values from x\n",
    "    y_ (ndarray): An array of shape (samples,) with a the corresponding subset\n",
    "      of measurement values as x_ from y\n",
    "\n",
    "  \"\"\"\n",
    "  fig, (ax1, ax2) = plt.subplots(ncols=2, figsize=(12, 5))\n",
    "  ax1.scatter(x, y)\n",
    "  ax1.set(title='Original', xlabel='x', ylabel='y')\n",
    "\n",
    "  ax2.scatter(x_, y_, color='c')\n",
    "\n",
    "  ax2.set(title='Resampled', xlabel='x', ylabel='y',\n",
    "          xlim=ax1.get_xlim(), ylim=ax1.get_ylim());"
   ],
   "metadata": {
    "cellView": "form",
    "id": "k8zIlJTxhXq_",
    "tags": [
     "hide-input"
    ]
   },
   "execution_count": null,
   "outputs": []
  },
  {
   "cell_type": "markdown",
   "source": [
    "# Section 1: Bootstrapping"
   ],
   "metadata": {
    "id": "QMiZChCai72n"
   }
  },
  {
   "cell_type": "markdown",
   "source": [
    "[Bootstrapping](https://en.wikipedia.org/wiki/Bootstrapping_(statistics)) is a widely applicable method to assess confidence/uncertainty about estimated descriptive \n",
    "statistics or parameters, it was originally [proposed](https://projecteuclid.org/euclid.aos/1176344552) by [Bradley Efron](https://en.wikipedia.org/wiki/Bradley_Efron). \n",
    "\n",
    "The idea is to generate many new synthetic datasets from the initial true dataset by randomly sampling from it, then finding the statistics/estimators for each one of these new datasets, and finally looking at the distribution of all these statistics/estimators to quantify our confidence.\n",
    "\n",
    "Let's say we have data from randomly sampled neurons. For each neuron, we have the average firing rate of the neuron and the size of the neuron. Please note this is completely faked data for illustration purposes so units etc don't make sense.\n",
    "\n"
   ],
   "metadata": {
    "id": "FRILeEDZevSv"
   }
  },
  {
   "cell_type": "markdown",
   "metadata": {},
   "source": [
    " Execute this cell to simulate some data\n"
   ]
  },
  {
   "cell_type": "code",
   "execution_count": null,
   "metadata": {
    "cellView": "form",
    "id": "K_g7MCLEdpZ1",
    "tags": [
     "hide-input"
    ]
   },
   "outputs": [],
   "source": [
    "#@markdown Execute this cell to simulate some data\n",
    "\n",
    "# setting a fixed seed to our random number generator ensures we will always\n",
    "# get the same psuedorandom number sequence\n",
    "np.random.seed(121)\n",
    "\n",
    "# Let's set some parameters\n",
    "theta = 1.2\n",
    "n_samples = 15\n",
    "\n",
    "# Draw x and then calculate y\n",
    "x = 10 * np.random.rand(n_samples)  # sample from a uniform distribution over [0,10)\n",
    "noise = np.random.randn(n_samples)  # sample from a standard normal distribution\n",
    "y = theta * x + noise\n",
    "\n",
    "fig, ax = plt.subplots()\n",
    "ax.scatter(x, y)  # produces a scatter plot\n",
    "ax.set(xlabel='Cell size', ylabel='Firing rate');\n",
    "\n",
    "cell_sizes = x\n",
    "firing_rates = y"
   ]
  },
  {
   "cell_type": "markdown",
   "source": [
    "You have a `cell_sizes` variable and a `firing_rates` variable. Each is an array of length N, where N is the number of data points (cells) we have info about."
   ],
   "metadata": {
    "id": "TRv_KPC8gmdU"
   }
  },
  {
   "cell_type": "markdown",
   "source": [
    "## Section 1.1: Bootstrapping to determine confidence in mean firing rate\n",
    "\n"
   ],
   "metadata": {
    "id": "cWowaqAkeX1c"
   }
  },
  {
   "cell_type": "markdown",
   "source": [
    "### Exercise 1: Compute mean cell size"
   ],
   "metadata": {
    "id": "l2nyXDXggeG0"
   }
  },
  {
   "cell_type": "code",
   "source": [
    "# your code here"
   ],
   "metadata": {
    "id": "z8iKLEOCgGzQ"
   },
   "execution_count": null,
   "outputs": []
  },
  {
   "cell_type": "markdown",
   "source": [
    "How confident are you that that is the mean cell size of this whole population of neurons?\n",
    "\n",
    "We can quantify uncertainty using bootstrapping!\n",
    "\n"
   ],
   "metadata": {
    "id": "x4VBAmYbgx5r"
   }
  },
  {
   "cell_type": "markdown",
   "source": [
    "### Exercise 2: Resample data with replacement\n",
    "\n",
    "First, we need a method to resample from our cell size dataset with replacement. Complete the code below to  resample a dataset with replacement. \n",
    "\n",
    "\n",
    "**Hint:** The [numpy.random.choice](https://numpy.org/doc/stable/reference/random/generated/numpy.random.choice.html) method would be useful here."
   ],
   "metadata": {
    "id": "1V5xJRyqg9bX"
   }
  },
  {
   "cell_type": "code",
   "source": [
    "# Resample dataset\n",
    "\n",
    "# Get array of indices for resampled points\n",
    "sample_idx = ...\n",
    "\n",
    "# Sample from cell_sizes according to sample_idx\n",
    "cell_size_ = ..."
   ],
   "metadata": {
    "id": "v2Jt6wogg151"
   },
   "execution_count": null,
   "outputs": []
  },
  {
   "cell_type": "markdown",
   "source": [
    "Now that we have a way to resample the data, we can use that in the full bootstrapping process."
   ],
   "metadata": {
    "id": "cRpgHanbheSv"
   }
  },
  {
   "cell_type": "markdown",
   "source": [
    "### Exercise 3: Bootstrap estimates\n",
    "\n",
    "We want to resample from our cell sizes dataset 2000 times, compute the mean each time, and store each mean in a variable called `bootstrapped_means`. \n",
    "\n",
    "With your group, write out pseudocode for how to do this, then implement it. You should use what you came up with in Exercise 2."
   ],
   "metadata": {
    "id": "peRF5olUhgwF"
   }
  },
  {
   "cell_type": "code",
   "source": [
    "# your code here\n",
    "\n",
    "\n",
    "plt.hist(bootstrapped_means)"
   ],
   "metadata": {
    "id": "__OtscLZhaMo"
   },
   "execution_count": null,
   "outputs": []
  },
  {
   "cell_type": "markdown",
   "source": [
    "The histogram of the bootstrapped means gives you a sense of the uncertainty in the cell size mean you computed from the original dataset. Let's quantify that uncertainty. We do so by computing [confidence intervals](https://en.wikipedia.org/wiki/Confidence_interval) (CIs) from our bootstrapped estimates. The confidence interval is the probability that the mean will fall between a set of values for a certain proportion of time.\n",
    "\n",
    "The most direct approach to compute confidence intervals is to compute percentiles from the empirical distribution of bootstrapped estimates. Note that this is widely applicable as we are not assuming that this empirical distribution is Gaussian.\n",
    "\n",
    "If we aim to compute the 95% confidence interval, we want to figure out what value is the 2.5 percentile and what value is the 97.5 percentile. These two values are the edges of our 95% confidence interval.\n",
    "\n"
   ],
   "metadata": {
    "id": "TJ84QwDdipQv"
   }
  },
  {
   "cell_type": "markdown",
   "source": [
    "### Exercise 4: Compute 95% confidence interval\n",
    "\n",
    "Compute the 95% confidence interval. `np.percentile` should help - take a look at the documentation to know how to use it. "
   ],
   "metadata": {
    "id": "R8wi21_fjfdb"
   }
  },
  {
   "cell_type": "code",
   "source": [],
   "metadata": {
    "id": "vie4gGnWkHgG"
   },
   "execution_count": null,
   "outputs": []
  },
  {
   "cell_type": "markdown",
   "source": [
    "## Section 1.2: Bootstrapping to determine confidence in linear regression parameter\n",
    "\n",
    "**This section is more advanced, please come back to it after finishing the rest of the tutorial.** This section is based on and uses material from NMA Comp Neuro W1D2 (https://compneuro.neuromatch.io/tutorials/W1D2_ModelFitting/student/W1D2_Tutorial3.html)\n",
    "\n",
    "Let's say we want to fit a linear regression model to predict firing rate based on cell size. We then want to get a sense of the uncertainty of our fitted parameter."
   ],
   "metadata": {
    "id": "bf4luL7vj0IU"
   }
  },
  {
   "cell_type": "markdown",
   "source": [
    "Implement a method to resample a dataset with replacement, similar to exercise 2 but for both cell size and firing rate data. The method accepts 𝐱 and 𝐲 arrays. It should return a new set of 𝐱′ and 𝐲′ arrays that are created by randomly sampling from the originals.\n",
    "\n",
    "We will then compare the original dataset to a resampled dataset.\n",
    "\n",
    "Hint: The numpy.random.choice method would be useful here."
   ],
   "metadata": {
    "id": "SqtLuZ7lofvR"
   }
  },
  {
   "cell_type": "code",
   "source": [
    "def resample_with_replacement(x, y):\n",
    "  \"\"\"Resample data points with replacement from the dataset of `x` inputs and\n",
    "  `y` measurements.\n",
    "\n",
    "  Args:\n",
    "    x (ndarray): An array of shape (samples,) that contains the input values.\n",
    "    y (ndarray): An array of shape (samples,) that contains the corresponding\n",
    "      measurement values to the inputs.\n",
    "\n",
    "  Returns:\n",
    "    ndarray, ndarray: The newly resampled `x` and `y` data points.\n",
    "  \"\"\"\n",
    "  #######################################################\n",
    "  ## TODO for students: resample dataset with replacement\n",
    "  # Fill out function and remove\n",
    "  raise NotImplementedError(\"Student exercise: resample dataset with replacement\")\n",
    "  #######################################################\n",
    "\n",
    "  # Get array of indices for resampled points\n",
    "  sample_idx = ...\n",
    "\n",
    "  # Sample from x and y according to sample_idx\n",
    "  x_ = ...\n",
    "  y_ = ...\n",
    "\n",
    "  return x_, y_\n",
    "\n",
    "cell_sizes_, firing_rates_ = resample_with_replacement(cell_sizes, firing_rates)\n",
    "\n",
    "plot_original_and_resample(cell_sizes, firing_rates, cell_sizes_, firing_rates_)"
   ],
   "metadata": {
    "id": "SAG54ihzif20"
   },
   "execution_count": null,
   "outputs": []
  },
  {
   "cell_type": "markdown",
   "source": [
    "In this exercise you will implement a method to run the bootstrap process of generating a set of 𝜃̂  values from a dataset of inputs (𝐱) and measurements (𝐲). You should use resample_with_replacement here, and you may also invoke the helper function solve_normal_eqn to produce the MSE-based estimator.\n",
    "\n",
    "We will then use this function to look at the theta_hat from different samples.\n",
    "\n",
    "Execute this cell for helper function solve_normal_eqn\n",
    "\n"
   ],
   "metadata": {
    "id": "7M8jPDogo7ee"
   }
  },
  {
   "cell_type": "code",
   "source": [
    "def solve_normal_eqn(x, y):\n",
    "  \"\"\"Solve the normal equations to produce the value of theta_hat that minimizes\n",
    "    MSE.\n",
    "\n",
    "    Args:\n",
    "    x (ndarray): An array of shape (samples,) that contains the input values.\n",
    "    y (ndarray): An array of shape (samples,) that contains the corresponding\n",
    "      measurement values to the inputs.\n",
    "    thata_hat (float): An estimate of the slope parameter.\n",
    "\n",
    "  Returns:\n",
    "    float: the value for theta_hat arrived from minimizing MSE\n",
    "  \"\"\"\n",
    "  theta_hat = (x.T @ y) / (x.T @ x)\n",
    "  return theta_hat\n"
   ],
   "metadata": {
    "id": "kZGffrWPpA5k"
   },
   "execution_count": null,
   "outputs": []
  },
  {
   "cell_type": "code",
   "source": [
    "def bootstrap_estimates(x, y, n=2000):\n",
    "  \"\"\"Generate a set of theta_hat estimates using the bootstrap method.\n",
    "\n",
    "  Args:\n",
    "    x (ndarray): An array of shape (samples,) that contains the input values.\n",
    "    y (ndarray): An array of shape (samples,) that contains the corresponding\n",
    "      measurement values to the inputs.\n",
    "    n (int): The number of estimates to compute\n",
    "\n",
    "  Returns:\n",
    "    ndarray: An array of estimated parameters with size (n,)\n",
    "  \"\"\"\n",
    "  theta_hats = np.zeros(n)\n",
    "\n",
    "  ##############################################################################\n",
    "  ## TODO for students: implement bootstrap estimation\n",
    "  # Fill out function and remove\n",
    "  raise NotImplementedError(\"Student exercise: implement bootstrap estimation\")\n",
    "  ##############################################################################\n",
    "\n",
    "  # Loop over number of estimates\n",
    "  for i in range(n):\n",
    "\n",
    "    # Resample x and y\n",
    "    x_, y_ = ...\n",
    "\n",
    "    # Compute theta_hat for this sample\n",
    "    theta_hats[i] = ...\n",
    "\n",
    "  return theta_hats\n",
    "\n",
    "\n",
    "# Set random seed\n",
    "np.random.seed(123)\n",
    "\n",
    "# Get bootstrap estimates\n",
    "theta_hats = bootstrap_estimates(x, y, n=2000)\n",
    "print(theta_hats[0:5])"
   ],
   "metadata": {
    "id": "QK3w7eqdo5x_"
   },
   "execution_count": null,
   "outputs": []
  },
  {
   "cell_type": "markdown",
   "metadata": {},
   "source": [
    " Execute this cell to visualize all potential models\n"
   ]
  },
  {
   "cell_type": "markdown",
   "source": [
    "Now that we have our bootstrap estimates, we can visualize all the potential models (models computed with different resampling) together to see how distributed they are.\n",
    "\n"
   ],
   "metadata": {
    "id": "myntAT9ypGX7",
    "tags": [
     "hide-input"
    ]
   }
  },
  {
   "cell_type": "code",
   "source": [
    "#@markdown Execute this cell to visualize all potential models\n",
    "\n",
    "fig, ax = plt.subplots()\n",
    "\n",
    "# For each theta_hat, plot model\n",
    "theta_hats = bootstrap_estimates(x, y, n=2000)\n",
    "for i, theta_hat in enumerate(theta_hats):\n",
    "  y_hat = theta_hat * x\n",
    "  ax.plot(x, y_hat, c='r', alpha=0.01, label='Resampled Fits' if i==0 else '')\n",
    "\n",
    "# Plot observed data\n",
    "ax.scatter(x, y, label='Observed')\n",
    "\n",
    "# Plot true fit data\n",
    "y_true = theta * x\n",
    "ax.plot(x, y_true, 'g', linewidth=2, label='True Model')\n",
    "\n",
    "ax.set(\n",
    "  title='Bootstrapped Slope Estimation',\n",
    "  xlabel='x',\n",
    "  ylabel='y'\n",
    ")\n",
    "\n",
    "# Change legend line alpha property\n",
    "handles, labels = ax.get_legend_handles_labels()\n",
    "handles[0].set_alpha(1)\n",
    "\n",
    "ax.legend();"
   ],
   "metadata": {
    "cellView": "form",
    "id": "RX1P2rO_pGM3"
   },
   "execution_count": null,
   "outputs": []
  },
  {
   "cell_type": "markdown",
   "metadata": {},
   "source": [
    " Execute this cell to plot bootstrapped CI\n"
   ]
  },
  {
   "cell_type": "markdown",
   "source": [
    "This looks pretty good! The bootstrapped estimates spread around the true model, as we would have hoped. Note that here we have the luxury to know the ground truth value for 𝜃, but in applications we are trying to guess it from data. Therefore, assessing the quality of estimates based on finite data is a task of fundamental importance in data analysis"
   ],
   "metadata": {
    "id": "YDkFBaTopPHO",
    "tags": [
     "hide-input"
    ]
   }
  },
  {
   "cell_type": "code",
   "source": [
    "#@markdown Execute this cell to plot bootstrapped CI\n",
    "\n",
    "theta_hats = bootstrap_estimates(x, y, n=2000)\n",
    "print(f\"mean = {np.mean(theta_hats):.2f}, std = {np.std(theta_hats):.2f}\")\n",
    "\n",
    "fig, ax = plt.subplots()\n",
    "ax.hist(theta_hats, bins=20, facecolor='C1', alpha=0.75)\n",
    "ax.axvline(theta, c='g', label=r'True $\\theta$')\n",
    "ax.axvline(np.percentile(theta_hats, 50), color='r', label='Median')\n",
    "ax.axvline(np.percentile(theta_hats, 2.5), color='b', label='95% CI')\n",
    "ax.axvline(np.percentile(theta_hats, 97.5), color='b')\n",
    "ax.legend()\n",
    "ax.set(\n",
    "    title='Bootstrapped Confidence Interval',\n",
    "    xlabel=r'$\\hat{{\\theta}}$',\n",
    "    ylabel='count',\n",
    "    xlim=[1.0, 1.5]\n",
    ");"
   ],
   "metadata": {
    "cellView": "form",
    "id": "e-4jFTGgpSsR"
   },
   "execution_count": null,
   "outputs": []
  },
  {
   "cell_type": "markdown",
   "source": [
    "Looking at the distribution of bootstrapped 𝜃̂  values, we see that the true 𝜃 falls well within the 95% confidence interval, which is reassuring. \n",
    "\n"
   ],
   "metadata": {
    "id": "kRGWzhOWpUyE"
   }
  },
  {
   "cell_type": "markdown",
   "source": [
    "# Section 2: Permutation test\n",
    "\n",
    "This is exercise is based on one created by Rick Born for the Quantitative Methods Bootcamp at Harvard.\n",
    "\n",
    "Our data consists of measurements of the sizes of cell bodies of two populations of neurons, which we'll refer to as \"feedback\" (FB) neurons or \"feedforward\" (FF) neurons. \n",
    "\n",
    "We want to determine if the cell bodies of FB cells are significantly bigger than those of FF cells. \n",
    "\n",
    "We will use a permutation test to determine this."
   ],
   "metadata": {
    "id": "RWiZaNkMkQxy"
   }
  },
  {
   "cell_type": "code",
   "source": [
    "my_data = np.genfromtxt('./cell_body_area.csv', delimiter=',')\n",
    "print(my_data.shape)\n",
    "\n",
    "# Cell sizes for FB cells are in the first column;\n",
    "# FF cells are in the 2nd column:\n",
    "fb_cells = my_data[:,0]\n",
    "ff_cells = my_data[:,1]\n"
   ],
   "metadata": {
    "id": "biiUALm5kSM2"
   },
   "execution_count": null,
   "outputs": []
  },
  {
   "cell_type": "markdown",
   "source": [
    "## Exercise 5: How many cells do we have?"
   ],
   "metadata": {
    "id": "5MenErG3mDqE"
   }
  },
  {
   "cell_type": "code",
   "source": [
    "# Calculate the # of cells\n",
    "n_fb_cells = ...\n",
    "n_ff_cells = ...\n",
    "n_total = ...\n",
    "print(n_total)"
   ],
   "metadata": {
    "id": "OB4APsUQmAe3"
   },
   "execution_count": null,
   "outputs": []
  },
  {
   "cell_type": "markdown",
   "source": [
    "## Exercise 6: Difference in cell body size\n",
    "\n",
    "Compute the experimentally obtained value for the difference in mean cell body size. Note the sign of the difference matters because we are specifically testing if FB cells are larger than FF cells."
   ],
   "metadata": {
    "id": "NoENA74TmLUg"
   }
  },
  {
   "cell_type": "markdown",
   "source": [
    "## Exercise 7: Implement permutation test\n",
    "\n",
    "We want to look at 10000 permutations of the data . For each permutaiton, we want to shuffle which cell type each data point belongs to, split the data into fake FB and FF populations,  and computing the difference. Store the difference in `all_mean_diffs`, which should be a 10000 length array.\n",
    "\n",
    "Work with your group to write pseudocode and then implement this permutation test."
   ],
   "metadata": {
    "id": "LaAt4-AQmjtw"
   }
  },
  {
   "cell_type": "code",
   "source": [
    "# plot histogram\n",
    "fig, ax = plt.subplots()\n",
    "ax.hist(all_mean_diffs);\n",
    "ax.set(xlabel = 'Difference in means', \n",
    "       ylabel = '#');\n"
   ],
   "metadata": {
    "id": "IsKavNgknH4v"
   },
   "execution_count": null,
   "outputs": []
  },
  {
   "cell_type": "markdown",
   "source": [
    "## Exercise 8: Compute p-value\n",
    "\n",
    "The p-value is the proportion of samples that have a `test statistic` larger than that of our observed data. In this situation, the test statistic is the mean difference between FB and FF cell bodies.\n",
    "\n",
    "Compute this p-value"
   ],
   "metadata": {
    "id": "j7J573h3nvPs"
   }
  },
  {
   "cell_type": "code",
   "source": [],
   "metadata": {
    "id": "ZmxmM6JAnIIC"
   },
   "execution_count": null,
   "outputs": []
  },
  {
   "cell_type": "markdown",
   "source": [
    "Would you conclude that FB cells have significantly bigger cell bodies than FF cells?4"
   ],
   "metadata": {
    "id": "CpncVv8NoC6e"
   }
  },
  {
   "cell_type": "code",
   "source": [],
   "metadata": {
    "id": "nl9JH05woG5X"
   },
   "execution_count": null,
   "outputs": []
  },
  {
   "cell_type": "markdown",
   "source": [
    "## Exercise 9: 2-tailed test\n",
    "\n",
    "Now suppose we wanted a 2-tailed version of this test. That is, we're interested in any difference more extreme than the one we got, regardless of whether FB are larger than FF or vice versa. Compute the p value assuming this new 2-tailed test (hint: you do not have to redo the permutation simulation part) "
   ],
   "metadata": {
    "id": "vAeJUuSloINV"
   }
  },
  {
   "cell_type": "code",
   "source": [],
   "metadata": {
    "id": "Y554k56DoH5U"
   },
   "execution_count": null,
   "outputs": []
  }
 ]
}