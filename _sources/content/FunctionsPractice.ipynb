{
 "nbformat": 4,
 "nbformat_minor": 0,
 "metadata": {
  "colab": {
   "provenance": [],
   "collapsed_sections": [],
   "authorship_tag": "ABX9TyO/t4uhQSh+1Vj/goZ/fmRI",
   "include_colab_link": true
  },
  "kernelspec": {
   "name": "python3",
   "display_name": "Python 3"
  },
  "language_info": {
   "name": "python"
  }
 },
 "cells": [
  {
   "cell_type": "markdown",
   "metadata": {
    "id": "view-in-github",
    "colab_type": "text"
   },
   "source": [
    "<a href=\"https://colab.research.google.com/github/ebatty/ComputationalBootcamp/blob/master/content/FunctionsPractice.ipynb\" target=\"_blank\"><img alt=\"Open In Colab\" src=\"https://colab.research.google.com/assets/colab-badge.svg\"/></a>"
   ]
  },
  {
   "cell_type": "markdown",
   "source": [
    "# Functions Practice"
   ],
   "metadata": {
    "id": "hAAtW6qQfRdh"
   }
  },
  {
   "cell_type": "code",
   "execution_count": null,
   "metadata": {
    "id": "GeQGbd6gOqO9"
   },
   "outputs": [],
   "source": [
    "import numpy as np\n",
    "import matplotlib.pyplot as plt"
   ]
  },
  {
   "cell_type": "markdown",
   "source": [
    "1... We will write a function that takes in an array, finds the second largest value of the array, and returns it. First, brainstorm with your group and write out pseudocode. \n",
    "\n"
   ],
   "metadata": {
    "id": "2yMYKTdDOyuo"
   }
  },
  {
   "cell_type": "code",
   "source": [],
   "metadata": {
    "id": "EVMhTT7navhI"
   },
   "execution_count": null,
   "outputs": []
  },
  {
   "cell_type": "markdown",
   "source": [
    "2... Write the function that takes in an array, finds the second largest value of the array, and returns it. \n",
    "\n",
    "We want the second largest of the unique values. For example, using the function on this array  `a = np.array([100, 100, 50])` should return 50, not 100."
   ],
   "metadata": {
    "id": "BKAaf_c5H4Cy"
   }
  },
  {
   "cell_type": "code",
   "source": [],
   "metadata": {
    "id": "ofkQV_uuavMw"
   },
   "execution_count": null,
   "outputs": []
  },
  {
   "cell_type": "markdown",
   "source": [
    "3... Write a function that takes in an array and the number `n` and returns the value of the nth largest and nth smallest value of the array. First, write out the pseudocode with your group, then write the function. Copy and past the function here.\n",
    "\n",
    "\n",
    "This function should get the nth largest and smallest unique values (so for example, if n = 2 and there are multiple entries of 100 tied for maximum, the second largest value would not be 100, it would be the next highest value present in the array.\n"
   ],
   "metadata": {
    "id": "Ni0E1XFqQTXK"
   }
  },
  {
   "cell_type": "code",
   "source": [],
   "metadata": {
    "id": "2MinsGBsauvY"
   },
   "execution_count": null,
   "outputs": []
  },
  {
   "cell_type": "markdown",
   "source": [
    "4... Test your previous function from question 3 with arrays of various size, dimensionality, and characteristics and with various values of n. Ensure the function returns the correct values (use assert!). Did all your tests work or were there any problems? If so, what were they?"
   ],
   "metadata": {
    "id": "G-UDVBZIKay4"
   }
  },
  {
   "cell_type": "code",
   "source": [],
   "metadata": {
    "id": "Ch3BKBOXaudu"
   },
   "execution_count": null,
   "outputs": []
  },
  {
   "cell_type": "markdown",
   "source": [
    "5... Modify your last function so that if n is bigger than the number of elements in the array, it doesn't give an error, prints a text warning, and returns the smallest and largest value. "
   ],
   "metadata": {
    "id": "sRputVCPRRrY"
   }
  },
  {
   "cell_type": "code",
   "source": [],
   "metadata": {
    "id": "FVUwYBtHat-x"
   },
   "execution_count": null,
   "outputs": []
  },
  {
   "cell_type": "markdown",
   "source": [
    "6... Individually, not in groups (you will review each other's functions in the next step): try to come up with a function that will do something that you think is useful. This could be anything (doesn't have to be science). Post your code"
   ],
   "metadata": {
    "id": "JRdco-xpUv-U"
   }
  },
  {
   "cell_type": "code",
   "source": [],
   "metadata": {
    "id": "Cu6A5KYIatp1"
   },
   "execution_count": null,
   "outputs": []
  },
  {
   "cell_type": "markdown",
   "source": [
    "7... Review each of your functions together as a group. Try to give each other comments and suggestions on the code. Is there anything you realized you could improve after code review? If so, what?"
   ],
   "metadata": {
    "id": "jO-8gB88MbUI"
   }
  },
  {
   "cell_type": "code",
   "source": [],
   "metadata": {
    "id": "y2N8rqW_atdQ"
   },
   "execution_count": null,
   "outputs": []
  },
  {
   "cell_type": "markdown",
   "source": [
    "8... (Optional) Now write two functions. The first function should call the second function. Have the two functions together do something you think is useful.\n",
    "\n"
   ],
   "metadata": {
    "id": "Bv5OTipiRD0v"
   }
  },
  {
   "cell_type": "code",
   "source": [],
   "metadata": {
    "id": "rI-aCY4Aas4c"
   },
   "execution_count": null,
   "outputs": []
  },
  {
   "cell_type": "markdown",
   "source": [
    "9... (Optional) Write a function that implements the factorial method.\n",
    "\n",
    "5!=5∗4∗3∗2∗1=120\n",
    "\n",
    "0! = 1\n",
    "\n",
    "Hint: You do not need to use recursion for this challenge, although you may if you know what it is."
   ],
   "metadata": {
    "id": "q_eGLCPzVcjH"
   }
  },
  {
   "cell_type": "code",
   "source": [],
   "metadata": {
    "id": "Q_90nmepasp2"
   },
   "execution_count": null,
   "outputs": []
  },
  {
   "cell_type": "markdown",
   "source": [
    "10... (Optional, advanced) Write a function to play rock, paper, scissors with you. In other words, you should input your choice. The function should generate the computer's choice and return who won ('Computer', 'You', or 'Tie').  Outline pseudocode first."
   ],
   "metadata": {
    "id": "jiHc0oYnV4Wq"
   }
  },
  {
   "cell_type": "code",
   "source": [],
   "metadata": {
    "id": "eMR-R1EgasZ_"
   },
   "execution_count": null,
   "outputs": []
  }
 ]
}