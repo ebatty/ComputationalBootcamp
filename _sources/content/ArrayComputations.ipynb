{
 "metadata": {
  "kernelspec": {
   "name": "python3",
   "display_name": "Python 3 (ipykernel)",
   "language": "python"
  },
  "colab": {
   "provenance": [],
   "collapsed_sections": [],
   "include_colab_link": true
  }
 },
 "nbformat": 4,
 "nbformat_minor": 0,
 "cells": [
  {
   "cell_type": "markdown",
   "metadata": {
    "id": "view-in-github",
    "colab_type": "text"
   },
   "source": [
    "<a href=\"https://colab.research.google.com/github/ebatty/ComputationalBootcamp/blob/master/content/ArrayComputations.ipynb\" target=\"_blank\"><img alt=\"Open In Colab\" src=\"https://colab.research.google.com/assets/colab-badge.svg\"/></a>"
   ]
  },
  {
   "cell_type": "markdown",
   "source": [
    "# Array Computations"
   ],
   "metadata": {
    "id": "5t2VMADuDyIs"
   }
  },
  {
   "cell_type": "markdown",
   "metadata": {},
   "source": [
    " Video\n"
   ]
  },
  {
   "cell_type": "code",
   "source": [
    "#@markdown Video\n",
    "from IPython.display import YouTubeVideo\n",
    "video = YouTubeVideo(id=\"h_KYkTFkfNw\", width=730, height=410, fs=1)\n",
    "print(\"Video available at https://youtube.com/watch?v=\" + video.id)\n",
    "video"
   ],
   "metadata": {
    "cellView": "form",
    "id": "KKdoZd7-D-gw",
    "tags": [
     "remove-input"
    ]
   },
   "execution_count": null,
   "outputs": []
  },
  {
   "cell_type": "markdown",
   "metadata": {
    "id": "ZQdRNzLHDvcG"
   },
   "source": [
    "# Setting up our data"
   ]
  },
  {
   "cell_type": "markdown",
   "metadata": {
    "id": "YO3eAcOzDvcJ"
   },
   "source": [
    "Let's say we have spiking data in an array. Each column is a neuron, each row is a time point. The data represents spike counts."
   ]
  },
  {
   "cell_type": "markdown",
   "metadata": {
    "id": "UA7FXrsjDvcJ"
   },
   "source": [
    "![picture](https://raw.githubusercontent.com/ebatty/ComputationalBootcamp/master/images/data.png)"
   ]
  },
  {
   "cell_type": "markdown",
   "metadata": {
    "id": "czmDAadwDvcJ"
   },
   "source": [
    "We can create the above array as follows:"
   ]
  },
  {
   "cell_type": "code",
   "execution_count": null,
   "metadata": {
    "id": "rWsX8PHCDvcK"
   },
   "outputs": [],
   "source": [
    "import numpy as np\n",
    "spikes = np.array([[1, 0, 1], [3, 4, 1]])"
   ]
  },
  {
   "cell_type": "markdown",
   "metadata": {
    "id": "-GcAqr2_DvcK"
   },
   "source": [
    "# Investigating the data\n",
    "\n",
    "We can compute the shape of the array (to get the number of rows and columns)"
   ]
  },
  {
   "cell_type": "code",
   "execution_count": null,
   "metadata": {
    "id": "fwablFL3DvcL",
    "outputId": "b4251785-ca46-46be-8479-20d881fe468e"
   },
   "outputs": [
    {
     "data": {
      "text/plain": "(2, 3)"
     },
     "execution_count": 3,
     "metadata": {},
     "output_type": "execute_result"
    }
   ],
   "source": [
    "np.shape(spikes)"
   ]
  },
  {
   "cell_type": "markdown",
   "metadata": {
    "id": "rEt46BzPDvcM"
   },
   "source": [
    "The first number outputted above is the number of rows, the second is the number of columns."
   ]
  },
  {
   "cell_type": "markdown",
   "metadata": {
    "id": "rQpy9jGzDvcM"
   },
   "source": [
    "We can also get the minimum and maximum values in the array"
   ]
  },
  {
   "cell_type": "code",
   "execution_count": null,
   "metadata": {
    "id": "sO_TRSiMDvcN",
    "outputId": "2b198219-4a24-4d6c-d919-d06ccd020eab"
   },
   "outputs": [
    {
     "data": {
      "text/plain": "0"
     },
     "execution_count": 4,
     "metadata": {},
     "output_type": "execute_result"
    }
   ],
   "source": [
    "np.min(spikes)"
   ]
  },
  {
   "cell_type": "code",
   "execution_count": null,
   "metadata": {
    "id": "NVjnZabnDvcN",
    "outputId": "8be7810a-5de9-43c2-cade-394541f73495"
   },
   "outputs": [
    {
     "data": {
      "text/plain": "4"
     },
     "execution_count": 5,
     "metadata": {},
     "output_type": "execute_result"
    }
   ],
   "source": [
    "np.max(spikes)"
   ]
  },
  {
   "cell_type": "markdown",
   "metadata": {
    "id": "A-aZoj3EDvcN"
   },
   "source": [
    "We can sum over all the values in the array, or get the mean of all values as follows:"
   ]
  },
  {
   "cell_type": "code",
   "execution_count": null,
   "metadata": {
    "id": "uKyd2_WoDvcO",
    "outputId": "4303d801-26a4-4001-d0ad-9255f9349f0d"
   },
   "outputs": [
    {
     "data": {
      "text/plain": "10"
     },
     "execution_count": 6,
     "metadata": {},
     "output_type": "execute_result"
    }
   ],
   "source": [
    "np.sum(spikes)"
   ]
  },
  {
   "cell_type": "code",
   "execution_count": null,
   "metadata": {
    "id": "MsRkd1CpDvcO",
    "outputId": "ab6ecf23-92ec-45f7-bee1-923a4bc0a0b9"
   },
   "outputs": [
    {
     "data": {
      "text/plain": "1.6666666666666667"
     },
     "execution_count": 7,
     "metadata": {},
     "output_type": "execute_result"
    }
   ],
   "source": [
    "np.mean(spikes)"
   ]
  },
  {
   "cell_type": "markdown",
   "metadata": {
    "id": "C3IxOri_DvcO"
   },
   "source": [
    "# Axis-specific computations\n",
    "\n",
    "We might want to get the mean per column or per row, instead of over the whole array. We can do this with the following code:\n",
    "\n",
    "`np.mean(spikes, axis = ?)`\n",
    "\n",
    "Where the question mark is needs to be replaced with the axis that we want to compute over. \n",
    "\n",
    "The rows are axis 0, when we enter axis = 0 as an argument into the np.mean command, we are asking numpy to compute the mean over the rows (which would be the column means)\n",
    "\n",
    "![picture](https://raw.githubusercontent.com/ebatty/ComputationalBootcamp/master/images/axes.png)"
   ]
  },
  {
   "cell_type": "markdown",
   "metadata": {
    "id": "a0KSf-lkDvcP"
   },
   "source": [
    "We can get the mean over rows with:"
   ]
  },
  {
   "cell_type": "code",
   "execution_count": null,
   "metadata": {
    "id": "3bbgzS1yDvcP",
    "outputId": "883a721d-75d7-4705-bcf7-808af307e5dc"
   },
   "outputs": [
    {
     "data": {
      "text/plain": "array([0.66666667, 2.66666667])"
     },
     "execution_count": 8,
     "metadata": {},
     "output_type": "execute_result"
    }
   ],
   "source": [
    "np.mean(spikes, axis = 1)"
   ]
  },
  {
   "cell_type": "markdown",
   "metadata": {
    "id": "-lMotDJdDvcP"
   },
   "source": [
    "We can get the mean over columns with:"
   ]
  },
  {
   "cell_type": "code",
   "execution_count": null,
   "metadata": {
    "id": "V5KVWT9BDvcP",
    "outputId": "23aeaacc-d6c1-4cc5-e322-3d08bc6bba5b"
   },
   "outputs": [
    {
     "data": {
      "text/plain": "array([2., 2., 1.])"
     },
     "execution_count": 9,
     "metadata": {},
     "output_type": "execute_result"
    }
   ],
   "source": [
    "np.mean(spikes, axis = 0)"
   ]
  },
  {
   "cell_type": "markdown",
   "metadata": {
    "id": "ntKgtWiiDvcP"
   },
   "source": [
    "# Vectorization\n",
    "\n",
    "If you do something like a math operation on an array, it will do element-wise operation\n",
    "\n",
    "![picture](https://raw.githubusercontent.com/ebatty/ComputationalBootcamp/master/images/addition.png)"
   ]
  },
  {
   "cell_type": "code",
   "execution_count": null,
   "metadata": {
    "id": "XX8lPPwhDvcQ",
    "outputId": "be61461e-3b53-4190-9469-c8f4f3f52f38"
   },
   "outputs": [
    {
     "data": {
      "text/plain": "array([[2, 1, 2],\n       [4, 5, 2]])"
     },
     "execution_count": 10,
     "metadata": {},
     "output_type": "execute_result"
    }
   ],
   "source": [
    "spikes + 1"
   ]
  },
  {
   "cell_type": "markdown",
   "metadata": {
    "id": "4LPUtNvjDvcQ"
   },
   "source": [
    "If we do something like added two arrays of the same shape, that will also be element-wise.\n",
    "\n",
    "![picture](https://raw.githubusercontent.com/ebatty/ComputationalBootcamp/master/images/addition_two_arrays.png)"
   ]
  },
  {
   "cell_type": "code",
   "execution_count": null,
   "metadata": {
    "id": "ueRrFylaDvcQ",
    "outputId": "dc1de6a9-0524-4296-8040-f18d483e9a79"
   },
   "outputs": [
    {
     "data": {
      "text/plain": "array([[3, 3, 1],\n       [7, 5, 2]])"
     },
     "execution_count": 12,
     "metadata": {},
     "output_type": "execute_result"
    }
   ],
   "source": [
    "y = np.array([[2, 3, 0], [4, 1, 1]])\n",
    "\n",
    "spikes + y"
   ]
  },
  {
   "cell_type": "code",
   "execution_count": null,
   "metadata": {
    "id": "PJ1pMm_HDvcQ"
   },
   "outputs": [],
   "source": []
  }
 ]
}