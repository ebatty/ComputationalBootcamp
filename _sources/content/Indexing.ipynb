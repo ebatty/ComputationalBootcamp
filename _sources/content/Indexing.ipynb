{
 "metadata": {
  "kernelspec": {
   "name": "python3",
   "display_name": "Python 3 (ipykernel)",
   "language": "python"
  },
  "colab": {
   "provenance": [],
   "collapsed_sections": [],
   "include_colab_link": true
  }
 },
 "nbformat": 4,
 "nbformat_minor": 0,
 "cells": [
  {
   "cell_type": "markdown",
   "metadata": {
    "id": "view-in-github",
    "colab_type": "text"
   },
   "source": [
    "<a href=\"https://colab.research.google.com/github/ebatty/ComputationalBootcamp/blob/master/content/Indexing.ipynb\" target=\"_blank\"><img alt=\"Open In Colab\" src=\"https://colab.research.google.com/assets/colab-badge.svg\"/></a>"
   ]
  },
  {
   "cell_type": "markdown",
   "source": [
    "# Indexing"
   ],
   "metadata": {
    "id": "-RwdOhseR57X"
   }
  },
  {
   "cell_type": "code",
   "execution_count": 2,
   "metadata": {
    "id": "aBwOWff_RB58"
   },
   "outputs": [],
   "source": [
    "import numpy as np"
   ]
  },
  {
   "cell_type": "markdown",
   "metadata": {
    "id": "kQfExATzRB5_"
   },
   "source": [
    "Let's first create this array\n",
    "\n",
    "![picture](https://raw.githubusercontent.com/ebatty/ComputationalBootcamp/master/images/array.png)"
   ]
  },
  {
   "cell_type": "code",
   "execution_count": 3,
   "metadata": {
    "id": "L5pXSATpRB6A"
   },
   "outputs": [],
   "source": [
    "x = np.array([[4, 2, 1, 3], [1, 0, 3, 5], [6, 7, 8, 2]])"
   ]
  },
  {
   "cell_type": "markdown",
   "metadata": {
    "id": "D45Z3V-GRB6B"
   },
   "source": [
    "We can grab specific data points using:\n",
    "\n",
    "`x[row index, column index]`"
   ]
  },
  {
   "cell_type": "code",
   "execution_count": null,
   "metadata": {
    "id": "YTOiN9z5RB6B",
    "outputId": "92816fbc-0776-4a33-e8f5-e3ddcbb7b2e8"
   },
   "outputs": [
    {
     "data": {
      "text/plain": "7"
     },
     "execution_count": 3,
     "metadata": {},
     "output_type": "execute_result"
    }
   ],
   "source": [
    "x[2, 1]"
   ]
  },
  {
   "cell_type": "markdown",
   "metadata": {
    "id": "T-qBE065RB6C"
   },
   "source": [
    "We can grab multiple column values in one row with:\n",
    "```\n",
    "x[row index, start index:stop index*]\n",
    "```\n",
    "\n",
    "\\* not inclusive of stop index"
   ]
  },
  {
   "cell_type": "code",
   "execution_count": null,
   "metadata": {
    "id": "Kejkt4UNRB6D",
    "outputId": "fc47b961-4ef4-4e43-e6f0-e88dcb17f739"
   },
   "outputs": [
    {
     "data": {
      "text/plain": "array([2, 1])"
     },
     "execution_count": 4,
     "metadata": {},
     "output_type": "execute_result"
    }
   ],
   "source": [
    "x[0, 1:3]"
   ]
  },
  {
   "cell_type": "markdown",
   "metadata": {
    "id": "9poaVYc2RB6D"
   },
   "source": [
    "We can overwrite subsets of our array."
   ]
  },
  {
   "cell_type": "code",
   "execution_count": null,
   "metadata": {
    "id": "lkT24GvkRB6E"
   },
   "outputs": [],
   "source": [
    "x[0, 0] = 100"
   ]
  },
  {
   "cell_type": "code",
   "execution_count": null,
   "metadata": {
    "id": "hczm6r37RB6E",
    "outputId": "59b96d02-8fb4-49a8-dee0-65e281210884"
   },
   "outputs": [
    {
     "data": {
      "text/plain": "array([[100,   2,   1,   3],\n       [  1,   0,   3,   5],\n       [  6,   7,   8,   2]])"
     },
     "execution_count": 6,
     "metadata": {},
     "output_type": "execute_result"
    }
   ],
   "source": [
    "x"
   ]
  },
  {
   "cell_type": "code",
   "execution_count": null,
   "metadata": {
    "id": "zjiLSDpjRB6F"
   },
   "outputs": [],
   "source": [
    "x[0, :] = 100"
   ]
  },
  {
   "cell_type": "code",
   "execution_count": null,
   "metadata": {
    "id": "aLqMRBiERB6F",
    "outputId": "9278ac9d-0aee-4a02-cebd-fd9dbc70c8d9"
   },
   "outputs": [
    {
     "data": {
      "text/plain": "array([[100, 100, 100, 100],\n       [  1,   0,   3,   5],\n       [  6,   7,   8,   2]])"
     },
     "execution_count": 8,
     "metadata": {},
     "output_type": "execute_result"
    }
   ],
   "source": [
    "x"
   ]
  },
  {
   "cell_type": "markdown",
   "source": [
    "We can use Boolean indexing as well!"
   ],
   "metadata": {
    "id": "VpMbTHQiRnm7"
   }
  },
  {
   "cell_type": "code",
   "execution_count": 4,
   "metadata": {
    "colab": {
     "base_uri": "https://localhost:8080/"
    },
    "id": "y89dp-ubRB6F",
    "outputId": "1308782e-c218-4ba9-cc6d-40d325fbc266"
   },
   "outputs": [
    {
     "output_type": "execute_result",
     "data": {
      "text/plain": [
       "array([[False, False, False, False],\n",
       "       [False, False, False, False],\n",
       "       [False,  True,  True, False]])"
      ]
     },
     "metadata": {},
     "execution_count": 4
    }
   ],
   "source": [
    "x > 6"
   ]
  },
  {
   "cell_type": "code",
   "source": [
    "x[x > 6]"
   ],
   "metadata": {
    "colab": {
     "base_uri": "https://localhost:8080/"
    },
    "id": "J11dEH9zRpUu",
    "outputId": "be1add98-1afe-4947-8ced-fd1c6b5e52c4"
   },
   "execution_count": 5,
   "outputs": [
    {
     "output_type": "execute_result",
     "data": {
      "text/plain": [
       "array([7, 8])"
      ]
     },
     "metadata": {},
     "execution_count": 5
    }
   ]
  },
  {
   "cell_type": "code",
   "source": [
    "boolean_columns = np.array([False, False, True, True])\n",
    "\n",
    "x[:, boolean_columns]"
   ],
   "metadata": {
    "colab": {
     "base_uri": "https://localhost:8080/"
    },
    "id": "mTnctWJFRt0m",
    "outputId": "c93af984-1e95-4311-afbe-c4ba8dca981c"
   },
   "execution_count": 6,
   "outputs": [
    {
     "output_type": "execute_result",
     "data": {
      "text/plain": [
       "array([[1, 3],\n",
       "       [3, 5],\n",
       "       [8, 2]])"
      ]
     },
     "metadata": {},
     "execution_count": 6
    }
   ]
  },
  {
   "cell_type": "code",
   "source": [],
   "metadata": {
    "id": "CdjKm3FXR3Xs"
   },
   "execution_count": null,
   "outputs": []
  }
 ]
}